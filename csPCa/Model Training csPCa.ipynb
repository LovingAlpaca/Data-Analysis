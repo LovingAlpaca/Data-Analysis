{
 "cells": [
  {
   "cell_type": "markdown",
   "id": "bc30d5eb",
   "metadata": {},
   "source": [
    "# Data pre-processing"
   ]
  },
  {
   "cell_type": "code",
   "execution_count": null,
   "id": "078c021c",
   "metadata": {},
   "outputs": [],
   "source": [
    "import pandas as pd\n",
    "import numpy as np\n",
    "## Import pandas and numpy for processing dataframe"
   ]
  },
  {
   "cell_type": "code",
   "execution_count": 71,
   "id": "51a8b085",
   "metadata": {},
   "outputs": [],
   "source": [
    "## Read data and pre-processing##"
   ]
  },
  {
   "cell_type": "code",
   "execution_count": 72,
   "id": "345f8852",
   "metadata": {},
   "outputs": [],
   "source": [
    "df1 = pd.read_excel(\"C:/Users/cs321/Desktop/csPCa/1-s2.0-S2352340922008885-mmc1.xls\",sheet_name=0)\n",
    "df2 = pd.read_excel(\"C:/Users/cs321/Desktop/csPCa/1-s2.0-S2352340922008885-mmc1.xls\",sheet_name=1)\n",
    "##Read the data set"
   ]
  },
  {
   "cell_type": "code",
   "execution_count": 73,
   "id": "b603f51c",
   "metadata": {},
   "outputs": [
    {
     "data": {
      "text/html": [
       "<div>\n",
       "<style scoped>\n",
       "    .dataframe tbody tr th:only-of-type {\n",
       "        vertical-align: middle;\n",
       "    }\n",
       "\n",
       "    .dataframe tbody tr th {\n",
       "        vertical-align: top;\n",
       "    }\n",
       "\n",
       "    .dataframe thead th {\n",
       "        text-align: right;\n",
       "    }\n",
       "</style>\n",
       "<table border=\"1\" class=\"dataframe\">\n",
       "  <thead>\n",
       "    <tr style=\"text-align: right;\">\n",
       "      <th></th>\n",
       "      <th>Age</th>\n",
       "      <th>PSA</th>\n",
       "      <th>Volume</th>\n",
       "      <th>PSAD</th>\n",
       "      <th>PIRADS</th>\n",
       "      <th>ISUP</th>\n",
       "    </tr>\n",
       "  </thead>\n",
       "  <tbody>\n",
       "    <tr>\n",
       "      <th>0</th>\n",
       "      <td>48</td>\n",
       "      <td>2.91</td>\n",
       "      <td>50.0</td>\n",
       "      <td>0.058200</td>\n",
       "      <td>1</td>\n",
       "      <td>0</td>\n",
       "    </tr>\n",
       "    <tr>\n",
       "      <th>1</th>\n",
       "      <td>54</td>\n",
       "      <td>12.30</td>\n",
       "      <td>55.0</td>\n",
       "      <td>0.223636</td>\n",
       "      <td>2</td>\n",
       "      <td>0</td>\n",
       "    </tr>\n",
       "    <tr>\n",
       "      <th>2</th>\n",
       "      <td>69</td>\n",
       "      <td>5.91</td>\n",
       "      <td>37.2</td>\n",
       "      <td>0.158871</td>\n",
       "      <td>2</td>\n",
       "      <td>0</td>\n",
       "    </tr>\n",
       "    <tr>\n",
       "      <th>3</th>\n",
       "      <td>46</td>\n",
       "      <td>3.02</td>\n",
       "      <td>14.0</td>\n",
       "      <td>0.215714</td>\n",
       "      <td>2</td>\n",
       "      <td>0</td>\n",
       "    </tr>\n",
       "    <tr>\n",
       "      <th>4</th>\n",
       "      <td>65</td>\n",
       "      <td>5.64</td>\n",
       "      <td>102.5</td>\n",
       "      <td>0.055024</td>\n",
       "      <td>2</td>\n",
       "      <td>0</td>\n",
       "    </tr>\n",
       "  </tbody>\n",
       "</table>\n",
       "</div>"
      ],
      "text/plain": [
       "   Age    PSA  Volume      PSAD  PIRADS  ISUP\n",
       "0   48   2.91    50.0  0.058200       1     0\n",
       "1   54  12.30    55.0  0.223636       2     0\n",
       "2   69   5.91    37.2  0.158871       2     0\n",
       "3   46   3.02    14.0  0.215714       2     0\n",
       "4   65   5.64   102.5  0.055024       2     0"
      ]
     },
     "execution_count": 73,
     "metadata": {},
     "output_type": "execute_result"
    }
   ],
   "source": [
    "df1.head()\n",
    "## Check the dataset"
   ]
  },
  {
   "cell_type": "code",
   "execution_count": 74,
   "id": "a6601ad7",
   "metadata": {},
   "outputs": [
    {
     "data": {
      "text/html": [
       "<div>\n",
       "<style scoped>\n",
       "    .dataframe tbody tr th:only-of-type {\n",
       "        vertical-align: middle;\n",
       "    }\n",
       "\n",
       "    .dataframe tbody tr th {\n",
       "        vertical-align: top;\n",
       "    }\n",
       "\n",
       "    .dataframe thead th {\n",
       "        text-align: right;\n",
       "    }\n",
       "</style>\n",
       "<table border=\"1\" class=\"dataframe\">\n",
       "  <thead>\n",
       "    <tr style=\"text-align: right;\">\n",
       "      <th></th>\n",
       "      <th>PIRADS</th>\n",
       "      <th>Gleason_SB_TB</th>\n",
       "      <th>Gleason_TB</th>\n",
       "      <th>Gleason_SB</th>\n",
       "      <th>Scanner</th>\n",
       "      <th>IL_Localisation*</th>\n",
       "      <th>IL_Diameter*</th>\n",
       "    </tr>\n",
       "  </thead>\n",
       "  <tbody>\n",
       "    <tr>\n",
       "      <th>0</th>\n",
       "      <td>1.0</td>\n",
       "      <td>0</td>\n",
       "      <td>0.0</td>\n",
       "      <td>0.0</td>\n",
       "      <td>3.0</td>\n",
       "      <td>2</td>\n",
       "      <td>7.0</td>\n",
       "    </tr>\n",
       "    <tr>\n",
       "      <th>1</th>\n",
       "      <td>2.0</td>\n",
       "      <td>0</td>\n",
       "      <td>0.0</td>\n",
       "      <td>0.0</td>\n",
       "      <td>1.0</td>\n",
       "      <td>1</td>\n",
       "      <td>18.0</td>\n",
       "    </tr>\n",
       "    <tr>\n",
       "      <th>2</th>\n",
       "      <td>2.0</td>\n",
       "      <td>0</td>\n",
       "      <td>0.0</td>\n",
       "      <td>0.0</td>\n",
       "      <td>1.0</td>\n",
       "      <td>2</td>\n",
       "      <td>8.0</td>\n",
       "    </tr>\n",
       "    <tr>\n",
       "      <th>3</th>\n",
       "      <td>2.0</td>\n",
       "      <td>0</td>\n",
       "      <td>0.0</td>\n",
       "      <td>0.0</td>\n",
       "      <td>1.0</td>\n",
       "      <td>1</td>\n",
       "      <td>15.0</td>\n",
       "    </tr>\n",
       "    <tr>\n",
       "      <th>4</th>\n",
       "      <td>2.0</td>\n",
       "      <td>0</td>\n",
       "      <td>0.0</td>\n",
       "      <td>0.0</td>\n",
       "      <td>1.0</td>\n",
       "      <td>1</td>\n",
       "      <td>12.0</td>\n",
       "    </tr>\n",
       "  </tbody>\n",
       "</table>\n",
       "</div>"
      ],
      "text/plain": [
       "   PIRADS Gleason_SB_TB  Gleason_TB  Gleason_SB  Scanner IL_Localisation*  \\\n",
       "0     1.0             0         0.0         0.0      3.0                2   \n",
       "1     2.0             0         0.0         0.0      1.0                1   \n",
       "2     2.0             0         0.0         0.0      1.0                2   \n",
       "3     2.0             0         0.0         0.0      1.0                1   \n",
       "4     2.0             0         0.0         0.0      1.0                1   \n",
       "\n",
       "   IL_Diameter*  \n",
       "0           7.0  \n",
       "1          18.0  \n",
       "2           8.0  \n",
       "3          15.0  \n",
       "4          12.0  "
      ]
     },
     "execution_count": 74,
     "metadata": {},
     "output_type": "execute_result"
    }
   ],
   "source": [
    "df2.head()"
   ]
  },
  {
   "cell_type": "code",
   "execution_count": 75,
   "id": "fec70229",
   "metadata": {},
   "outputs": [
    {
     "name": "stdout",
     "output_type": "stream",
     "text": [
      "<class 'pandas.core.frame.DataFrame'>\n",
      "RangeIndex: 785 entries, 0 to 784\n",
      "Data columns (total 6 columns):\n",
      " #   Column  Non-Null Count  Dtype  \n",
      "---  ------  --------------  -----  \n",
      " 0   Age     785 non-null    int64  \n",
      " 1   PSA     774 non-null    float64\n",
      " 2   Volume  765 non-null    float64\n",
      " 3   PSAD    765 non-null    float64\n",
      " 4   PIRADS  785 non-null    int64  \n",
      " 5   ISUP    785 non-null    int64  \n",
      "dtypes: float64(3), int64(3)\n",
      "memory usage: 36.9 KB\n"
     ]
    }
   ],
   "source": [
    "df1.info()\n",
    "##Check the data type of the dataset features"
   ]
  },
  {
   "cell_type": "code",
   "execution_count": 76,
   "id": "14a565b5",
   "metadata": {},
   "outputs": [
    {
     "name": "stdout",
     "output_type": "stream",
     "text": [
      "<class 'pandas.core.frame.DataFrame'>\n",
      "RangeIndex: 787 entries, 0 to 786\n",
      "Data columns (total 7 columns):\n",
      " #   Column            Non-Null Count  Dtype  \n",
      "---  ------            --------------  -----  \n",
      " 0   PIRADS            785 non-null    float64\n",
      " 1   Gleason_SB_TB     786 non-null    object \n",
      " 2   Gleason_TB        785 non-null    float64\n",
      " 3   Gleason_SB        785 non-null    float64\n",
      " 4   Scanner           744 non-null    float64\n",
      " 5   IL_Localisation*  752 non-null    object \n",
      " 6   IL_Diameter*      758 non-null    float64\n",
      "dtypes: float64(5), object(2)\n",
      "memory usage: 43.2+ KB\n"
     ]
    }
   ],
   "source": [
    "df2.info()"
   ]
  },
  {
   "cell_type": "code",
   "execution_count": 77,
   "id": "91b820a3",
   "metadata": {},
   "outputs": [],
   "source": [
    "#df2 = df2.drop(df2.columns[[0]], axis = 1)\n",
    "df1.columns =['Age','PSA','Volume','PSAD','PIRADS_First','ISUP']\n",
    "df2.columns =['PIRADS_Biopsy','Gleason_SB_TB','Gleason_TB','Gleason_SB','Scanner','IL_Localisation','IL_Diameter']\n",
    "df = pd.concat([df1,df2],axis=1)\n",
    "##Connected Data Sets"
   ]
  },
  {
   "cell_type": "code",
   "execution_count": 78,
   "id": "5f07e347",
   "metadata": {},
   "outputs": [
    {
     "data": {
      "text/html": [
       "<div>\n",
       "<style scoped>\n",
       "    .dataframe tbody tr th:only-of-type {\n",
       "        vertical-align: middle;\n",
       "    }\n",
       "\n",
       "    .dataframe tbody tr th {\n",
       "        vertical-align: top;\n",
       "    }\n",
       "\n",
       "    .dataframe thead th {\n",
       "        text-align: right;\n",
       "    }\n",
       "</style>\n",
       "<table border=\"1\" class=\"dataframe\">\n",
       "  <thead>\n",
       "    <tr style=\"text-align: right;\">\n",
       "      <th></th>\n",
       "      <th>Age</th>\n",
       "      <th>PSA</th>\n",
       "      <th>Volume</th>\n",
       "      <th>PSAD</th>\n",
       "      <th>PIRADS_First</th>\n",
       "      <th>ISUP</th>\n",
       "      <th>PIRADS_Biopsy</th>\n",
       "      <th>Gleason_SB_TB</th>\n",
       "      <th>Gleason_TB</th>\n",
       "      <th>Gleason_SB</th>\n",
       "      <th>Scanner</th>\n",
       "      <th>IL_Localisation</th>\n",
       "      <th>IL_Diameter</th>\n",
       "    </tr>\n",
       "  </thead>\n",
       "  <tbody>\n",
       "    <tr>\n",
       "      <th>0</th>\n",
       "      <td>48.0</td>\n",
       "      <td>2.91</td>\n",
       "      <td>50.0</td>\n",
       "      <td>0.058200</td>\n",
       "      <td>1.0</td>\n",
       "      <td>0.0</td>\n",
       "      <td>1.0</td>\n",
       "      <td>0</td>\n",
       "      <td>0.0</td>\n",
       "      <td>0.0</td>\n",
       "      <td>3.0</td>\n",
       "      <td>2</td>\n",
       "      <td>7.0</td>\n",
       "    </tr>\n",
       "    <tr>\n",
       "      <th>1</th>\n",
       "      <td>54.0</td>\n",
       "      <td>12.30</td>\n",
       "      <td>55.0</td>\n",
       "      <td>0.223636</td>\n",
       "      <td>2.0</td>\n",
       "      <td>0.0</td>\n",
       "      <td>2.0</td>\n",
       "      <td>0</td>\n",
       "      <td>0.0</td>\n",
       "      <td>0.0</td>\n",
       "      <td>1.0</td>\n",
       "      <td>1</td>\n",
       "      <td>18.0</td>\n",
       "    </tr>\n",
       "    <tr>\n",
       "      <th>2</th>\n",
       "      <td>69.0</td>\n",
       "      <td>5.91</td>\n",
       "      <td>37.2</td>\n",
       "      <td>0.158871</td>\n",
       "      <td>2.0</td>\n",
       "      <td>0.0</td>\n",
       "      <td>2.0</td>\n",
       "      <td>0</td>\n",
       "      <td>0.0</td>\n",
       "      <td>0.0</td>\n",
       "      <td>1.0</td>\n",
       "      <td>2</td>\n",
       "      <td>8.0</td>\n",
       "    </tr>\n",
       "    <tr>\n",
       "      <th>3</th>\n",
       "      <td>46.0</td>\n",
       "      <td>3.02</td>\n",
       "      <td>14.0</td>\n",
       "      <td>0.215714</td>\n",
       "      <td>2.0</td>\n",
       "      <td>0.0</td>\n",
       "      <td>2.0</td>\n",
       "      <td>0</td>\n",
       "      <td>0.0</td>\n",
       "      <td>0.0</td>\n",
       "      <td>1.0</td>\n",
       "      <td>1</td>\n",
       "      <td>15.0</td>\n",
       "    </tr>\n",
       "    <tr>\n",
       "      <th>4</th>\n",
       "      <td>65.0</td>\n",
       "      <td>5.64</td>\n",
       "      <td>102.5</td>\n",
       "      <td>0.055024</td>\n",
       "      <td>2.0</td>\n",
       "      <td>0.0</td>\n",
       "      <td>2.0</td>\n",
       "      <td>0</td>\n",
       "      <td>0.0</td>\n",
       "      <td>0.0</td>\n",
       "      <td>1.0</td>\n",
       "      <td>1</td>\n",
       "      <td>12.0</td>\n",
       "    </tr>\n",
       "    <tr>\n",
       "      <th>...</th>\n",
       "      <td>...</td>\n",
       "      <td>...</td>\n",
       "      <td>...</td>\n",
       "      <td>...</td>\n",
       "      <td>...</td>\n",
       "      <td>...</td>\n",
       "      <td>...</td>\n",
       "      <td>...</td>\n",
       "      <td>...</td>\n",
       "      <td>...</td>\n",
       "      <td>...</td>\n",
       "      <td>...</td>\n",
       "      <td>...</td>\n",
       "    </tr>\n",
       "    <tr>\n",
       "      <th>782</th>\n",
       "      <td>67.0</td>\n",
       "      <td>12.87</td>\n",
       "      <td>44.5</td>\n",
       "      <td>0.289213</td>\n",
       "      <td>5.0</td>\n",
       "      <td>5.0</td>\n",
       "      <td>5.0</td>\n",
       "      <td>10</td>\n",
       "      <td>10.0</td>\n",
       "      <td>9.0</td>\n",
       "      <td>1.0</td>\n",
       "      <td>2</td>\n",
       "      <td>10.0</td>\n",
       "    </tr>\n",
       "    <tr>\n",
       "      <th>783</th>\n",
       "      <td>77.0</td>\n",
       "      <td>1.56</td>\n",
       "      <td>47.1</td>\n",
       "      <td>0.033121</td>\n",
       "      <td>5.0</td>\n",
       "      <td>5.0</td>\n",
       "      <td>5.0</td>\n",
       "      <td>10</td>\n",
       "      <td>10.0</td>\n",
       "      <td>10.0</td>\n",
       "      <td>1.0</td>\n",
       "      <td>1</td>\n",
       "      <td>18.0</td>\n",
       "    </tr>\n",
       "    <tr>\n",
       "      <th>784</th>\n",
       "      <td>65.0</td>\n",
       "      <td>6.34</td>\n",
       "      <td>25.0</td>\n",
       "      <td>0.253600</td>\n",
       "      <td>5.0</td>\n",
       "      <td>5.0</td>\n",
       "      <td>5.0</td>\n",
       "      <td>10</td>\n",
       "      <td>10.0</td>\n",
       "      <td>10.0</td>\n",
       "      <td>2.0</td>\n",
       "      <td>2</td>\n",
       "      <td>15.0</td>\n",
       "    </tr>\n",
       "    <tr>\n",
       "      <th>785</th>\n",
       "      <td>NaN</td>\n",
       "      <td>NaN</td>\n",
       "      <td>NaN</td>\n",
       "      <td>NaN</td>\n",
       "      <td>NaN</td>\n",
       "      <td>NaN</td>\n",
       "      <td>NaN</td>\n",
       "      <td>NaN</td>\n",
       "      <td>NaN</td>\n",
       "      <td>NaN</td>\n",
       "      <td>NaN</td>\n",
       "      <td>NaN</td>\n",
       "      <td>NaN</td>\n",
       "    </tr>\n",
       "    <tr>\n",
       "      <th>786</th>\n",
       "      <td>NaN</td>\n",
       "      <td>NaN</td>\n",
       "      <td>NaN</td>\n",
       "      <td>NaN</td>\n",
       "      <td>NaN</td>\n",
       "      <td>NaN</td>\n",
       "      <td>NaN</td>\n",
       "      <td>* Index Lesion (IL) is definded based on histo...</td>\n",
       "      <td>NaN</td>\n",
       "      <td>NaN</td>\n",
       "      <td>NaN</td>\n",
       "      <td>NaN</td>\n",
       "      <td>NaN</td>\n",
       "    </tr>\n",
       "  </tbody>\n",
       "</table>\n",
       "<p>787 rows × 13 columns</p>\n",
       "</div>"
      ],
      "text/plain": [
       "      Age    PSA  Volume      PSAD  PIRADS_First  ISUP  PIRADS_Biopsy  \\\n",
       "0    48.0   2.91    50.0  0.058200           1.0   0.0            1.0   \n",
       "1    54.0  12.30    55.0  0.223636           2.0   0.0            2.0   \n",
       "2    69.0   5.91    37.2  0.158871           2.0   0.0            2.0   \n",
       "3    46.0   3.02    14.0  0.215714           2.0   0.0            2.0   \n",
       "4    65.0   5.64   102.5  0.055024           2.0   0.0            2.0   \n",
       "..    ...    ...     ...       ...           ...   ...            ...   \n",
       "782  67.0  12.87    44.5  0.289213           5.0   5.0            5.0   \n",
       "783  77.0   1.56    47.1  0.033121           5.0   5.0            5.0   \n",
       "784  65.0   6.34    25.0  0.253600           5.0   5.0            5.0   \n",
       "785   NaN    NaN     NaN       NaN           NaN   NaN            NaN   \n",
       "786   NaN    NaN     NaN       NaN           NaN   NaN            NaN   \n",
       "\n",
       "                                         Gleason_SB_TB  Gleason_TB  \\\n",
       "0                                                    0         0.0   \n",
       "1                                                    0         0.0   \n",
       "2                                                    0         0.0   \n",
       "3                                                    0         0.0   \n",
       "4                                                    0         0.0   \n",
       "..                                                 ...         ...   \n",
       "782                                                 10        10.0   \n",
       "783                                                 10        10.0   \n",
       "784                                                 10        10.0   \n",
       "785                                                NaN         NaN   \n",
       "786  * Index Lesion (IL) is definded based on histo...         NaN   \n",
       "\n",
       "     Gleason_SB  Scanner IL_Localisation  IL_Diameter  \n",
       "0           0.0      3.0               2          7.0  \n",
       "1           0.0      1.0               1         18.0  \n",
       "2           0.0      1.0               2          8.0  \n",
       "3           0.0      1.0               1         15.0  \n",
       "4           0.0      1.0               1         12.0  \n",
       "..          ...      ...             ...          ...  \n",
       "782         9.0      1.0               2         10.0  \n",
       "783        10.0      1.0               1         18.0  \n",
       "784        10.0      2.0               2         15.0  \n",
       "785         NaN      NaN             NaN          NaN  \n",
       "786         NaN      NaN             NaN          NaN  \n",
       "\n",
       "[787 rows x 13 columns]"
      ]
     },
     "execution_count": 78,
     "metadata": {},
     "output_type": "execute_result"
    }
   ],
   "source": [
    "df.head(800)"
   ]
  },
  {
   "cell_type": "code",
   "execution_count": 79,
   "id": "9b13e509",
   "metadata": {},
   "outputs": [],
   "source": [
    "df.dropna(inplace=True) \n",
    "## Delete empty values"
   ]
  },
  {
   "cell_type": "code",
   "execution_count": 80,
   "id": "290a2b3b",
   "metadata": {},
   "outputs": [],
   "source": [
    "df[[\"Gleason_SB_TB\"]] = df[[\"Gleason_SB_TB\"]].astype(int)\n",
    "df = df.drop([414])\n",
    "df[[\"IL_Localisation\"]] = df[[\"IL_Localisation\"]].astype(int)\n",
    "##Converting feature data types"
   ]
  },
  {
   "cell_type": "code",
   "execution_count": 81,
   "id": "0dc9f130",
   "metadata": {},
   "outputs": [],
   "source": [
    "df[\"csPCa\"] = df[\"ISUP\"].map(lambda x: 1 if x>=2 else 0)\n",
    "##Judgment of csPCa by ISUP score >= 2"
   ]
  },
  {
   "cell_type": "code",
   "execution_count": 82,
   "id": "69ac9007",
   "metadata": {},
   "outputs": [
    {
     "name": "stdout",
     "output_type": "stream",
     "text": [
      "<class 'pandas.core.frame.DataFrame'>\n",
      "Int64Index: 717 entries, 0 to 784\n",
      "Data columns (total 14 columns):\n",
      " #   Column           Non-Null Count  Dtype  \n",
      "---  ------           --------------  -----  \n",
      " 0   Age              717 non-null    float64\n",
      " 1   PSA              717 non-null    float64\n",
      " 2   Volume           717 non-null    float64\n",
      " 3   PSAD             717 non-null    float64\n",
      " 4   PIRADS_First     717 non-null    float64\n",
      " 5   ISUP             717 non-null    float64\n",
      " 6   PIRADS_Biopsy    717 non-null    float64\n",
      " 7   Gleason_SB_TB    717 non-null    int32  \n",
      " 8   Gleason_TB       717 non-null    float64\n",
      " 9   Gleason_SB       717 non-null    float64\n",
      " 10  Scanner          717 non-null    float64\n",
      " 11  IL_Localisation  717 non-null    int32  \n",
      " 12  IL_Diameter      717 non-null    float64\n",
      " 13  csPCa            717 non-null    int64  \n",
      "dtypes: float64(11), int32(2), int64(1)\n",
      "memory usage: 78.4 KB\n"
     ]
    }
   ],
   "source": [
    "df.info()\n",
    "###Find Missing Values"
   ]
  },
  {
   "cell_type": "code",
   "execution_count": 83,
   "id": "b633238b",
   "metadata": {},
   "outputs": [
    {
     "data": {
      "text/plain": [
       "Age                0\n",
       "PSA                0\n",
       "Volume             0\n",
       "PSAD               0\n",
       "PIRADS_First       0\n",
       "ISUP               0\n",
       "PIRADS_Biopsy      0\n",
       "Gleason_SB_TB      0\n",
       "Gleason_TB         0\n",
       "Gleason_SB         0\n",
       "Scanner            0\n",
       "IL_Localisation    0\n",
       "IL_Diameter        0\n",
       "csPCa              0\n",
       "dtype: int64"
      ]
     },
     "execution_count": 83,
     "metadata": {},
     "output_type": "execute_result"
    }
   ],
   "source": [
    "df.isnull().sum()\n",
    "##View Null"
   ]
  },
  {
   "cell_type": "markdown",
   "id": "33c52dd0",
   "metadata": {},
   "source": [
    "# Statistical analysis of data"
   ]
  },
  {
   "cell_type": "code",
   "execution_count": 84,
   "id": "56fc7f81",
   "metadata": {},
   "outputs": [
    {
     "data": {
      "text/html": [
       "<div>\n",
       "<style scoped>\n",
       "    .dataframe tbody tr th:only-of-type {\n",
       "        vertical-align: middle;\n",
       "    }\n",
       "\n",
       "    .dataframe tbody tr th {\n",
       "        vertical-align: top;\n",
       "    }\n",
       "\n",
       "    .dataframe thead th {\n",
       "        text-align: right;\n",
       "    }\n",
       "</style>\n",
       "<table border=\"1\" class=\"dataframe\">\n",
       "  <thead>\n",
       "    <tr style=\"text-align: right;\">\n",
       "      <th></th>\n",
       "      <th>Age</th>\n",
       "      <th>PSA</th>\n",
       "      <th>Volume</th>\n",
       "      <th>PSAD</th>\n",
       "      <th>PIRADS_First</th>\n",
       "      <th>ISUP</th>\n",
       "      <th>PIRADS_Biopsy</th>\n",
       "      <th>Gleason_SB_TB</th>\n",
       "      <th>Gleason_TB</th>\n",
       "      <th>Gleason_SB</th>\n",
       "      <th>Scanner</th>\n",
       "      <th>IL_Localisation</th>\n",
       "      <th>IL_Diameter</th>\n",
       "      <th>csPCa</th>\n",
       "    </tr>\n",
       "  </thead>\n",
       "  <tbody>\n",
       "    <tr>\n",
       "      <th>count</th>\n",
       "      <td>717.000000</td>\n",
       "      <td>717.000000</td>\n",
       "      <td>717.000000</td>\n",
       "      <td>717.000000</td>\n",
       "      <td>717.000000</td>\n",
       "      <td>717.00000</td>\n",
       "      <td>717.000000</td>\n",
       "      <td>717.000000</td>\n",
       "      <td>717.000000</td>\n",
       "      <td>717.000000</td>\n",
       "      <td>717.000000</td>\n",
       "      <td>717.000000</td>\n",
       "      <td>717.000000</td>\n",
       "      <td>717.000000</td>\n",
       "    </tr>\n",
       "    <tr>\n",
       "      <th>mean</th>\n",
       "      <td>64.527197</td>\n",
       "      <td>10.087894</td>\n",
       "      <td>54.599861</td>\n",
       "      <td>0.223974</td>\n",
       "      <td>3.919107</td>\n",
       "      <td>1.32357</td>\n",
       "      <td>3.916318</td>\n",
       "      <td>3.920502</td>\n",
       "      <td>3.351464</td>\n",
       "      <td>3.022315</td>\n",
       "      <td>1.400279</td>\n",
       "      <td>1.576011</td>\n",
       "      <td>13.684798</td>\n",
       "      <td>0.414226</td>\n",
       "    </tr>\n",
       "    <tr>\n",
       "      <th>std</th>\n",
       "      <td>9.258600</td>\n",
       "      <td>7.194699</td>\n",
       "      <td>31.521768</td>\n",
       "      <td>0.200769</td>\n",
       "      <td>0.781515</td>\n",
       "      <td>1.47177</td>\n",
       "      <td>0.779431</td>\n",
       "      <td>3.532465</td>\n",
       "      <td>3.600402</td>\n",
       "      <td>3.491939</td>\n",
       "      <td>0.732448</td>\n",
       "      <td>0.688196</td>\n",
       "      <td>5.025461</td>\n",
       "      <td>0.492932</td>\n",
       "    </tr>\n",
       "    <tr>\n",
       "      <th>min</th>\n",
       "      <td>30.000000</td>\n",
       "      <td>0.600000</td>\n",
       "      <td>9.000000</td>\n",
       "      <td>0.015789</td>\n",
       "      <td>1.000000</td>\n",
       "      <td>0.00000</td>\n",
       "      <td>1.000000</td>\n",
       "      <td>0.000000</td>\n",
       "      <td>0.000000</td>\n",
       "      <td>0.000000</td>\n",
       "      <td>1.000000</td>\n",
       "      <td>1.000000</td>\n",
       "      <td>2.000000</td>\n",
       "      <td>0.000000</td>\n",
       "    </tr>\n",
       "    <tr>\n",
       "      <th>25%</th>\n",
       "      <td>58.000000</td>\n",
       "      <td>5.820000</td>\n",
       "      <td>33.000000</td>\n",
       "      <td>0.113816</td>\n",
       "      <td>3.000000</td>\n",
       "      <td>0.00000</td>\n",
       "      <td>3.000000</td>\n",
       "      <td>0.000000</td>\n",
       "      <td>0.000000</td>\n",
       "      <td>0.000000</td>\n",
       "      <td>1.000000</td>\n",
       "      <td>1.000000</td>\n",
       "      <td>11.000000</td>\n",
       "      <td>0.000000</td>\n",
       "    </tr>\n",
       "    <tr>\n",
       "      <th>50%</th>\n",
       "      <td>65.000000</td>\n",
       "      <td>8.030000</td>\n",
       "      <td>47.000000</td>\n",
       "      <td>0.171429</td>\n",
       "      <td>4.000000</td>\n",
       "      <td>1.00000</td>\n",
       "      <td>4.000000</td>\n",
       "      <td>6.000000</td>\n",
       "      <td>0.000000</td>\n",
       "      <td>0.000000</td>\n",
       "      <td>1.000000</td>\n",
       "      <td>1.000000</td>\n",
       "      <td>13.000000</td>\n",
       "      <td>0.000000</td>\n",
       "    </tr>\n",
       "    <tr>\n",
       "      <th>75%</th>\n",
       "      <td>72.000000</td>\n",
       "      <td>12.010000</td>\n",
       "      <td>66.000000</td>\n",
       "      <td>0.259709</td>\n",
       "      <td>4.000000</td>\n",
       "      <td>2.00000</td>\n",
       "      <td>4.000000</td>\n",
       "      <td>7.000000</td>\n",
       "      <td>7.000000</td>\n",
       "      <td>7.000000</td>\n",
       "      <td>2.000000</td>\n",
       "      <td>2.000000</td>\n",
       "      <td>15.000000</td>\n",
       "      <td>1.000000</td>\n",
       "    </tr>\n",
       "    <tr>\n",
       "      <th>max</th>\n",
       "      <td>87.000000</td>\n",
       "      <td>74.000000</td>\n",
       "      <td>313.000000</td>\n",
       "      <td>2.475769</td>\n",
       "      <td>5.000000</td>\n",
       "      <td>5.00000</td>\n",
       "      <td>5.000000</td>\n",
       "      <td>10.000000</td>\n",
       "      <td>10.000000</td>\n",
       "      <td>10.000000</td>\n",
       "      <td>4.000000</td>\n",
       "      <td>8.000000</td>\n",
       "      <td>43.000000</td>\n",
       "      <td>1.000000</td>\n",
       "    </tr>\n",
       "  </tbody>\n",
       "</table>\n",
       "</div>"
      ],
      "text/plain": [
       "              Age         PSA      Volume        PSAD  PIRADS_First  \\\n",
       "count  717.000000  717.000000  717.000000  717.000000    717.000000   \n",
       "mean    64.527197   10.087894   54.599861    0.223974      3.919107   \n",
       "std      9.258600    7.194699   31.521768    0.200769      0.781515   \n",
       "min     30.000000    0.600000    9.000000    0.015789      1.000000   \n",
       "25%     58.000000    5.820000   33.000000    0.113816      3.000000   \n",
       "50%     65.000000    8.030000   47.000000    0.171429      4.000000   \n",
       "75%     72.000000   12.010000   66.000000    0.259709      4.000000   \n",
       "max     87.000000   74.000000  313.000000    2.475769      5.000000   \n",
       "\n",
       "            ISUP  PIRADS_Biopsy  Gleason_SB_TB  Gleason_TB  Gleason_SB  \\\n",
       "count  717.00000     717.000000     717.000000  717.000000  717.000000   \n",
       "mean     1.32357       3.916318       3.920502    3.351464    3.022315   \n",
       "std      1.47177       0.779431       3.532465    3.600402    3.491939   \n",
       "min      0.00000       1.000000       0.000000    0.000000    0.000000   \n",
       "25%      0.00000       3.000000       0.000000    0.000000    0.000000   \n",
       "50%      1.00000       4.000000       6.000000    0.000000    0.000000   \n",
       "75%      2.00000       4.000000       7.000000    7.000000    7.000000   \n",
       "max      5.00000       5.000000      10.000000   10.000000   10.000000   \n",
       "\n",
       "          Scanner  IL_Localisation  IL_Diameter       csPCa  \n",
       "count  717.000000       717.000000   717.000000  717.000000  \n",
       "mean     1.400279         1.576011    13.684798    0.414226  \n",
       "std      0.732448         0.688196     5.025461    0.492932  \n",
       "min      1.000000         1.000000     2.000000    0.000000  \n",
       "25%      1.000000         1.000000    11.000000    0.000000  \n",
       "50%      1.000000         1.000000    13.000000    0.000000  \n",
       "75%      2.000000         2.000000    15.000000    1.000000  \n",
       "max      4.000000         8.000000    43.000000    1.000000  "
      ]
     },
     "execution_count": 84,
     "metadata": {},
     "output_type": "execute_result"
    }
   ],
   "source": [
    "df.describe()"
   ]
  },
  {
   "cell_type": "code",
   "execution_count": 85,
   "id": "97da43a9",
   "metadata": {},
   "outputs": [],
   "source": [
    "import seaborn as sns\n",
    "import matplotlib.pyplot as plt\n",
    "%matplotlib inline"
   ]
  },
  {
   "cell_type": "code",
   "execution_count": 159,
   "id": "cfc2d105",
   "metadata": {},
   "outputs": [
    {
     "data": {
      "text/plain": [
       "<AxesSubplot:>"
      ]
     },
     "execution_count": 159,
     "metadata": {},
     "output_type": "execute_result"
    },
    {
     "data": {
      "image/png": "[encoded data removed]",
      "text/plain": [
       "<Figure size 864x864 with 2 Axes>"
      ]
     },
     "metadata": {
      "needs_background": "light"
     },
     "output_type": "display_data"
    }
   ],
   "source": [
    "df_correlation = df[['Age','PSA','Volume','PSAD','PIRADS_First','PIRADS_Biopsy','Gleason_SB_TB','Gleason_TB','Gleason_SB','Scanner','IL_Localisation','IL_Diameter','csPCa']]\n",
    "plt.figure(figsize=(12,12))\n",
    "sns.heatmap(df_correlation.corr(),annot=True)\n",
    "##Generate correlation matrix"
   ]
  },
  {
   "cell_type": "code",
   "execution_count": 87,
   "id": "1bb0378d",
   "metadata": {},
   "outputs": [],
   "source": [
    "##The degree of effect of different features on csPCa can be seen in the correlation matrix,\n",
    "##and the degree of interaction between features"
   ]
  },
  {
   "cell_type": "code",
   "execution_count": 88,
   "id": "76730ec1",
   "metadata": {},
   "outputs": [],
   "source": [
    "##Feature Engineering"
   ]
  },
  {
   "cell_type": "code",
   "execution_count": 90,
   "id": "cf8bb0bc",
   "metadata": {},
   "outputs": [],
   "source": [
    "df[\"csPCa_SB\"] = df[\"Gleason_SB\"].map(lambda x: 1 if x>=7 else 0)\n",
    "df[\"csPCa_TB\"] = df[\"Gleason_TB\"].map(lambda x: 1 if x>=7 else 0)\n",
    "###Generate csPCa_SB and csPCa_TB for compare with SB and TB respectively later"
   ]
  },
  {
   "cell_type": "code",
   "execution_count": 91,
   "id": "9e55ee42",
   "metadata": {},
   "outputs": [],
   "source": [
    "###The following features exclude diagnostic strategies that have been calculated for the feature equation of ISUP with csPCa\n",
    "num_cols_MRI = ['Age','PSA','Volume','PSAD','PIRADS_First','IL_Localisation','IL_Diameter']\n",
    "### If csPCa is predicted from primary screening MRI data only\n",
    "num_cols_SB = ['Age','PSA','Volume','PSAD','PIRADS_First','Gleason_SB','IL_Localisation','IL_Diameter']\n",
    "###If the biopsy was done after passing the initial screening only systematic biopsy(SB)\n",
    "num_cols_TB = ['Age','PSA','Volume','PSAD','PIRADS_First','PIRADS_Biopsy','Gleason_TB','Scanner','IL_Localisation','IL_Diameter']\n",
    "###If the biopsy was done after passing the initial screening only MRI-targeted biopsy(TB) \n",
    "num_cols_SBTB = ['Age','PSA','Volume','PSAD','PIRADS_First','PIRADS_Biopsy','Gleason_SB_TB','Gleason_TB','Gleason_SB','Scanner','IL_Localisation','IL_Diameter']\n",
    "### If the biopsy was done after passing the initial screening TB+SB"
   ]
  },
  {
   "cell_type": "code",
   "execution_count": 92,
   "id": "8a69ee4f",
   "metadata": {},
   "outputs": [],
   "source": [
    "from sklearn.preprocessing import StandardScaler\n",
    "standardScaler = StandardScaler()\n",
    "##Numeric value field normalization"
   ]
  },
  {
   "cell_type": "code",
   "execution_count": 93,
   "id": "7ed1df72",
   "metadata": {},
   "outputs": [],
   "source": [
    "from sklearn.model_selection import train_test_split\n",
    "from sklearn.ensemble import RandomForestClassifier\n",
    "from sklearn.metrics import accuracy_score\n",
    "from sklearn.linear_model import RidgeClassifier\n",
    "from sklearn.metrics import classification_report\n",
    "###Import the library for dividing the training set and the test set\n",
    "###Import the sklearn library for RandomForestClassifier\n",
    "###Import the sklearn library for RidgeClassifier\n",
    "###Import the library for evaluating models"
   ]
  },
  {
   "cell_type": "code",
   "execution_count": 175,
   "id": "149ce16c",
   "metadata": {},
   "outputs": [
    {
     "name": "stdout",
     "output_type": "stream",
     "text": [
      "Random forest MRI\n",
      "Random forest training set score: 1.0\n",
      "Random Forest Test Set Score: 0.7421602787456446\n",
      "              precision    recall  f1-score   support\n",
      "\n",
      "           0       0.77      0.84      0.80       180\n",
      "           1       0.68      0.58      0.63       107\n",
      "\n",
      "    accuracy                           0.74       287\n",
      "   macro avg       0.73      0.71      0.71       287\n",
      "weighted avg       0.74      0.74      0.74       287\n",
      "\n",
      "\n",
      "Random Forest Systematic Biopsy\n",
      "Random forest training set score: 1.0\n",
      "Random Forest Test Set Score: 0.9547038327526133\n",
      "              precision    recall  f1-score   support\n",
      "\n",
      "           0       0.97      0.95      0.96       167\n",
      "           1       0.93      0.96      0.95       120\n",
      "\n",
      "    accuracy                           0.95       287\n",
      "   macro avg       0.95      0.96      0.95       287\n",
      "weighted avg       0.96      0.95      0.95       287\n",
      "\n",
      "\n",
      "Random Forest Targeted Biopsy\n",
      "Random forest training set score: 1.0\n",
      "Random Forest Test Set Score: 0.735191637630662\n",
      "              precision    recall  f1-score   support\n",
      "\n",
      "           0       0.74      0.81      0.78       162\n",
      "           1       0.72      0.63      0.68       125\n",
      "\n",
      "    accuracy                           0.74       287\n",
      "   macro avg       0.73      0.72      0.73       287\n",
      "weighted avg       0.73      0.74      0.73       287\n",
      "\n",
      "\n",
      "Random Forest SB+TB\n",
      "Random forest training set score: 1.0\n",
      "Random Forest Test Set Score: 0.9512195121951219\n",
      "              precision    recall  f1-score   support\n",
      "\n",
      "           0       0.97      0.95      0.96       170\n",
      "           1       0.93      0.96      0.94       117\n",
      "\n",
      "    accuracy                           0.95       287\n",
      "   macro avg       0.95      0.95      0.95       287\n",
      "weighted avg       0.95      0.95      0.95       287\n",
      "\n"
     ]
    }
   ],
   "source": [
    "def Random_Models(df,num_cols,Y,Bool_OutputModel):##Define a Random forest method to facilitate the application of different diagnostic strategies\n",
    "    num_features = standardScaler.fit_transform(df[num_cols])## Normalization of data ranges for features\n",
    "    X=num_features\n",
    "    X_train,X_test,Y_train,Y_test= train_test_split(X,Y,test_size=0.4)## Divide the training set and test set by 6 vs 4\n",
    "    random_model = RandomForestClassifier()## Define a RandomForestClassifier object,\n",
    "    random_model.fit(X_train,Y_train)##Matching training set\n",
    "    Y_pred = random_model.predict(X_test)##Assign the prediction result to Y_pred\n",
    "    random_train_score = random_model.score(X_train,Y_train)##Training set score\n",
    "    random_test_score=random_model.score(X_test,Y_test)##Test Set Score\n",
    "    print('Random forest training set score: '+str(random_train_score) +'\\nRandom Forest Test Set Score: '+str(random_test_score)+'\\n'+classification_report(Y_test, Y_pred))    \n",
    "    if Bool_OutputModel:\n",
    "        return random_model ##If 1 then return RandomForestClassifier object,If 0 only the evaluation report is returned\n",
    "    else:\n",
    "        return \n",
    "print('Random forest MRI')\n",
    "Random_Models(df,num_cols_MRI,df['csPCa'],0)\n",
    "print('\\nRandom Forest Systematic Biopsy')\n",
    "Random_Models(df,num_cols_SB,df['csPCa'],0)\n",
    "print('\\nRandom Forest Targeted Biopsy')\n",
    "Random_Models(df,num_cols_TB,df['csPCa'],0)\n",
    "print('\\nRandom Forest SB+TB')\n",
    "Random_Models(df,num_cols_SBTB,df['csPCa'],0)"
   ]
  },
  {
   "cell_type": "code",
   "execution_count": 172,
   "id": "3543cc71",
   "metadata": {},
   "outputs": [
    {
     "name": "stdout",
     "output_type": "stream",
     "text": [
      "Linear Classification MRI\n",
      "Linear regression training set score:0.7837209302325582\n",
      "Linear regression test set score: 0.7491289198606271\n",
      "              precision    recall  f1-score   support\n",
      "\n",
      "           0       0.72      0.91      0.81       163\n",
      "           1       0.82      0.53      0.65       124\n",
      "\n",
      "    accuracy                           0.75       287\n",
      "   macro avg       0.77      0.72      0.73       287\n",
      "weighted avg       0.77      0.75      0.74       287\n",
      "\n",
      "\n",
      "Linear Classification Systematic Biopsy\n",
      "Linear regression training set score:0.9465116279069767\n",
      "Linear regression test set score: 0.9442508710801394\n",
      "              precision    recall  f1-score   support\n",
      "\n",
      "           0       0.96      0.94      0.95       173\n",
      "           1       0.92      0.95      0.93       114\n",
      "\n",
      "    accuracy                           0.94       287\n",
      "   macro avg       0.94      0.94      0.94       287\n",
      "weighted avg       0.94      0.94      0.94       287\n",
      "\n",
      "\n",
      "Linear Classification Targeted Biopsy\n",
      "Linear regression training set score:0.7837209302325582\n",
      "Linear regression test set score: 0.759581881533101\n",
      "              precision    recall  f1-score   support\n",
      "\n",
      "           0       0.80      0.81      0.80       175\n",
      "           1       0.69      0.69      0.69       112\n",
      "\n",
      "    accuracy                           0.76       287\n",
      "   macro avg       0.75      0.75      0.75       287\n",
      "weighted avg       0.76      0.76      0.76       287\n",
      "\n",
      "\n",
      "Linear Classification SB+TB\n",
      "Linear regression training set score:0.9418604651162791\n",
      "Linear regression test set score: 0.9512195121951219\n",
      "              precision    recall  f1-score   support\n",
      "\n",
      "           0       0.97      0.94      0.96       161\n",
      "           1       0.93      0.96      0.95       126\n",
      "\n",
      "    accuracy                           0.95       287\n",
      "   macro avg       0.95      0.95      0.95       287\n",
      "weighted avg       0.95      0.95      0.95       287\n",
      "\n"
     ]
    }
   ],
   "source": [
    "##Define a LinearClassifier method to facilitate the application of different diagnostic strategies\n",
    "##The steps are the same as for Random Forest\n",
    "def Lr_Models(df,num_cols,Y,Bool_OutputModel):   \n",
    "    num_features = standardScaler.fit_transform(df[num_cols])\n",
    "    X=num_features\n",
    "    X_train,X_test,Y_train,Y_test= train_test_split(X,Y,test_size=0.4)\n",
    "    lr_model=RidgeClassifier()\n",
    "    lr_model.fit(X_train,Y_train)\n",
    "    lr_model.score(X_train,Y_train)\n",
    "    lr_model.score(X_test,Y_test)\n",
    "    Y_pred = lr_model.predict(X_test)\n",
    "    lr_train_score = lr_model.score(X_train,Y_train)\n",
    "    lr_test_score=lr_model.score(X_test,Y_test)\n",
    "    print('Linear regression training set score:'+str(lr_train_score) +'\\nLinear regression test set score: '+str(lr_test_score)+'\\n'+classification_report(Y_test, Y_pred))\n",
    "    if Bool_OutputModel:\n",
    "        return lr_model\n",
    "    else:\n",
    "        return \n",
    "print('Linear Classification MRI')\n",
    "Lr_Models(df,num_cols_MRI,df['csPCa'],0)\n",
    "print('\\nLinear Classification Systematic Biopsy')\n",
    "Lr_Models(df,num_cols_SB,df['csPCa'],0)\n",
    "print('\\nLinear Classification Targeted Biopsy')\n",
    "Lr_Models(df,num_cols_TB,df['csPCa'],0)\n",
    "print('\\nLinear Classification SB+TB')\n",
    "Lr_Models(df,num_cols_SBTB,df['csPCa'],0)"
   ]
  },
  {
   "cell_type": "markdown",
   "id": "ef7addce",
   "metadata": {},
   "source": [
    "# Comparison with SB and MRI-TB"
   ]
  },
  {
   "cell_type": "code",
   "execution_count": 165,
   "id": "cbd83da6",
   "metadata": {},
   "outputs": [
    {
     "data": {
      "image/png": "[encoded data removed]",
      "text/plain": [
       "<Figure size 432x288 with 2 Axes>"
      ]
     },
     "metadata": {
      "needs_background": "light"
     },
     "output_type": "display_data"
    }
   ],
   "source": [
    "from sklearn.metrics import confusion_matrix\n",
    "from sklearn.metrics import ConfusionMatrixDisplay\n",
    "import matplotlib.pyplot as plt\n",
    "\n",
    "num_features = standardScaler.fit_transform(df[num_cols_SBTB])## Normalization of data ranges for features\n",
    "X=num_features\n",
    "X_train,X_test,Y_train,Y_test= train_test_split(X,df['csPCa'],test_size=0.4)## Divide the training set and test set by 6 vs 4\n",
    "random_model = RandomForestClassifier()## Define a RandomForestClassifier object,\n",
    "random_model.fit(X_train,Y_train)##Matching training set\n",
    "Y_predict = random_model.predict(X)##Assign the prediction result to Y_pred\n",
    "##ConfusionMatrixDisplay.from_predictions(df['csPCa'],Y_predict) ##Requires sklearn version 1.0 or higher\n",
    "\n",
    "##Confusion matrix Compare random forest with csPCa\n",
    "random_forest_SBTB_cf_matrix = confusion_matrix(df['csPCa'],Y_predict)\n",
    "random_forest_SBTB_cm_display = ConfusionMatrixDisplay(confusion_matrix = random_forest_SBTB_cf_matrix, display_labels = [True, False])\n",
    "random_forest_SBTB_cm_display.plot()\n",
    "plt.show()"
   ]
  },
  {
   "cell_type": "markdown",
   "id": "95777d0b",
   "metadata": {},
   "source": [
    "It can be seen that the prediction sensitivity of the model for the feature csPCa in the overall dataset is(407/(407+13) ≈ 97%)\n",
    "\n",
    "It can be seen that the prediction specificity of the model for the overall dataset features csPCa is(294/(294+3) ≈ 98.9%)\n",
    "\n",
    "It can be seen that the accuracy of the model for the overall dataset features csPCa is((407+294)/(407+13+294+3) ≈ 97.7%)\n",
    "\n",
    "Note that this prediction includes 60% of the training set\n",
    "\n",
    "For the test set\n",
    "Sensitivity of the model on the test set is 96%\n",
    "\n",
    "specificity of the model on the test set is 93%\n",
    "\n",
    "accuracy of the model on the test set is 94%\n",
    "\n",
    "Note the model results may vary by 2% depending on the seed"
   ]
  },
  {
   "cell_type": "code",
   "execution_count": 166,
   "id": "7bebb16c",
   "metadata": {},
   "outputs": [
    {
     "data": {
      "image/png": "[encoded data removed]",
      "text/plain": [
       "<Figure size 432x288 with 2 Axes>"
      ]
     },
     "metadata": {
      "needs_background": "light"
     },
     "output_type": "display_data"
    }
   ],
   "source": [
    "##Confusion matrix Compare Gleason_SB with csPCa\n",
    "gleason_SB_cf_matrix = confusion_matrix(df['csPCa'],df['csPCa_SB'])\n",
    "gleason_SB_cm_display = ConfusionMatrixDisplay(confusion_matrix = gleason_SB_cf_matrix, display_labels = [True, False])\n",
    "gleason_SB_cm_display.plot()\n",
    "plt.show()"
   ]
  },
  {
   "cell_type": "markdown",
   "id": "121e34fd",
   "metadata": {},
   "source": [
    "It can be seen that the prediction sensitivity of the Gleason_SB for the feature csPCa in the overall dataset is(394/(394+26) ≈ 93.8%)\n",
    "\n",
    "It can be seen that the prediction specificity of the Gleason_SB for the overall dataset features csPCa is(183/(183+114) ≈ 61.6%)\n",
    "\n",
    "It can be seen that the accuracy of the Gleason_SB for the overall dataset features csPCa is((394+183)/(394+26+183+114) ≈ 80.4%)"
   ]
  },
  {
   "cell_type": "code",
   "execution_count": 169,
   "id": "b4463b68",
   "metadata": {},
   "outputs": [
    {
     "data": {
      "image/png": "[encoded data removed]",
      "text/plain": [
       "<Figure size 432x288 with 2 Axes>"
      ]
     },
     "metadata": {
      "needs_background": "light"
     },
     "output_type": "display_data"
    }
   ],
   "source": [
    "##Confusion matrix Compare Gleason_TB with csPCa\n",
    "gleason_TB_cf_matrix = confusion_matrix(df['csPCa'],df['csPCa_TB'])\n",
    "gleason_TB_cm_display = ConfusionMatrixDisplay(confusion_matrix = gleason_TB_cf_matrix, display_labels = [True, False])\n",
    "gleason_TB_cm_display.plot()\n",
    "plt.show()"
   ]
  },
  {
   "cell_type": "markdown",
   "id": "b810f45d",
   "metadata": {},
   "source": [
    "It can be seen that the prediction sensitivity of the Gleason_TB for the feature csPCa in the overall dataset is(341/(341+79) ≈ 81.2%)\n",
    "\n",
    "It can be seen that the prediction specificity of the Gleason_TB for the overall dataset features csPCa is(177/(177+120) ≈ 59.6%)\n",
    "\n",
    "It can be seen that the accuracy of the Gleason_TB for the overall dataset features csPCa is((341+177)/(341+79+177+120) ≈ 72.2%)"
   ]
  },
  {
   "cell_type": "markdown",
   "id": "1a0ed936",
   "metadata": {},
   "source": [
    "# Model export for deployment"
   ]
  },
  {
   "cell_type": "code",
   "execution_count": 63,
   "id": "b560ae8c",
   "metadata": {},
   "outputs": [],
   "source": [
    "model_dir = \"C:/Users/cs321/Desktop/csPCa\"\n",
    "import joblib"
   ]
  },
  {
   "cell_type": "code",
   "execution_count": 64,
   "id": "b1b2824e",
   "metadata": {},
   "outputs": [
    {
     "name": "stdout",
     "output_type": "stream",
     "text": [
      "Random forest training set score: 1.0\n",
      "Random Forest Test Set Score: 0.7456445993031359\n",
      "              precision    recall  f1-score   support\n",
      "\n",
      "           0       0.72      0.88      0.79       155\n",
      "           1       0.80      0.59      0.68       132\n",
      "\n",
      "    accuracy                           0.75       287\n",
      "   macro avg       0.76      0.73      0.73       287\n",
      "weighted avg       0.76      0.75      0.74       287\n",
      "\n"
     ]
    },
    {
     "data": {
      "text/plain": [
       "['C:/Users/cs321/Desktop/Model/Random_Models_MRI.joblib']"
      ]
     },
     "execution_count": 64,
     "metadata": {},
     "output_type": "execute_result"
    }
   ],
   "source": [
    "num_features = standardScaler.fit_transform(df[num_cols_MRI])\n",
    "joblib.dump(standardScaler,f\"{model_dir}/standardScaler_MRI.joblib\")\n",
    "joblib.dump(Random_Models(df,num_cols_MRI,df['csPCa'],1),f\"{model_dir}/Random_Models_MRI.joblib\")"
   ]
  },
  {
   "cell_type": "code",
   "execution_count": 65,
   "id": "5381acb8",
   "metadata": {},
   "outputs": [
    {
     "name": "stdout",
     "output_type": "stream",
     "text": [
      "Random forest training set score: 1.0\n",
      "Random Forest Test Set Score: 0.9303135888501742\n",
      "              precision    recall  f1-score   support\n",
      "\n",
      "           0       0.93      0.93      0.93       152\n",
      "           1       0.93      0.93      0.93       135\n",
      "\n",
      "    accuracy                           0.93       287\n",
      "   macro avg       0.93      0.93      0.93       287\n",
      "weighted avg       0.93      0.93      0.93       287\n",
      "\n"
     ]
    },
    {
     "data": {
      "text/plain": [
       "['C:/Users/cs321/Desktop/Model/Random_Models_SB.joblib']"
      ]
     },
     "execution_count": 65,
     "metadata": {},
     "output_type": "execute_result"
    }
   ],
   "source": [
    "num_features = standardScaler.fit_transform(df[num_cols_SB])\n",
    "joblib.dump(standardScaler,f\"{model_dir}/standardScaler_SB.joblib\")\n",
    "joblib.dump(Random_Models(df,num_cols_SB,df['csPCa'],1),f\"{model_dir}/Random_Models_SB.joblib\")"
   ]
  },
  {
   "cell_type": "code",
   "execution_count": 66,
   "id": "8090f9b9",
   "metadata": {},
   "outputs": [
    {
     "name": "stdout",
     "output_type": "stream",
     "text": [
      "Random forest training set score: 1.0\n",
      "Random Forest Test Set Score: 0.7456445993031359\n",
      "              precision    recall  f1-score   support\n",
      "\n",
      "           0       0.76      0.84      0.80       169\n",
      "           1       0.73      0.61      0.66       118\n",
      "\n",
      "    accuracy                           0.75       287\n",
      "   macro avg       0.74      0.73      0.73       287\n",
      "weighted avg       0.74      0.75      0.74       287\n",
      "\n"
     ]
    },
    {
     "data": {
      "text/plain": [
       "['C:/Users/cs321/Desktop/Model/Random_Models_TB.joblib']"
      ]
     },
     "execution_count": 66,
     "metadata": {},
     "output_type": "execute_result"
    }
   ],
   "source": [
    "num_features = standardScaler.fit_transform(df[num_cols_TB])\n",
    "joblib.dump(standardScaler,f\"{model_dir}/standardScaler_TB.joblib\")\n",
    "joblib.dump(Random_Models(df,num_cols_TB,df['csPCa'],1),f\"{model_dir}/Random_Models_TB.joblib\")"
   ]
  },
  {
   "cell_type": "code",
   "execution_count": 67,
   "id": "e77e5de9",
   "metadata": {},
   "outputs": [
    {
     "name": "stdout",
     "output_type": "stream",
     "text": [
      "Random forest training set score: 1.0\n",
      "Random Forest Test Set Score: 0.9477351916376306\n",
      "              precision    recall  f1-score   support\n",
      "\n",
      "           0       0.93      0.98      0.95       161\n",
      "           1       0.97      0.91      0.94       126\n",
      "\n",
      "    accuracy                           0.95       287\n",
      "   macro avg       0.95      0.94      0.95       287\n",
      "weighted avg       0.95      0.95      0.95       287\n",
      "\n"
     ]
    },
    {
     "data": {
      "text/plain": [
       "['C:/Users/cs321/Desktop/Model/Random_Models_SBTB.joblib']"
      ]
     },
     "execution_count": 67,
     "metadata": {},
     "output_type": "execute_result"
    }
   ],
   "source": [
    "num_features = standardScaler.fit_transform(df[num_cols_SBTB])\n",
    "joblib.dump(standardScaler,f\"{model_dir}/standardScaler_SBTB.joblib\")\n",
    "joblib.dump(Random_Models(df,num_cols_SBTB,df['csPCa'],1),f\"{model_dir}/Random_Models_SBTB.joblib\")"
   ]
  },
  {
   "cell_type": "code",
   "execution_count": 68,
   "id": "37fb97aa",
   "metadata": {},
   "outputs": [
    {
     "data": {
      "text/plain": [
       "'{\"Age\":{\"615\":57.0},\"PSA\":{\"615\":14.97},\"Volume\":{\"615\":84.0},\"PSAD\":{\"615\":0.1782142857},\"PIRADS_First\":{\"615\":5.0},\"ISUP\":{\"615\":1.0},\"PIRADS_Biopsy\":{\"615\":4.0},\"Gleason_SB_TB\":{\"615\":7},\"Gleason_TB\":{\"615\":7.0},\"Gleason_SB\":{\"615\":7.0},\"Scanner\":{\"615\":3.0},\"IL_Localisation\":{\"615\":1},\"IL_Diameter\":{\"615\":14.0},\"csPCa\":{\"615\":0}}'"
      ]
     },
     "execution_count": 68,
     "metadata": {},
     "output_type": "execute_result"
    }
   ],
   "source": [
    "df.sample(1).to_json()"
   ]
  },
  {
   "cell_type": "code",
   "execution_count": null,
   "id": "d572d6a9",
   "metadata": {},
   "outputs": [],
   "source": []
  },
  {
   "cell_type": "code",
   "execution_count": null,
   "id": "cba9ed35",
   "metadata": {},
   "outputs": [],
   "source": []
  }
 ],
 "metadata": {
  "kernelspec": {
   "display_name": "Python 3 (ipykernel)",
   "language": "python",
   "name": "python3"
  },
  "language_info": {
   "codemirror_mode": {
    "name": "ipython",
    "version": 3
   },
   "file_extension": ".py",
   "mimetype": "text/x-python",
   "name": "python",
   "nbconvert_exporter": "python",
   "pygments_lexer": "ipython3",
   "version": "3.9.7"
  }
 },
 "nbformat": 4,
 "nbformat_minor": 5
}
