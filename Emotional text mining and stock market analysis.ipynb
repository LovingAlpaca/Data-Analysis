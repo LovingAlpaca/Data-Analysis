{
 "cells": [
  {
   "cell_type": "code",
   "execution_count": 33,
   "id": "7eec11ed",
   "metadata": {},
   "outputs": [],
   "source": [
    "import pandas as pd\n",
    "import numpy as np\n",
    "from sklearn.feature_extraction.text import CountVectorizer\n",
    "import pandas as pd\n",
    "import numpy as np\n",
    "from textblob import TextBlob\n",
    "import re\n",
    "from vaderSentiment.vaderSentiment import SentimentIntensityAnalyzer\n",
    "from sklearn.model_selection import train_test_split\n",
    "from sklearn.metrics import accuracy_score, classification_report\n",
    "from sklearn.discriminant_analysis import LinearDiscriminantAnalysis\n",
    "##Import Library"
   ]
  },
  {
   "cell_type": "code",
   "execution_count": 34,
   "id": "c8bb3d4d",
   "metadata": {},
   "outputs": [],
   "source": [
    "##Load data\n",
    "data = pd.read_csv('C:/Users/cs321/Desktop/data2.csv',encoding= 'unicode_escape')"
   ]
  },
  {
   "cell_type": "code",
   "execution_count": 35,
   "id": "0d4dca74",
   "metadata": {},
   "outputs": [
    {
     "data": {
      "text/html": [
       "<div>\n",
       "<style scoped>\n",
       "    .dataframe tbody tr th:only-of-type {\n",
       "        vertical-align: middle;\n",
       "    }\n",
       "\n",
       "    .dataframe tbody tr th {\n",
       "        vertical-align: top;\n",
       "    }\n",
       "\n",
       "    .dataframe thead th {\n",
       "        text-align: right;\n",
       "    }\n",
       "</style>\n",
       "<table border=\"1\" class=\"dataframe\">\n",
       "  <thead>\n",
       "    <tr style=\"text-align: right;\">\n",
       "      <th></th>\n",
       "      <th>Date</th>\n",
       "      <th>title</th>\n",
       "      <th>Up or Down</th>\n",
       "      <th>Trading volume</th>\n",
       "      <th>High</th>\n",
       "      <th>Low</th>\n",
       "      <th>Opening</th>\n",
       "      <th>Closing</th>\n",
       "    </tr>\n",
       "  </thead>\n",
       "  <tbody>\n",
       "    <tr>\n",
       "      <th>0</th>\n",
       "      <td>2011/1/3</td>\n",
       "      <td>['Punjab(Pakistan) governor Salman Taseer assa...</td>\n",
       "      <td>0.0018</td>\n",
       "      <td>178.63</td>\n",
       "      <td>11698.22</td>\n",
       "      <td>11635.74</td>\n",
       "      <td>11670.90</td>\n",
       "      <td>11691.18</td>\n",
       "    </tr>\n",
       "    <tr>\n",
       "      <th>1</th>\n",
       "      <td>2011/1/4</td>\n",
       "      <td>['Cable from the U.S. Embassy in Tel Aviv says...</td>\n",
       "      <td>0.0027</td>\n",
       "      <td>169.99</td>\n",
       "      <td>11742.68</td>\n",
       "      <td>11652.89</td>\n",
       "      <td>11688.61</td>\n",
       "      <td>11722.89</td>\n",
       "    </tr>\n",
       "    <tr>\n",
       "      <th>2</th>\n",
       "      <td>2011/1/5</td>\n",
       "      <td>['Italy becomes the first country to ban plast...</td>\n",
       "      <td>-0.0022</td>\n",
       "      <td>193.08</td>\n",
       "      <td>11736.74</td>\n",
       "      <td>11667.46</td>\n",
       "      <td>11716.93</td>\n",
       "      <td>11697.31</td>\n",
       "    </tr>\n",
       "    <tr>\n",
       "      <th>3</th>\n",
       "      <td>2011/1/6</td>\n",
       "      <td>['Egypt's Muslims attend Coptic Christmas mass...</td>\n",
       "      <td>-0.0019</td>\n",
       "      <td>188.72</td>\n",
       "      <td>11726.94</td>\n",
       "      <td>11599.68</td>\n",
       "      <td>11696.86</td>\n",
       "      <td>11674.76</td>\n",
       "    </tr>\n",
       "    <tr>\n",
       "      <th>4</th>\n",
       "      <td>2011/1/7</td>\n",
       "      <td>['Russia's Murrow moment - Leonid Parfyonov's ...</td>\n",
       "      <td>-0.0032</td>\n",
       "      <td>150.34</td>\n",
       "      <td>11677.33</td>\n",
       "      <td>11573.87</td>\n",
       "      <td>11672.34</td>\n",
       "      <td>11637.45</td>\n",
       "    </tr>\n",
       "  </tbody>\n",
       "</table>\n",
       "</div>"
      ],
      "text/plain": [
       "       Date                                              title  Up or Down  \\\n",
       "0  2011/1/3  ['Punjab(Pakistan) governor Salman Taseer assa...      0.0018   \n",
       "1  2011/1/4  ['Cable from the U.S. Embassy in Tel Aviv says...      0.0027   \n",
       "2  2011/1/5  ['Italy becomes the first country to ban plast...     -0.0022   \n",
       "3  2011/1/6  ['Egypt's Muslims attend Coptic Christmas mass...     -0.0019   \n",
       "4  2011/1/7  ['Russia's Murrow moment - Leonid Parfyonov's ...     -0.0032   \n",
       "\n",
       "   Trading volume      High       Low   Opening   Closing  \n",
       "0          178.63  11698.22  11635.74  11670.90  11691.18  \n",
       "1          169.99  11742.68  11652.89  11688.61  11722.89  \n",
       "2          193.08  11736.74  11667.46  11716.93  11697.31  \n",
       "3          188.72  11726.94  11599.68  11696.86  11674.76  \n",
       "4          150.34  11677.33  11573.87  11672.34  11637.45  "
      ]
     },
     "execution_count": 35,
     "metadata": {},
     "output_type": "execute_result"
    }
   ],
   "source": [
    "data.head()\n",
    "##title ##Up or Down ##Trading volume ##High ##Low ##Opening ##Closing \n",
    "#These features are stock market and news information for the day before the corresponding date"
   ]
  },
  {
   "cell_type": "code",
   "execution_count": 36,
   "id": "c180b944",
   "metadata": {},
   "outputs": [],
   "source": [
    "# create function to get the sentiment score:\n",
    "\n",
    "def getSIA(text):\n",
    "    sia = SentimentIntensityAnalyzer()\n",
    "    sentiment= sia.polarity_scores(text)\n",
    "    return sentiment"
   ]
  },
  {
   "cell_type": "code",
   "execution_count": 37,
   "id": "52695365",
   "metadata": {},
   "outputs": [],
   "source": [
    "# get Sentiment score for each day:\n",
    "compound=[]\n",
    "neg=[]\n",
    "pos=[]\n",
    "neu=[]\n",
    "SIA=0\n",
    "\n",
    "for i in range (0, len(data['title'])):\n",
    "    SIA= getSIA(data['title'][i])\n",
    "    compound.append(SIA['compound'])\n",
    "    neg.append(SIA['neg'])\n",
    "    pos.append(SIA['pos'])\n",
    "    neu.append(SIA['neu'])"
   ]
  },
  {
   "cell_type": "code",
   "execution_count": 38,
   "id": "345f886f",
   "metadata": {},
   "outputs": [
    {
     "data": {
      "text/html": [
       "<div>\n",
       "<style scoped>\n",
       "    .dataframe tbody tr th:only-of-type {\n",
       "        vertical-align: middle;\n",
       "    }\n",
       "\n",
       "    .dataframe tbody tr th {\n",
       "        vertical-align: top;\n",
       "    }\n",
       "\n",
       "    .dataframe thead th {\n",
       "        text-align: right;\n",
       "    }\n",
       "</style>\n",
       "<table border=\"1\" class=\"dataframe\">\n",
       "  <thead>\n",
       "    <tr style=\"text-align: right;\">\n",
       "      <th></th>\n",
       "      <th>Date</th>\n",
       "      <th>title</th>\n",
       "      <th>Up or Down</th>\n",
       "      <th>Trading volume</th>\n",
       "      <th>High</th>\n",
       "      <th>Low</th>\n",
       "      <th>Opening</th>\n",
       "      <th>Closing</th>\n",
       "      <th>compound</th>\n",
       "      <th>neg</th>\n",
       "      <th>pos</th>\n",
       "      <th>neu</th>\n",
       "    </tr>\n",
       "  </thead>\n",
       "  <tbody>\n",
       "    <tr>\n",
       "      <th>0</th>\n",
       "      <td>2011/1/3</td>\n",
       "      <td>['Punjab(Pakistan) governor Salman Taseer assa...</td>\n",
       "      <td>0.0018</td>\n",
       "      <td>178.63</td>\n",
       "      <td>11698.22</td>\n",
       "      <td>11635.74</td>\n",
       "      <td>11670.90</td>\n",
       "      <td>11691.18</td>\n",
       "      <td>-0.9883</td>\n",
       "      <td>0.107</td>\n",
       "      <td>0.055</td>\n",
       "      <td>0.839</td>\n",
       "    </tr>\n",
       "    <tr>\n",
       "      <th>1</th>\n",
       "      <td>2011/1/4</td>\n",
       "      <td>['Cable from the U.S. Embassy in Tel Aviv says...</td>\n",
       "      <td>0.0027</td>\n",
       "      <td>169.99</td>\n",
       "      <td>11742.68</td>\n",
       "      <td>11652.89</td>\n",
       "      <td>11688.61</td>\n",
       "      <td>11722.89</td>\n",
       "      <td>-0.9966</td>\n",
       "      <td>0.163</td>\n",
       "      <td>0.069</td>\n",
       "      <td>0.768</td>\n",
       "    </tr>\n",
       "    <tr>\n",
       "      <th>2</th>\n",
       "      <td>2011/1/5</td>\n",
       "      <td>['Italy becomes the first country to ban plast...</td>\n",
       "      <td>-0.0022</td>\n",
       "      <td>193.08</td>\n",
       "      <td>11736.74</td>\n",
       "      <td>11667.46</td>\n",
       "      <td>11716.93</td>\n",
       "      <td>11697.31</td>\n",
       "      <td>-0.9983</td>\n",
       "      <td>0.257</td>\n",
       "      <td>0.037</td>\n",
       "      <td>0.705</td>\n",
       "    </tr>\n",
       "    <tr>\n",
       "      <th>3</th>\n",
       "      <td>2011/1/6</td>\n",
       "      <td>['Egypt's Muslims attend Coptic Christmas mass...</td>\n",
       "      <td>-0.0019</td>\n",
       "      <td>188.72</td>\n",
       "      <td>11726.94</td>\n",
       "      <td>11599.68</td>\n",
       "      <td>11696.86</td>\n",
       "      <td>11674.76</td>\n",
       "      <td>-0.9888</td>\n",
       "      <td>0.127</td>\n",
       "      <td>0.072</td>\n",
       "      <td>0.802</td>\n",
       "    </tr>\n",
       "    <tr>\n",
       "      <th>4</th>\n",
       "      <td>2011/1/7</td>\n",
       "      <td>['Russia's Murrow moment - Leonid Parfyonov's ...</td>\n",
       "      <td>-0.0032</td>\n",
       "      <td>150.34</td>\n",
       "      <td>11677.33</td>\n",
       "      <td>11573.87</td>\n",
       "      <td>11672.34</td>\n",
       "      <td>11637.45</td>\n",
       "      <td>-0.9960</td>\n",
       "      <td>0.174</td>\n",
       "      <td>0.092</td>\n",
       "      <td>0.735</td>\n",
       "    </tr>\n",
       "    <tr>\n",
       "      <th>...</th>\n",
       "      <td>...</td>\n",
       "      <td>...</td>\n",
       "      <td>...</td>\n",
       "      <td>...</td>\n",
       "      <td>...</td>\n",
       "      <td>...</td>\n",
       "      <td>...</td>\n",
       "      <td>...</td>\n",
       "      <td>...</td>\n",
       "      <td>...</td>\n",
       "      <td>...</td>\n",
       "      <td>...</td>\n",
       "    </tr>\n",
       "    <tr>\n",
       "      <th>2640</th>\n",
       "      <td>2021/12/23</td>\n",
       "      <td>['India freezes bank accounts of Mother Teresa...</td>\n",
       "      <td>0.0098</td>\n",
       "      <td>250.26</td>\n",
       "      <td>36306.61</td>\n",
       "      <td>35954.48</td>\n",
       "      <td>35954.48</td>\n",
       "      <td>36302.38</td>\n",
       "      <td>-0.9615</td>\n",
       "      <td>0.102</td>\n",
       "      <td>0.057</td>\n",
       "      <td>0.841</td>\n",
       "    </tr>\n",
       "    <tr>\n",
       "      <th>2641</th>\n",
       "      <td>2021/12/27</td>\n",
       "      <td>['Biden signs $740B defense policy bill to ove...</td>\n",
       "      <td>0.0026</td>\n",
       "      <td>239.09</td>\n",
       "      <td>36527.26</td>\n",
       "      <td>36302.99</td>\n",
       "      <td>36302.99</td>\n",
       "      <td>36398.21</td>\n",
       "      <td>-0.9679</td>\n",
       "      <td>0.102</td>\n",
       "      <td>0.050</td>\n",
       "      <td>0.848</td>\n",
       "    </tr>\n",
       "    <tr>\n",
       "      <th>2642</th>\n",
       "      <td>2021/12/28</td>\n",
       "      <td>['Locked-down residents in one of China's bigg...</td>\n",
       "      <td>0.0025</td>\n",
       "      <td>214.40</td>\n",
       "      <td>36571.55</td>\n",
       "      <td>36396.19</td>\n",
       "      <td>36421.14</td>\n",
       "      <td>36488.63</td>\n",
       "      <td>-0.9704</td>\n",
       "      <td>0.099</td>\n",
       "      <td>0.054</td>\n",
       "      <td>0.847</td>\n",
       "    </tr>\n",
       "    <tr>\n",
       "      <th>2643</th>\n",
       "      <td>2021/12/29</td>\n",
       "      <td>[\"Pakistan buys 25 China-made J-10C fighter je...</td>\n",
       "      <td>-0.0025</td>\n",
       "      <td>207.64</td>\n",
       "      <td>36679.44</td>\n",
       "      <td>36372.13</td>\n",
       "      <td>36522.48</td>\n",
       "      <td>36398.08</td>\n",
       "      <td>-0.9894</td>\n",
       "      <td>0.169</td>\n",
       "      <td>0.041</td>\n",
       "      <td>0.791</td>\n",
       "    </tr>\n",
       "    <tr>\n",
       "      <th>2644</th>\n",
       "      <td>2021/12/30</td>\n",
       "      <td>['PA President Abbas accuses Israel of ??orga...</td>\n",
       "      <td>-0.0016</td>\n",
       "      <td>218.21</td>\n",
       "      <td>36484.94</td>\n",
       "      <td>36303.97</td>\n",
       "      <td>36385.85</td>\n",
       "      <td>36338.30</td>\n",
       "      <td>-0.9333</td>\n",
       "      <td>0.124</td>\n",
       "      <td>0.087</td>\n",
       "      <td>0.789</td>\n",
       "    </tr>\n",
       "  </tbody>\n",
       "</table>\n",
       "<p>2645 rows × 12 columns</p>\n",
       "</div>"
      ],
      "text/plain": [
       "            Date                                              title  \\\n",
       "0       2011/1/3  ['Punjab(Pakistan) governor Salman Taseer assa...   \n",
       "1       2011/1/4  ['Cable from the U.S. Embassy in Tel Aviv says...   \n",
       "2       2011/1/5  ['Italy becomes the first country to ban plast...   \n",
       "3       2011/1/6  ['Egypt's Muslims attend Coptic Christmas mass...   \n",
       "4       2011/1/7  ['Russia's Murrow moment - Leonid Parfyonov's ...   \n",
       "...          ...                                                ...   \n",
       "2640  2021/12/23  ['India freezes bank accounts of Mother Teresa...   \n",
       "2641  2021/12/27  ['Biden signs $740B defense policy bill to ove...   \n",
       "2642  2021/12/28  ['Locked-down residents in one of China's bigg...   \n",
       "2643  2021/12/29  [\"Pakistan buys 25 China-made J-10C fighter je...   \n",
       "2644  2021/12/30  ['PA President Abbas accuses Israel of ??orga...   \n",
       "\n",
       "      Up or Down  Trading volume      High       Low   Opening   Closing  \\\n",
       "0         0.0018          178.63  11698.22  11635.74  11670.90  11691.18   \n",
       "1         0.0027          169.99  11742.68  11652.89  11688.61  11722.89   \n",
       "2        -0.0022          193.08  11736.74  11667.46  11716.93  11697.31   \n",
       "3        -0.0019          188.72  11726.94  11599.68  11696.86  11674.76   \n",
       "4        -0.0032          150.34  11677.33  11573.87  11672.34  11637.45   \n",
       "...          ...             ...       ...       ...       ...       ...   \n",
       "2640      0.0098          250.26  36306.61  35954.48  35954.48  36302.38   \n",
       "2641      0.0026          239.09  36527.26  36302.99  36302.99  36398.21   \n",
       "2642      0.0025          214.40  36571.55  36396.19  36421.14  36488.63   \n",
       "2643     -0.0025          207.64  36679.44  36372.13  36522.48  36398.08   \n",
       "2644     -0.0016          218.21  36484.94  36303.97  36385.85  36338.30   \n",
       "\n",
       "      compound    neg    pos    neu  \n",
       "0      -0.9883  0.107  0.055  0.839  \n",
       "1      -0.9966  0.163  0.069  0.768  \n",
       "2      -0.9983  0.257  0.037  0.705  \n",
       "3      -0.9888  0.127  0.072  0.802  \n",
       "4      -0.9960  0.174  0.092  0.735  \n",
       "...        ...    ...    ...    ...  \n",
       "2640   -0.9615  0.102  0.057  0.841  \n",
       "2641   -0.9679  0.102  0.050  0.848  \n",
       "2642   -0.9704  0.099  0.054  0.847  \n",
       "2643   -0.9894  0.169  0.041  0.791  \n",
       "2644   -0.9333  0.124  0.087  0.789  \n",
       "\n",
       "[2645 rows x 12 columns]"
      ]
     },
     "execution_count": 38,
     "metadata": {},
     "output_type": "execute_result"
    }
   ],
   "source": [
    "data['compound']= compound\n",
    "data['neg']= neg\n",
    "data['pos']=pos\n",
    "data['neu']=neu\n",
    "\n",
    "data"
   ]
  },
  {
   "cell_type": "code",
   "execution_count": 39,
   "id": "391d1a55",
   "metadata": {},
   "outputs": [],
   "source": [
    "# get subjectivity:\n",
    "\n",
    "def get_subjectivity(text):\n",
    "    return TextBlob(text).sentiment.subjectivity\n",
    "\n",
    "# get polarity:\n",
    "\n",
    "def get_polarity(text):\n",
    "    return TextBlob(text).sentiment.polarity"
   ]
  },
  {
   "cell_type": "code",
   "execution_count": 40,
   "id": "e5408074",
   "metadata": {},
   "outputs": [
    {
     "data": {
      "text/html": [
       "<div>\n",
       "<style scoped>\n",
       "    .dataframe tbody tr th:only-of-type {\n",
       "        vertical-align: middle;\n",
       "    }\n",
       "\n",
       "    .dataframe tbody tr th {\n",
       "        vertical-align: top;\n",
       "    }\n",
       "\n",
       "    .dataframe thead th {\n",
       "        text-align: right;\n",
       "    }\n",
       "</style>\n",
       "<table border=\"1\" class=\"dataframe\">\n",
       "  <thead>\n",
       "    <tr style=\"text-align: right;\">\n",
       "      <th></th>\n",
       "      <th>Date</th>\n",
       "      <th>title</th>\n",
       "      <th>Up or Down</th>\n",
       "      <th>Trading volume</th>\n",
       "      <th>High</th>\n",
       "      <th>Low</th>\n",
       "      <th>Opening</th>\n",
       "      <th>Closing</th>\n",
       "      <th>compound</th>\n",
       "      <th>neg</th>\n",
       "      <th>pos</th>\n",
       "      <th>neu</th>\n",
       "      <th>Subjectivity</th>\n",
       "      <th>Polarity</th>\n",
       "    </tr>\n",
       "  </thead>\n",
       "  <tbody>\n",
       "    <tr>\n",
       "      <th>0</th>\n",
       "      <td>2011/1/3</td>\n",
       "      <td>['Punjab(Pakistan) governor Salman Taseer assa...</td>\n",
       "      <td>0.0018</td>\n",
       "      <td>178.63</td>\n",
       "      <td>11698.22</td>\n",
       "      <td>11635.74</td>\n",
       "      <td>11670.90</td>\n",
       "      <td>11691.18</td>\n",
       "      <td>-0.9883</td>\n",
       "      <td>0.107</td>\n",
       "      <td>0.055</td>\n",
       "      <td>0.839</td>\n",
       "      <td>0.350014</td>\n",
       "      <td>0.092459</td>\n",
       "    </tr>\n",
       "    <tr>\n",
       "      <th>1</th>\n",
       "      <td>2011/1/4</td>\n",
       "      <td>['Cable from the U.S. Embassy in Tel Aviv says...</td>\n",
       "      <td>0.0027</td>\n",
       "      <td>169.99</td>\n",
       "      <td>11742.68</td>\n",
       "      <td>11652.89</td>\n",
       "      <td>11688.61</td>\n",
       "      <td>11722.89</td>\n",
       "      <td>-0.9966</td>\n",
       "      <td>0.163</td>\n",
       "      <td>0.069</td>\n",
       "      <td>0.768</td>\n",
       "      <td>0.390681</td>\n",
       "      <td>0.072976</td>\n",
       "    </tr>\n",
       "    <tr>\n",
       "      <th>2</th>\n",
       "      <td>2011/1/5</td>\n",
       "      <td>['Italy becomes the first country to ban plast...</td>\n",
       "      <td>-0.0022</td>\n",
       "      <td>193.08</td>\n",
       "      <td>11736.74</td>\n",
       "      <td>11667.46</td>\n",
       "      <td>11716.93</td>\n",
       "      <td>11697.31</td>\n",
       "      <td>-0.9983</td>\n",
       "      <td>0.257</td>\n",
       "      <td>0.037</td>\n",
       "      <td>0.705</td>\n",
       "      <td>0.414674</td>\n",
       "      <td>-0.013693</td>\n",
       "    </tr>\n",
       "    <tr>\n",
       "      <th>3</th>\n",
       "      <td>2011/1/6</td>\n",
       "      <td>['Egypt's Muslims attend Coptic Christmas mass...</td>\n",
       "      <td>-0.0019</td>\n",
       "      <td>188.72</td>\n",
       "      <td>11726.94</td>\n",
       "      <td>11599.68</td>\n",
       "      <td>11696.86</td>\n",
       "      <td>11674.76</td>\n",
       "      <td>-0.9888</td>\n",
       "      <td>0.127</td>\n",
       "      <td>0.072</td>\n",
       "      <td>0.802</td>\n",
       "      <td>0.375909</td>\n",
       "      <td>0.106521</td>\n",
       "    </tr>\n",
       "    <tr>\n",
       "      <th>4</th>\n",
       "      <td>2011/1/7</td>\n",
       "      <td>['Russia's Murrow moment - Leonid Parfyonov's ...</td>\n",
       "      <td>-0.0032</td>\n",
       "      <td>150.34</td>\n",
       "      <td>11677.33</td>\n",
       "      <td>11573.87</td>\n",
       "      <td>11672.34</td>\n",
       "      <td>11637.45</td>\n",
       "      <td>-0.9960</td>\n",
       "      <td>0.174</td>\n",
       "      <td>0.092</td>\n",
       "      <td>0.735</td>\n",
       "      <td>0.414904</td>\n",
       "      <td>0.026614</td>\n",
       "    </tr>\n",
       "  </tbody>\n",
       "</table>\n",
       "</div>"
      ],
      "text/plain": [
       "       Date                                              title  Up or Down  \\\n",
       "0  2011/1/3  ['Punjab(Pakistan) governor Salman Taseer assa...      0.0018   \n",
       "1  2011/1/4  ['Cable from the U.S. Embassy in Tel Aviv says...      0.0027   \n",
       "2  2011/1/5  ['Italy becomes the first country to ban plast...     -0.0022   \n",
       "3  2011/1/6  ['Egypt's Muslims attend Coptic Christmas mass...     -0.0019   \n",
       "4  2011/1/7  ['Russia's Murrow moment - Leonid Parfyonov's ...     -0.0032   \n",
       "\n",
       "   Trading volume      High       Low   Opening   Closing  compound    neg  \\\n",
       "0          178.63  11698.22  11635.74  11670.90  11691.18   -0.9883  0.107   \n",
       "1          169.99  11742.68  11652.89  11688.61  11722.89   -0.9966  0.163   \n",
       "2          193.08  11736.74  11667.46  11716.93  11697.31   -0.9983  0.257   \n",
       "3          188.72  11726.94  11599.68  11696.86  11674.76   -0.9888  0.127   \n",
       "4          150.34  11677.33  11573.87  11672.34  11637.45   -0.9960  0.174   \n",
       "\n",
       "     pos    neu  Subjectivity  Polarity  \n",
       "0  0.055  0.839      0.350014  0.092459  \n",
       "1  0.069  0.768      0.390681  0.072976  \n",
       "2  0.037  0.705      0.414674 -0.013693  \n",
       "3  0.072  0.802      0.375909  0.106521  \n",
       "4  0.092  0.735      0.414904  0.026614  "
      ]
     },
     "execution_count": 40,
     "metadata": {},
     "output_type": "execute_result"
    }
   ],
   "source": [
    "data['Subjectivity'] = data['title'].apply(get_subjectivity)\n",
    "data['Polarity'] = data['title'].apply(get_polarity)\n",
    "\n",
    "data.head()"
   ]
  },
  {
   "cell_type": "code",
   "execution_count": 41,
   "id": "628684fb",
   "metadata": {},
   "outputs": [
    {
     "data": {
      "text/html": [
       "<div>\n",
       "<style scoped>\n",
       "    .dataframe tbody tr th:only-of-type {\n",
       "        vertical-align: middle;\n",
       "    }\n",
       "\n",
       "    .dataframe tbody tr th {\n",
       "        vertical-align: top;\n",
       "    }\n",
       "\n",
       "    .dataframe thead th {\n",
       "        text-align: right;\n",
       "    }\n",
       "</style>\n",
       "<table border=\"1\" class=\"dataframe\">\n",
       "  <thead>\n",
       "    <tr style=\"text-align: right;\">\n",
       "      <th></th>\n",
       "      <th>Date</th>\n",
       "      <th>title</th>\n",
       "      <th>Up or Down</th>\n",
       "      <th>Trading volume</th>\n",
       "      <th>High</th>\n",
       "      <th>Low</th>\n",
       "      <th>Opening</th>\n",
       "      <th>Closing</th>\n",
       "      <th>compound</th>\n",
       "      <th>neg</th>\n",
       "      <th>pos</th>\n",
       "      <th>neu</th>\n",
       "      <th>Subjectivity</th>\n",
       "      <th>Polarity</th>\n",
       "      <th>label</th>\n",
       "    </tr>\n",
       "  </thead>\n",
       "  <tbody>\n",
       "    <tr>\n",
       "      <th>0</th>\n",
       "      <td>2011/1/3</td>\n",
       "      <td>['Punjab(Pakistan) governor Salman Taseer assa...</td>\n",
       "      <td>0.0018</td>\n",
       "      <td>178.63</td>\n",
       "      <td>11698.22</td>\n",
       "      <td>11635.74</td>\n",
       "      <td>11670.90</td>\n",
       "      <td>11691.18</td>\n",
       "      <td>-0.9883</td>\n",
       "      <td>0.107</td>\n",
       "      <td>0.055</td>\n",
       "      <td>0.839</td>\n",
       "      <td>0.350014</td>\n",
       "      <td>0.092459</td>\n",
       "      <td>1</td>\n",
       "    </tr>\n",
       "    <tr>\n",
       "      <th>1</th>\n",
       "      <td>2011/1/4</td>\n",
       "      <td>['Cable from the U.S. Embassy in Tel Aviv says...</td>\n",
       "      <td>0.0027</td>\n",
       "      <td>169.99</td>\n",
       "      <td>11742.68</td>\n",
       "      <td>11652.89</td>\n",
       "      <td>11688.61</td>\n",
       "      <td>11722.89</td>\n",
       "      <td>-0.9966</td>\n",
       "      <td>0.163</td>\n",
       "      <td>0.069</td>\n",
       "      <td>0.768</td>\n",
       "      <td>0.390681</td>\n",
       "      <td>0.072976</td>\n",
       "      <td>1</td>\n",
       "    </tr>\n",
       "    <tr>\n",
       "      <th>2</th>\n",
       "      <td>2011/1/5</td>\n",
       "      <td>['Italy becomes the first country to ban plast...</td>\n",
       "      <td>-0.0022</td>\n",
       "      <td>193.08</td>\n",
       "      <td>11736.74</td>\n",
       "      <td>11667.46</td>\n",
       "      <td>11716.93</td>\n",
       "      <td>11697.31</td>\n",
       "      <td>-0.9983</td>\n",
       "      <td>0.257</td>\n",
       "      <td>0.037</td>\n",
       "      <td>0.705</td>\n",
       "      <td>0.414674</td>\n",
       "      <td>-0.013693</td>\n",
       "      <td>0</td>\n",
       "    </tr>\n",
       "    <tr>\n",
       "      <th>3</th>\n",
       "      <td>2011/1/6</td>\n",
       "      <td>['Egypt's Muslims attend Coptic Christmas mass...</td>\n",
       "      <td>-0.0019</td>\n",
       "      <td>188.72</td>\n",
       "      <td>11726.94</td>\n",
       "      <td>11599.68</td>\n",
       "      <td>11696.86</td>\n",
       "      <td>11674.76</td>\n",
       "      <td>-0.9888</td>\n",
       "      <td>0.127</td>\n",
       "      <td>0.072</td>\n",
       "      <td>0.802</td>\n",
       "      <td>0.375909</td>\n",
       "      <td>0.106521</td>\n",
       "      <td>0</td>\n",
       "    </tr>\n",
       "    <tr>\n",
       "      <th>4</th>\n",
       "      <td>2011/1/7</td>\n",
       "      <td>['Russia's Murrow moment - Leonid Parfyonov's ...</td>\n",
       "      <td>-0.0032</td>\n",
       "      <td>150.34</td>\n",
       "      <td>11677.33</td>\n",
       "      <td>11573.87</td>\n",
       "      <td>11672.34</td>\n",
       "      <td>11637.45</td>\n",
       "      <td>-0.9960</td>\n",
       "      <td>0.174</td>\n",
       "      <td>0.092</td>\n",
       "      <td>0.735</td>\n",
       "      <td>0.414904</td>\n",
       "      <td>0.026614</td>\n",
       "      <td>0</td>\n",
       "    </tr>\n",
       "  </tbody>\n",
       "</table>\n",
       "</div>"
      ],
      "text/plain": [
       "       Date                                              title  Up or Down  \\\n",
       "0  2011/1/3  ['Punjab(Pakistan) governor Salman Taseer assa...      0.0018   \n",
       "1  2011/1/4  ['Cable from the U.S. Embassy in Tel Aviv says...      0.0027   \n",
       "2  2011/1/5  ['Italy becomes the first country to ban plast...     -0.0022   \n",
       "3  2011/1/6  ['Egypt's Muslims attend Coptic Christmas mass...     -0.0019   \n",
       "4  2011/1/7  ['Russia's Murrow moment - Leonid Parfyonov's ...     -0.0032   \n",
       "\n",
       "   Trading volume      High       Low   Opening   Closing  compound    neg  \\\n",
       "0          178.63  11698.22  11635.74  11670.90  11691.18   -0.9883  0.107   \n",
       "1          169.99  11742.68  11652.89  11688.61  11722.89   -0.9966  0.163   \n",
       "2          193.08  11736.74  11667.46  11716.93  11697.31   -0.9983  0.257   \n",
       "3          188.72  11726.94  11599.68  11696.86  11674.76   -0.9888  0.127   \n",
       "4          150.34  11677.33  11573.87  11672.34  11637.45   -0.9960  0.174   \n",
       "\n",
       "     pos    neu  Subjectivity  Polarity  label  \n",
       "0  0.055  0.839      0.350014  0.092459      1  \n",
       "1  0.069  0.768      0.390681  0.072976      1  \n",
       "2  0.037  0.705      0.414674 -0.013693      0  \n",
       "3  0.072  0.802      0.375909  0.106521      0  \n",
       "4  0.092  0.735      0.414904  0.026614      0  "
      ]
     },
     "execution_count": 41,
     "metadata": {},
     "output_type": "execute_result"
    }
   ],
   "source": [
    "Label=[]\n",
    "for i in range (0, len(data['title'])):\n",
    "    if data['Up or Down'][i] >= 0:\n",
    "        Label.append(1)\n",
    "        #print(Label[i])\n",
    "    else:\n",
    "        Label.append(0)\n",
    "        #print(Label[i])\n",
    "#Calculate to add up and down columns If greater than 0% mark as 1 Less than 0% mark as 0\n",
    "data['label'] = Label\n",
    "data.head()"
   ]
  },
  {
   "cell_type": "code",
   "execution_count": 42,
   "id": "a6ccba10",
   "metadata": {},
   "outputs": [],
   "source": [
    "train = data[data['Date'] < '2017']\n",
    "test = data[data['Date'] > '2017']\n",
    "#test set training set division by date"
   ]
  },
  {
   "cell_type": "code",
   "execution_count": 43,
   "id": "2c375fda",
   "metadata": {},
   "outputs": [],
   "source": [
    "trainheadlines = train['title']"
   ]
  },
  {
   "cell_type": "code",
   "execution_count": 44,
   "id": "df99c7d5",
   "metadata": {},
   "outputs": [
    {
     "name": "stdout",
     "output_type": "stream",
     "text": [
      "(1510, 29872)\n"
     ]
    }
   ],
   "source": [
    "basicvectorizer = CountVectorizer(stop_words='english')\n",
    "basictrain = basicvectorizer.fit_transform(trainheadlines)\n",
    "print(basictrain.shape)"
   ]
  },
  {
   "cell_type": "code",
   "execution_count": 45,
   "id": "288867e9",
   "metadata": {},
   "outputs": [
    {
     "data": {
      "text/plain": [
       "RandomForestRegressor()"
      ]
     },
     "execution_count": 45,
     "metadata": {},
     "output_type": "execute_result"
    }
   ],
   "source": [
    "##Using RandomForestRegressor for Modeling\n",
    "from sklearn.ensemble import RandomForestRegressor\n",
    "from sklearn.metrics import accuracy_score\n",
    "randomforestregressor = RandomForestRegressor()\n",
    "randomforestregressor.fit(basictrain, train[\"Up or Down\"]) "
   ]
  },
  {
   "cell_type": "code",
   "execution_count": 46,
   "id": "c1eaa93d",
   "metadata": {},
   "outputs": [],
   "source": [
    "testheadlines = test['title']\n",
    "basictest = basicvectorizer.transform(testheadlines)\n",
    "predictions = randomforestregressor.predict(basictest)"
   ]
  },
  {
   "cell_type": "code",
   "execution_count": 47,
   "id": "aad74c25",
   "metadata": {},
   "outputs": [
    {
     "data": {
      "text/plain": [
       "0.8541689637033844"
      ]
     },
     "execution_count": 47,
     "metadata": {},
     "output_type": "execute_result"
    }
   ],
   "source": [
    "randomforestregressor.score(basictrain, train[\"Up or Down\"])"
   ]
  },
  {
   "cell_type": "code",
   "execution_count": 48,
   "id": "0316cd1b",
   "metadata": {},
   "outputs": [
    {
     "data": {
      "text/plain": [
       "-0.018164612176392758"
      ]
     },
     "execution_count": 48,
     "metadata": {},
     "output_type": "execute_result"
    }
   ],
   "source": [
    "randomforestregressor.score(basictest, test[\"Up or Down\"])\n",
    "##The effect is not satisfactory to switch to the classification method to predict"
   ]
  },
  {
   "cell_type": "code",
   "execution_count": 49,
   "id": "09a308bc",
   "metadata": {},
   "outputs": [
    {
     "data": {
      "text/plain": [
       "RandomForestClassifier(criterion='entropy', n_estimators=500)"
      ]
     },
     "execution_count": 49,
     "metadata": {},
     "output_type": "execute_result"
    }
   ],
   "source": [
    "##Using Random Forest Classification for Modeling\n",
    "from sklearn.ensemble import RandomForestClassifier\n",
    "randomforestclassifier = RandomForestClassifier(n_estimators=500,criterion='entropy')\n",
    "randomforestclassifier.fit(basictrain, train[\"label\"])"
   ]
  },
  {
   "cell_type": "code",
   "execution_count": 50,
   "id": "76c2970c",
   "metadata": {},
   "outputs": [
    {
     "data": {
      "text/plain": [
       "1.0"
      ]
     },
     "execution_count": 50,
     "metadata": {},
     "output_type": "execute_result"
    }
   ],
   "source": [
    "randomforestclassifier.score(basictrain, train[\"label\"])"
   ]
  },
  {
   "cell_type": "code",
   "execution_count": 51,
   "id": "8f2d8d99",
   "metadata": {},
   "outputs": [
    {
     "data": {
      "text/plain": [
       "0.5621145374449339"
      ]
     },
     "execution_count": 51,
     "metadata": {},
     "output_type": "execute_result"
    }
   ],
   "source": [
    "randomforestclassifier.score(basictest, test[\"label\"])"
   ]
  },
  {
   "cell_type": "code",
   "execution_count": 52,
   "id": "95b245ba",
   "metadata": {},
   "outputs": [
    {
     "data": {
      "text/plain": [
       "SVC()"
      ]
     },
     "execution_count": 52,
     "metadata": {},
     "output_type": "execute_result"
    }
   ],
   "source": [
    "## Using support vector machines\n",
    "from sklearn.svm import SVC\n",
    "svm =SVC(degree=3)\n",
    "svm.fit(basictrain, train[\"label\"])"
   ]
  },
  {
   "cell_type": "code",
   "execution_count": 53,
   "id": "4d1309aa",
   "metadata": {},
   "outputs": [
    {
     "data": {
      "text/plain": [
       "0.9900662251655629"
      ]
     },
     "execution_count": 53,
     "metadata": {},
     "output_type": "execute_result"
    }
   ],
   "source": [
    "svm.score(basictrain, train[\"label\"])"
   ]
  },
  {
   "cell_type": "code",
   "execution_count": 54,
   "id": "0012cf97",
   "metadata": {},
   "outputs": [
    {
     "data": {
      "text/plain": [
       "0.5612334801762114"
      ]
     },
     "execution_count": 54,
     "metadata": {},
     "output_type": "execute_result"
    }
   ],
   "source": [
    "svm.score(basictest, test[\"label\"])"
   ]
  },
  {
   "cell_type": "code",
   "execution_count": 55,
   "id": "110ae5a4",
   "metadata": {},
   "outputs": [],
   "source": [
    "##神经网络"
   ]
  },
  {
   "cell_type": "code",
   "execution_count": 56,
   "id": "50e5492a",
   "metadata": {},
   "outputs": [
    {
     "data": {
      "text/plain": [
       "MLPClassifier(alpha=1e-05, hidden_layer_sizes=(5, 2), solver='lbfgs')"
      ]
     },
     "execution_count": 56,
     "metadata": {},
     "output_type": "execute_result"
    }
   ],
   "source": [
    "from sklearn.neural_network import MLPClassifier\n",
    "clf = MLPClassifier(solver='lbfgs', alpha=1e-5,hidden_layer_sizes=(5, 2))\n",
    "clf.fit(basictrain, train[\"label\"])"
   ]
  },
  {
   "cell_type": "code",
   "execution_count": 57,
   "id": "4c8eb530",
   "metadata": {},
   "outputs": [
    {
     "data": {
      "text/plain": [
       "0.9629139072847682"
      ]
     },
     "execution_count": 57,
     "metadata": {},
     "output_type": "execute_result"
    }
   ],
   "source": [
    "clf.score(basictrain, train[\"label\"])"
   ]
  },
  {
   "cell_type": "code",
   "execution_count": 58,
   "id": "defa3f41",
   "metadata": {},
   "outputs": [
    {
     "data": {
      "text/plain": [
       "0.5559471365638766"
      ]
     },
     "execution_count": 58,
     "metadata": {},
     "output_type": "execute_result"
    }
   ],
   "source": [
    "clf.score(basictest, test[\"label\"])"
   ]
  },
  {
   "cell_type": "code",
   "execution_count": 30,
   "id": "2895bb3b",
   "metadata": {},
   "outputs": [],
   "source": [
    "##Text Mining Poor Results Switch to Sentiment Analysis"
   ]
  },
  {
   "cell_type": "code",
   "execution_count": 31,
   "id": "d647d28c",
   "metadata": {},
   "outputs": [],
   "source": [
    "###SENTIMENT ANALYSIS"
   ]
  },
  {
   "cell_type": "code",
   "execution_count": 32,
   "id": "8c913428",
   "metadata": {},
   "outputs": [
    {
     "data": {
      "text/html": [
       "<div>\n",
       "<style scoped>\n",
       "    .dataframe tbody tr th:only-of-type {\n",
       "        vertical-align: middle;\n",
       "    }\n",
       "\n",
       "    .dataframe tbody tr th {\n",
       "        vertical-align: top;\n",
       "    }\n",
       "\n",
       "    .dataframe thead th {\n",
       "        text-align: right;\n",
       "    }\n",
       "</style>\n",
       "<table border=\"1\" class=\"dataframe\">\n",
       "  <thead>\n",
       "    <tr style=\"text-align: right;\">\n",
       "      <th></th>\n",
       "      <th>Date</th>\n",
       "      <th>title</th>\n",
       "      <th>Up or Down</th>\n",
       "      <th>Trading volume</th>\n",
       "      <th>High</th>\n",
       "      <th>Low</th>\n",
       "      <th>Opening</th>\n",
       "      <th>Closing</th>\n",
       "      <th>compound</th>\n",
       "      <th>neg</th>\n",
       "      <th>pos</th>\n",
       "      <th>neu</th>\n",
       "      <th>Subjectivity</th>\n",
       "      <th>Polarity</th>\n",
       "      <th>label</th>\n",
       "    </tr>\n",
       "  </thead>\n",
       "  <tbody>\n",
       "    <tr>\n",
       "      <th>0</th>\n",
       "      <td>2011/1/3</td>\n",
       "      <td>['Punjab(Pakistan) governor Salman Taseer assa...</td>\n",
       "      <td>0.0018</td>\n",
       "      <td>178.63</td>\n",
       "      <td>11698.22</td>\n",
       "      <td>11635.74</td>\n",
       "      <td>11670.90</td>\n",
       "      <td>11691.18</td>\n",
       "      <td>-0.9883</td>\n",
       "      <td>0.107</td>\n",
       "      <td>0.055</td>\n",
       "      <td>0.839</td>\n",
       "      <td>0.350014</td>\n",
       "      <td>0.092459</td>\n",
       "      <td>1</td>\n",
       "    </tr>\n",
       "    <tr>\n",
       "      <th>1</th>\n",
       "      <td>2011/1/4</td>\n",
       "      <td>['Cable from the U.S. Embassy in Tel Aviv says...</td>\n",
       "      <td>0.0027</td>\n",
       "      <td>169.99</td>\n",
       "      <td>11742.68</td>\n",
       "      <td>11652.89</td>\n",
       "      <td>11688.61</td>\n",
       "      <td>11722.89</td>\n",
       "      <td>-0.9966</td>\n",
       "      <td>0.163</td>\n",
       "      <td>0.069</td>\n",
       "      <td>0.768</td>\n",
       "      <td>0.390681</td>\n",
       "      <td>0.072976</td>\n",
       "      <td>1</td>\n",
       "    </tr>\n",
       "    <tr>\n",
       "      <th>2</th>\n",
       "      <td>2011/1/5</td>\n",
       "      <td>['Italy becomes the first country to ban plast...</td>\n",
       "      <td>-0.0022</td>\n",
       "      <td>193.08</td>\n",
       "      <td>11736.74</td>\n",
       "      <td>11667.46</td>\n",
       "      <td>11716.93</td>\n",
       "      <td>11697.31</td>\n",
       "      <td>-0.9983</td>\n",
       "      <td>0.257</td>\n",
       "      <td>0.037</td>\n",
       "      <td>0.705</td>\n",
       "      <td>0.414674</td>\n",
       "      <td>-0.013693</td>\n",
       "      <td>0</td>\n",
       "    </tr>\n",
       "    <tr>\n",
       "      <th>3</th>\n",
       "      <td>2011/1/6</td>\n",
       "      <td>['Egypt's Muslims attend Coptic Christmas mass...</td>\n",
       "      <td>-0.0019</td>\n",
       "      <td>188.72</td>\n",
       "      <td>11726.94</td>\n",
       "      <td>11599.68</td>\n",
       "      <td>11696.86</td>\n",
       "      <td>11674.76</td>\n",
       "      <td>-0.9888</td>\n",
       "      <td>0.127</td>\n",
       "      <td>0.072</td>\n",
       "      <td>0.802</td>\n",
       "      <td>0.375909</td>\n",
       "      <td>0.106521</td>\n",
       "      <td>0</td>\n",
       "    </tr>\n",
       "    <tr>\n",
       "      <th>4</th>\n",
       "      <td>2011/1/7</td>\n",
       "      <td>['Russia's Murrow moment - Leonid Parfyonov's ...</td>\n",
       "      <td>-0.0032</td>\n",
       "      <td>150.34</td>\n",
       "      <td>11677.33</td>\n",
       "      <td>11573.87</td>\n",
       "      <td>11672.34</td>\n",
       "      <td>11637.45</td>\n",
       "      <td>-0.9960</td>\n",
       "      <td>0.174</td>\n",
       "      <td>0.092</td>\n",
       "      <td>0.735</td>\n",
       "      <td>0.414904</td>\n",
       "      <td>0.026614</td>\n",
       "      <td>0</td>\n",
       "    </tr>\n",
       "  </tbody>\n",
       "</table>\n",
       "</div>"
      ],
      "text/plain": [
       "       Date                                              title  Up or Down  \\\n",
       "0  2011/1/3  ['Punjab(Pakistan) governor Salman Taseer assa...      0.0018   \n",
       "1  2011/1/4  ['Cable from the U.S. Embassy in Tel Aviv says...      0.0027   \n",
       "2  2011/1/5  ['Italy becomes the first country to ban plast...     -0.0022   \n",
       "3  2011/1/6  ['Egypt's Muslims attend Coptic Christmas mass...     -0.0019   \n",
       "4  2011/1/7  ['Russia's Murrow moment - Leonid Parfyonov's ...     -0.0032   \n",
       "\n",
       "   Trading volume      High       Low   Opening   Closing  compound    neg  \\\n",
       "0          178.63  11698.22  11635.74  11670.90  11691.18   -0.9883  0.107   \n",
       "1          169.99  11742.68  11652.89  11688.61  11722.89   -0.9966  0.163   \n",
       "2          193.08  11736.74  11667.46  11716.93  11697.31   -0.9983  0.257   \n",
       "3          188.72  11726.94  11599.68  11696.86  11674.76   -0.9888  0.127   \n",
       "4          150.34  11677.33  11573.87  11672.34  11637.45   -0.9960  0.174   \n",
       "\n",
       "     pos    neu  Subjectivity  Polarity  label  \n",
       "0  0.055  0.839      0.350014  0.092459      1  \n",
       "1  0.069  0.768      0.390681  0.072976      1  \n",
       "2  0.037  0.705      0.414674 -0.013693      0  \n",
       "3  0.072  0.802      0.375909  0.106521      0  \n",
       "4  0.092  0.735      0.414904  0.026614      0  "
      ]
     },
     "execution_count": 32,
     "metadata": {},
     "output_type": "execute_result"
    }
   ],
   "source": [
    "data.head()"
   ]
  },
  {
   "cell_type": "code",
   "execution_count": 30,
   "id": "390b2b0b",
   "metadata": {},
   "outputs": [],
   "source": [
    "#Create new dataframe contain relevants features:\n",
    "\n",
    "df= data[['label','Up or Down','Opening', 'High', 'Low','Trading volume','Subjectivity','Polarity','compound','neg','pos','neu']]\n",
    "\n"
   ]
  },
  {
   "cell_type": "code",
   "execution_count": 31,
   "id": "b81d8c5a",
   "metadata": {},
   "outputs": [],
   "source": [
    "#create the feature data set:"
   ]
  },
  {
   "cell_type": "code",
   "execution_count": 32,
   "id": "d071c0c0",
   "metadata": {},
   "outputs": [
    {
     "data": {
      "text/plain": [
       "array([[ 0.12296738, -1.29955022, -1.30490607, ..., -1.07101797,\n",
       "        -0.33896578,  1.19883163],\n",
       "       [ 0.20690253, -1.29688878, -1.29825633, ...,  0.49364074,\n",
       "         0.32072324, -0.63074251],\n",
       "       [-0.25007775, -1.29263289, -1.29914475, ...,  3.12003214,\n",
       "        -1.18713738, -2.25416745],\n",
       "       ...,\n",
       "       [ 0.18825028,  2.41988849,  2.41531905, ..., -1.29454064,\n",
       "        -0.38608643,  1.40498083],\n",
       "       [-0.27805613,  2.43511776,  2.43145582, ...,  0.66128274,\n",
       "        -0.9986548 , -0.03806356],\n",
       "       [-0.19412098,  2.41458515,  2.40236507, ..., -0.59603229,\n",
       "         1.16889483, -0.08960086]])"
      ]
     },
     "execution_count": 32,
     "metadata": {},
     "output_type": "execute_result"
    }
   ],
   "source": [
    "num_col = ['Up or Down','Opening', 'High', 'Low','Trading volume','Subjectivity','Polarity','compound','neg','pos','neu']\n",
    "from sklearn.preprocessing import StandardScaler\n",
    "standardscaler = StandardScaler()\n",
    "num_features = standardscaler.fit_transform(df[num_col])\n",
    "X=num_features\n",
    "X"
   ]
  },
  {
   "cell_type": "code",
   "execution_count": 33,
   "id": "563f2cc4",
   "metadata": {},
   "outputs": [
    {
     "data": {
      "text/plain": [
       "array([1, 1, 0, ..., 1, 0, 0], dtype=int64)"
      ]
     },
     "execution_count": 33,
     "metadata": {},
     "output_type": "execute_result"
    }
   ],
   "source": [
    "#create the target data set:\n",
    "y= np.array(df['label'])\n",
    "y"
   ]
  },
  {
   "cell_type": "code",
   "execution_count": 34,
   "id": "a3625d79",
   "metadata": {},
   "outputs": [],
   "source": [
    "# Split the data:\n",
    "\n",
    "x_train, x_test, y_train, y_test= train_test_split(X,y, test_size=0.2, random_state= 0)"
   ]
  },
  {
   "cell_type": "code",
   "execution_count": 35,
   "id": "17bbf12d",
   "metadata": {},
   "outputs": [
    {
     "data": {
      "text/plain": [
       "array([0, 1, 1, 1, 0, 1, 1, 1, 1, 1, 1, 0, 1, 0, 1, 1, 1, 0, 0, 0, 0, 0,\n",
       "       1, 1, 0, 1, 1, 0, 0, 1, 1, 0, 0, 1, 1, 1, 0, 0, 1, 1, 0, 0, 1, 0,\n",
       "       0, 1, 1, 1, 0, 1, 1, 1, 1, 0, 1, 1, 0, 1, 1, 1, 1, 1, 1, 1, 0, 1,\n",
       "       1, 0, 1, 1, 1, 1, 0, 1, 0, 1, 1, 1, 0, 0, 1, 1, 0, 1, 0, 0, 1, 1,\n",
       "       1, 1, 0, 0, 1, 0, 0, 0, 1, 0, 1, 1, 0, 0, 1, 1, 0, 1, 1, 1, 1, 1,\n",
       "       1, 1, 0, 1, 1, 1, 0, 1, 1, 1, 1, 0, 0, 1, 1, 1, 1, 0, 1, 0, 1, 1,\n",
       "       1, 1, 1, 1, 1, 0, 1, 1, 1, 0, 0, 0, 0, 0, 0, 1, 0, 1, 1, 0, 1, 1,\n",
       "       1, 0, 1, 0, 1, 1, 1, 0, 1, 1, 1, 1, 1, 0, 0, 1, 1, 0, 0, 0, 1, 0,\n",
       "       1, 1, 1, 1, 0, 1, 1, 1, 1, 0, 0, 0, 0, 0, 0, 1, 1, 1, 1, 1, 0, 1,\n",
       "       1, 0, 0, 0, 1, 0, 0, 1, 1, 1, 0, 1, 0, 1, 1, 0, 0, 1, 1, 1, 1, 1,\n",
       "       0, 1, 0, 1, 0, 1, 0, 0, 1, 0, 1, 0, 0, 1, 1, 0, 1, 0, 1, 0, 1, 1,\n",
       "       1, 0, 1, 1, 0, 0, 0, 1, 1, 0, 0, 1, 0, 0, 0, 0, 1, 1, 0, 1, 0, 1,\n",
       "       0, 0, 0, 1, 0, 0, 1, 1, 0, 1, 1, 0, 1, 1, 1, 0, 0, 0, 1, 1, 1, 1,\n",
       "       0, 1, 0, 0, 1, 1, 1, 1, 1, 1, 0, 0, 1, 1, 0, 0, 1, 1, 1, 1, 1, 1,\n",
       "       1, 1, 1, 0, 1, 0, 0, 0, 1, 1, 1, 0, 1, 1, 0, 0, 0, 1, 0, 1, 0, 0,\n",
       "       1, 0, 1, 0, 1, 1, 1, 1, 0, 1, 0, 0, 0, 0, 0, 0, 1, 0, 1, 1, 0, 1,\n",
       "       1, 1, 0, 0, 1, 1, 1, 1, 1, 0, 1, 1, 1, 1, 1, 0, 1, 1, 0, 1, 1, 0,\n",
       "       0, 0, 1, 1, 1, 0, 0, 1, 1, 1, 0, 1, 0, 1, 1, 0, 0, 0, 1, 0, 1, 1,\n",
       "       1, 1, 1, 1, 1, 1, 1, 0, 0, 0, 1, 0, 1, 1, 1, 0, 0, 1, 0, 0, 1, 0,\n",
       "       0, 1, 1, 0, 0, 0, 1, 1, 1, 0, 0, 1, 1, 0, 1, 0, 0, 1, 1, 0, 1, 1,\n",
       "       0, 0, 0, 0, 1, 0, 1, 1, 1, 1, 1, 1, 1, 1, 1, 1, 1, 0, 0, 1, 0, 1,\n",
       "       1, 0, 1, 1, 1, 1, 1, 1, 1, 0, 1, 1, 0, 0, 1, 1, 1, 0, 0, 1, 0, 0,\n",
       "       1, 1, 0, 1, 1, 1, 1, 0, 1, 1, 0, 0, 0, 0, 1, 1, 0, 1, 1, 1, 1, 1,\n",
       "       1, 1, 1, 1, 1, 0, 1, 1, 1, 0, 0, 0, 1, 1, 1, 1, 1, 1, 0, 1, 1, 0,\n",
       "       1], dtype=int64)"
      ]
     },
     "execution_count": 35,
     "metadata": {},
     "output_type": "execute_result"
    }
   ],
   "source": [
    "#create and train the model:\n",
    "\n",
    "model= LinearDiscriminantAnalysis().fit(x_train, y_train)\n",
    "\n",
    "# Model predicton:\n",
    "\n",
    "predict= model.predict(x_test)\n",
    "\n",
    "predict"
   ]
  },
  {
   "cell_type": "code",
   "execution_count": 36,
   "id": "bc9e5ca5",
   "metadata": {},
   "outputs": [
    {
     "name": "stdout",
     "output_type": "stream",
     "text": [
      "              precision    recall  f1-score   support\n",
      "\n",
      "           0       0.96      0.83      0.89       242\n",
      "           1       0.87      0.97      0.92       287\n",
      "\n",
      "    accuracy                           0.91       529\n",
      "   macro avg       0.92      0.90      0.90       529\n",
      "weighted avg       0.91      0.91      0.90       529\n",
      "\n"
     ]
    }
   ],
   "source": [
    "##SENTIMENT ANALYSIS Classification Report\n",
    "print(classification_report(y_test, predict))"
   ]
  },
  {
   "cell_type": "code",
   "execution_count": 37,
   "id": "74871513",
   "metadata": {},
   "outputs": [
    {
     "name": "stdout",
     "output_type": "stream",
     "text": [
      "Requirement already satisfied: scikit-plot in d:\\soft\\anaconda\\lib\\site-packages (0.3.7)\n",
      "Requirement already satisfied: scikit-learn>=0.18 in d:\\soft\\anaconda\\lib\\site-packages (from scikit-plot) (0.24.2)\n",
      "Requirement already satisfied: scipy>=0.9 in d:\\soft\\anaconda\\lib\\site-packages (from scikit-plot) (1.7.1)\n",
      "Requirement already satisfied: matplotlib>=1.4.0 in d:\\soft\\anaconda\\lib\\site-packages (from scikit-plot) (3.4.3)\n",
      "Requirement already satisfied: joblib>=0.10 in d:\\soft\\anaconda\\lib\\site-packages (from scikit-plot) (1.1.0)\n",
      "Requirement already satisfied: numpy>=1.16 in d:\\soft\\anaconda\\lib\\site-packages (from matplotlib>=1.4.0->scikit-plot) (1.20.3)\n",
      "Requirement already satisfied: cycler>=0.10 in d:\\soft\\anaconda\\lib\\site-packages (from matplotlib>=1.4.0->scikit-plot) (0.10.0)\n",
      "Requirement already satisfied: kiwisolver>=1.0.1 in d:\\soft\\anaconda\\lib\\site-packages (from matplotlib>=1.4.0->scikit-plot) (1.3.1)\n",
      "Requirement already satisfied: python-dateutil>=2.7 in d:\\soft\\anaconda\\lib\\site-packages (from matplotlib>=1.4.0->scikit-plot) (2.8.2)\n",
      "Requirement already satisfied: pyparsing>=2.2.1 in c:\\users\\cs321\\appdata\\roaming\\python\\python39\\site-packages (from matplotlib>=1.4.0->scikit-plot) (2.4.7)\n",
      "Requirement already satisfied: pillow>=6.2.0 in d:\\soft\\anaconda\\lib\\site-packages (from matplotlib>=1.4.0->scikit-plot) (8.4.0)\n",
      "Requirement already satisfied: six in c:\\users\\cs321\\appdata\\roaming\\python\\python39\\site-packages (from cycler>=0.10->matplotlib>=1.4.0->scikit-plot) (1.16.0)\n",
      "Requirement already satisfied: threadpoolctl>=2.0.0 in d:\\soft\\anaconda\\lib\\site-packages (from scikit-learn>=0.18->scikit-plot) (2.2.0)\n"
     ]
    },
    {
     "data": {
      "text/plain": [
       "<AxesSubplot:title={'center':'Confusion Matrix'}, xlabel='Predicted label', ylabel='True label'>"
      ]
     },
     "execution_count": 37,
     "metadata": {},
     "output_type": "execute_result"
    },
    {
     "data": {
      "image/png": "[encoded data removed]",
      "text/plain": [
       "<Figure size 432x288 with 2 Axes>"
      ]
     },
     "metadata": {
      "needs_background": "light"
     },
     "output_type": "display_data"
    }
   ],
   "source": [
    "!pip install scikit-plot\n",
    "from scikitplot.metrics import plot_confusion_matrix\n",
    "plot_confusion_matrix(y_test,predict)"
   ]
  },
  {
   "cell_type": "code",
   "execution_count": 38,
   "id": "92e72bc7",
   "metadata": {},
   "outputs": [],
   "source": [
    "##LDA Topic Model"
   ]
  },
  {
   "cell_type": "code",
   "execution_count": 39,
   "id": "40805fc5",
   "metadata": {},
   "outputs": [
    {
     "data": {
      "text/html": [
       "<div>\n",
       "<style scoped>\n",
       "    .dataframe tbody tr th:only-of-type {\n",
       "        vertical-align: middle;\n",
       "    }\n",
       "\n",
       "    .dataframe tbody tr th {\n",
       "        vertical-align: top;\n",
       "    }\n",
       "\n",
       "    .dataframe thead th {\n",
       "        text-align: right;\n",
       "    }\n",
       "</style>\n",
       "<table border=\"1\" class=\"dataframe\">\n",
       "  <thead>\n",
       "    <tr style=\"text-align: right;\">\n",
       "      <th></th>\n",
       "      <th>Date</th>\n",
       "      <th>title</th>\n",
       "      <th>Up or Down</th>\n",
       "      <th>Trading volume</th>\n",
       "      <th>High</th>\n",
       "      <th>Low</th>\n",
       "      <th>Opening</th>\n",
       "      <th>Closing</th>\n",
       "      <th>compound</th>\n",
       "      <th>neg</th>\n",
       "      <th>pos</th>\n",
       "      <th>neu</th>\n",
       "      <th>Subjectivity</th>\n",
       "      <th>Polarity</th>\n",
       "      <th>label</th>\n",
       "    </tr>\n",
       "  </thead>\n",
       "  <tbody>\n",
       "    <tr>\n",
       "      <th>0</th>\n",
       "      <td>2011/1/3</td>\n",
       "      <td>['Punjab(Pakistan) governor Salman Taseer assa...</td>\n",
       "      <td>0.0018</td>\n",
       "      <td>178.63</td>\n",
       "      <td>11698.22</td>\n",
       "      <td>11635.74</td>\n",
       "      <td>11670.90</td>\n",
       "      <td>11691.18</td>\n",
       "      <td>-0.9883</td>\n",
       "      <td>0.107</td>\n",
       "      <td>0.055</td>\n",
       "      <td>0.839</td>\n",
       "      <td>0.350014</td>\n",
       "      <td>0.092459</td>\n",
       "      <td>1</td>\n",
       "    </tr>\n",
       "    <tr>\n",
       "      <th>1</th>\n",
       "      <td>2011/1/4</td>\n",
       "      <td>['Cable from the U.S. Embassy in Tel Aviv says...</td>\n",
       "      <td>0.0027</td>\n",
       "      <td>169.99</td>\n",
       "      <td>11742.68</td>\n",
       "      <td>11652.89</td>\n",
       "      <td>11688.61</td>\n",
       "      <td>11722.89</td>\n",
       "      <td>-0.9966</td>\n",
       "      <td>0.163</td>\n",
       "      <td>0.069</td>\n",
       "      <td>0.768</td>\n",
       "      <td>0.390681</td>\n",
       "      <td>0.072976</td>\n",
       "      <td>1</td>\n",
       "    </tr>\n",
       "    <tr>\n",
       "      <th>2</th>\n",
       "      <td>2011/1/5</td>\n",
       "      <td>['Italy becomes the first country to ban plast...</td>\n",
       "      <td>-0.0022</td>\n",
       "      <td>193.08</td>\n",
       "      <td>11736.74</td>\n",
       "      <td>11667.46</td>\n",
       "      <td>11716.93</td>\n",
       "      <td>11697.31</td>\n",
       "      <td>-0.9983</td>\n",
       "      <td>0.257</td>\n",
       "      <td>0.037</td>\n",
       "      <td>0.705</td>\n",
       "      <td>0.414674</td>\n",
       "      <td>-0.013693</td>\n",
       "      <td>0</td>\n",
       "    </tr>\n",
       "    <tr>\n",
       "      <th>3</th>\n",
       "      <td>2011/1/6</td>\n",
       "      <td>['Egypt's Muslims attend Coptic Christmas mass...</td>\n",
       "      <td>-0.0019</td>\n",
       "      <td>188.72</td>\n",
       "      <td>11726.94</td>\n",
       "      <td>11599.68</td>\n",
       "      <td>11696.86</td>\n",
       "      <td>11674.76</td>\n",
       "      <td>-0.9888</td>\n",
       "      <td>0.127</td>\n",
       "      <td>0.072</td>\n",
       "      <td>0.802</td>\n",
       "      <td>0.375909</td>\n",
       "      <td>0.106521</td>\n",
       "      <td>0</td>\n",
       "    </tr>\n",
       "    <tr>\n",
       "      <th>4</th>\n",
       "      <td>2011/1/7</td>\n",
       "      <td>['Russia's Murrow moment - Leonid Parfyonov's ...</td>\n",
       "      <td>-0.0032</td>\n",
       "      <td>150.34</td>\n",
       "      <td>11677.33</td>\n",
       "      <td>11573.87</td>\n",
       "      <td>11672.34</td>\n",
       "      <td>11637.45</td>\n",
       "      <td>-0.9960</td>\n",
       "      <td>0.174</td>\n",
       "      <td>0.092</td>\n",
       "      <td>0.735</td>\n",
       "      <td>0.414904</td>\n",
       "      <td>0.026614</td>\n",
       "      <td>0</td>\n",
       "    </tr>\n",
       "  </tbody>\n",
       "</table>\n",
       "</div>"
      ],
      "text/plain": [
       "       Date                                              title  Up or Down  \\\n",
       "0  2011/1/3  ['Punjab(Pakistan) governor Salman Taseer assa...      0.0018   \n",
       "1  2011/1/4  ['Cable from the U.S. Embassy in Tel Aviv says...      0.0027   \n",
       "2  2011/1/5  ['Italy becomes the first country to ban plast...     -0.0022   \n",
       "3  2011/1/6  ['Egypt's Muslims attend Coptic Christmas mass...     -0.0019   \n",
       "4  2011/1/7  ['Russia's Murrow moment - Leonid Parfyonov's ...     -0.0032   \n",
       "\n",
       "   Trading volume      High       Low   Opening   Closing  compound    neg  \\\n",
       "0          178.63  11698.22  11635.74  11670.90  11691.18   -0.9883  0.107   \n",
       "1          169.99  11742.68  11652.89  11688.61  11722.89   -0.9966  0.163   \n",
       "2          193.08  11736.74  11667.46  11716.93  11697.31   -0.9983  0.257   \n",
       "3          188.72  11726.94  11599.68  11696.86  11674.76   -0.9888  0.127   \n",
       "4          150.34  11677.33  11573.87  11672.34  11637.45   -0.9960  0.174   \n",
       "\n",
       "     pos    neu  Subjectivity  Polarity  label  \n",
       "0  0.055  0.839      0.350014  0.092459      1  \n",
       "1  0.069  0.768      0.390681  0.072976      1  \n",
       "2  0.037  0.705      0.414674 -0.013693      0  \n",
       "3  0.072  0.802      0.375909  0.106521      0  \n",
       "4  0.092  0.735      0.414904  0.026614      0  "
      ]
     },
     "execution_count": 39,
     "metadata": {},
     "output_type": "execute_result"
    }
   ],
   "source": [
    "data.head()"
   ]
  },
  {
   "cell_type": "code",
   "execution_count": 59,
   "id": "d5a761a0",
   "metadata": {},
   "outputs": [],
   "source": [
    "data.to_excel(\"data情感.xlsx\",sheet_name=\"sheet2\")"
   ]
  },
  {
   "cell_type": "code",
   "execution_count": 40,
   "id": "1f04973c",
   "metadata": {},
   "outputs": [
    {
     "data": {
      "text/html": [
       "<div>\n",
       "<style scoped>\n",
       "    .dataframe tbody tr th:only-of-type {\n",
       "        vertical-align: middle;\n",
       "    }\n",
       "\n",
       "    .dataframe tbody tr th {\n",
       "        vertical-align: top;\n",
       "    }\n",
       "\n",
       "    .dataframe thead th {\n",
       "        text-align: right;\n",
       "    }\n",
       "</style>\n",
       "<table border=\"1\" class=\"dataframe\">\n",
       "  <thead>\n",
       "    <tr style=\"text-align: right;\">\n",
       "      <th></th>\n",
       "      <th>Date</th>\n",
       "      <th>title</th>\n",
       "      <th>label</th>\n",
       "    </tr>\n",
       "  </thead>\n",
       "  <tbody>\n",
       "    <tr>\n",
       "      <th>0</th>\n",
       "      <td>2011/1/3</td>\n",
       "      <td>['Punjab(Pakistan) governor Salman Taseer assa...</td>\n",
       "      <td>1</td>\n",
       "    </tr>\n",
       "    <tr>\n",
       "      <th>1</th>\n",
       "      <td>2011/1/4</td>\n",
       "      <td>['Cable from the U.S. Embassy in Tel Aviv says...</td>\n",
       "      <td>1</td>\n",
       "    </tr>\n",
       "    <tr>\n",
       "      <th>2</th>\n",
       "      <td>2011/1/5</td>\n",
       "      <td>['Italy becomes the first country to ban plast...</td>\n",
       "      <td>0</td>\n",
       "    </tr>\n",
       "    <tr>\n",
       "      <th>3</th>\n",
       "      <td>2011/1/6</td>\n",
       "      <td>['Egypt's Muslims attend Coptic Christmas mass...</td>\n",
       "      <td>0</td>\n",
       "    </tr>\n",
       "    <tr>\n",
       "      <th>4</th>\n",
       "      <td>2011/1/7</td>\n",
       "      <td>['Russia's Murrow moment - Leonid Parfyonov's ...</td>\n",
       "      <td>0</td>\n",
       "    </tr>\n",
       "  </tbody>\n",
       "</table>\n",
       "</div>"
      ],
      "text/plain": [
       "       Date                                              title  label\n",
       "0  2011/1/3  ['Punjab(Pakistan) governor Salman Taseer assa...      1\n",
       "1  2011/1/4  ['Cable from the U.S. Embassy in Tel Aviv says...      1\n",
       "2  2011/1/5  ['Italy becomes the first country to ban plast...      0\n",
       "3  2011/1/6  ['Egypt's Muslims attend Coptic Christmas mass...      0\n",
       "4  2011/1/7  ['Russia's Murrow moment - Leonid Parfyonov's ...      0"
      ]
     },
     "execution_count": 40,
     "metadata": {},
     "output_type": "execute_result"
    }
   ],
   "source": [
    "# Remove the columns\n",
    "papers = data.drop(columns=['Up or Down','Trading volume','High','Low','Opening','Closing','compound','neg','pos','neu','Subjectivity','Polarity'], axis=1)\n",
    "\n",
    "# Print out the first rows of papers\n",
    "papers.head()"
   ]
  },
  {
   "cell_type": "code",
   "execution_count": 41,
   "id": "be758056",
   "metadata": {},
   "outputs": [],
   "source": [
    "Title_Growth=[]\n",
    "Title_reduction=[]"
   ]
  },
  {
   "cell_type": "code",
   "execution_count": 42,
   "id": "1c3157bf",
   "metadata": {},
   "outputs": [],
   "source": [
    "## Classify titles based on up and down 0 and 1\n",
    "for i in range (0, len(papers['title'])):\n",
    "    if papers['label'][i] == 1:\n",
    "        Title_Growth.append(papers['title'][i])\n",
    "    if papers['label'][i] == 0:\n",
    "        Title_reduction.append(papers['title'][i])\n"
   ]
  },
  {
   "cell_type": "code",
   "execution_count": 43,
   "id": "f40f2391",
   "metadata": {},
   "outputs": [],
   "source": [
    "Title_Growth = pd.DataFrame(Title_Growth,columns =[ 'growth'])\n",
    "Title_reduction = pd.DataFrame(Title_reduction,columns =['reduction'])"
   ]
  },
  {
   "cell_type": "code",
   "execution_count": 44,
   "id": "38640d2d",
   "metadata": {},
   "outputs": [
    {
     "data": {
      "text/html": [
       "<div>\n",
       "<style scoped>\n",
       "    .dataframe tbody tr th:only-of-type {\n",
       "        vertical-align: middle;\n",
       "    }\n",
       "\n",
       "    .dataframe tbody tr th {\n",
       "        vertical-align: top;\n",
       "    }\n",
       "\n",
       "    .dataframe thead th {\n",
       "        text-align: right;\n",
       "    }\n",
       "</style>\n",
       "<table border=\"1\" class=\"dataframe\">\n",
       "  <thead>\n",
       "    <tr style=\"text-align: right;\">\n",
       "      <th></th>\n",
       "      <th>Date</th>\n",
       "      <th>title</th>\n",
       "    </tr>\n",
       "  </thead>\n",
       "  <tbody>\n",
       "    <tr>\n",
       "      <th>2640</th>\n",
       "      <td>2021/12/23</td>\n",
       "      <td>['India freezes bank accounts of Mother Teresa...</td>\n",
       "    </tr>\n",
       "    <tr>\n",
       "      <th>2641</th>\n",
       "      <td>2021/12/27</td>\n",
       "      <td>['Biden signs $740B defense policy bill to ove...</td>\n",
       "    </tr>\n",
       "    <tr>\n",
       "      <th>2642</th>\n",
       "      <td>2021/12/28</td>\n",
       "      <td>['Locked-down residents in one of China's bigg...</td>\n",
       "    </tr>\n",
       "    <tr>\n",
       "      <th>2643</th>\n",
       "      <td>2021/12/29</td>\n",
       "      <td>[\"Pakistan buys 25 China-made J-10C fighter je...</td>\n",
       "    </tr>\n",
       "    <tr>\n",
       "      <th>2644</th>\n",
       "      <td>2021/12/30</td>\n",
       "      <td>['PA President Abbas accuses Israel of ??orga...</td>\n",
       "    </tr>\n",
       "  </tbody>\n",
       "</table>\n",
       "</div>"
      ],
      "text/plain": [
       "            Date                                              title\n",
       "2640  2021/12/23  ['India freezes bank accounts of Mother Teresa...\n",
       "2641  2021/12/27  ['Biden signs $740B defense policy bill to ove...\n",
       "2642  2021/12/28  ['Locked-down residents in one of China's bigg...\n",
       "2643  2021/12/29  [\"Pakistan buys 25 China-made J-10C fighter je...\n",
       "2644  2021/12/30  ['PA President Abbas accuses Israel of ??orga..."
      ]
     },
     "execution_count": 44,
     "metadata": {},
     "output_type": "execute_result"
    }
   ],
   "source": [
    "#Calculate to add up and down columns If greater than 0% mark as 1 Less than 0% mark as 0\n",
    "papers_growth = Title_Growth\n",
    "papers_reduction = Title_reduction\n",
    "papers = papers.drop(['label'], axis=1)\n",
    "papers.tail()"
   ]
  },
  {
   "cell_type": "code",
   "execution_count": 45,
   "id": "9ba3e506",
   "metadata": {},
   "outputs": [
    {
     "data": {
      "text/html": [
       "<div>\n",
       "<style scoped>\n",
       "    .dataframe tbody tr th:only-of-type {\n",
       "        vertical-align: middle;\n",
       "    }\n",
       "\n",
       "    .dataframe tbody tr th {\n",
       "        vertical-align: top;\n",
       "    }\n",
       "\n",
       "    .dataframe thead th {\n",
       "        text-align: right;\n",
       "    }\n",
       "</style>\n",
       "<table border=\"1\" class=\"dataframe\">\n",
       "  <thead>\n",
       "    <tr style=\"text-align: right;\">\n",
       "      <th></th>\n",
       "      <th>growth</th>\n",
       "    </tr>\n",
       "  </thead>\n",
       "  <tbody>\n",
       "    <tr>\n",
       "      <th>0</th>\n",
       "      <td>['Punjab(Pakistan) governor Salman Taseer assa...</td>\n",
       "    </tr>\n",
       "    <tr>\n",
       "      <th>1</th>\n",
       "      <td>['Cable from the U.S. Embassy in Tel Aviv says...</td>\n",
       "    </tr>\n",
       "    <tr>\n",
       "      <th>2</th>\n",
       "      <td>['Uh, reddit? Brisbane, AU (one of our largest...</td>\n",
       "    </tr>\n",
       "    <tr>\n",
       "      <th>3</th>\n",
       "      <td>['West African farmers have succeeded in cutti...</td>\n",
       "    </tr>\n",
       "    <tr>\n",
       "      <th>4</th>\n",
       "      <td>['Haiti reconstruction firms only get $1.60 fo...</td>\n",
       "    </tr>\n",
       "  </tbody>\n",
       "</table>\n",
       "</div>"
      ],
      "text/plain": [
       "                                              growth\n",
       "0  ['Punjab(Pakistan) governor Salman Taseer assa...\n",
       "1  ['Cable from the U.S. Embassy in Tel Aviv says...\n",
       "2  ['Uh, reddit? Brisbane, AU (one of our largest...\n",
       "3  ['West African farmers have succeeded in cutti...\n",
       "4  ['Haiti reconstruction firms only get $1.60 fo..."
      ]
     },
     "execution_count": 45,
     "metadata": {},
     "output_type": "execute_result"
    }
   ],
   "source": [
    "papers_growth.head()"
   ]
  },
  {
   "cell_type": "code",
   "execution_count": 46,
   "id": "73be2540",
   "metadata": {},
   "outputs": [
    {
     "data": {
      "text/html": [
       "<div>\n",
       "<style scoped>\n",
       "    .dataframe tbody tr th:only-of-type {\n",
       "        vertical-align: middle;\n",
       "    }\n",
       "\n",
       "    .dataframe tbody tr th {\n",
       "        vertical-align: top;\n",
       "    }\n",
       "\n",
       "    .dataframe thead th {\n",
       "        text-align: right;\n",
       "    }\n",
       "</style>\n",
       "<table border=\"1\" class=\"dataframe\">\n",
       "  <thead>\n",
       "    <tr style=\"text-align: right;\">\n",
       "      <th></th>\n",
       "      <th>reduction</th>\n",
       "    </tr>\n",
       "  </thead>\n",
       "  <tbody>\n",
       "    <tr>\n",
       "      <th>0</th>\n",
       "      <td>['Italy becomes the first country to ban plast...</td>\n",
       "    </tr>\n",
       "    <tr>\n",
       "      <th>1</th>\n",
       "      <td>['Egypt's Muslims attend Coptic Christmas mass...</td>\n",
       "    </tr>\n",
       "    <tr>\n",
       "      <th>2</th>\n",
       "      <td>['Russia's Murrow moment - Leonid Parfyonov's ...</td>\n",
       "    </tr>\n",
       "    <tr>\n",
       "      <th>3</th>\n",
       "      <td>[\"Aussie here: Just want everyone to know that...</td>\n",
       "    </tr>\n",
       "    <tr>\n",
       "      <th>4</th>\n",
       "      <td>['Several thousand Israelis protested in Tel A...</td>\n",
       "    </tr>\n",
       "  </tbody>\n",
       "</table>\n",
       "</div>"
      ],
      "text/plain": [
       "                                           reduction\n",
       "0  ['Italy becomes the first country to ban plast...\n",
       "1  ['Egypt's Muslims attend Coptic Christmas mass...\n",
       "2  ['Russia's Murrow moment - Leonid Parfyonov's ...\n",
       "3  [\"Aussie here: Just want everyone to know that...\n",
       "4  ['Several thousand Israelis protested in Tel A..."
      ]
     },
     "execution_count": 46,
     "metadata": {},
     "output_type": "execute_result"
    }
   ],
   "source": [
    "papers_reduction.head()"
   ]
  },
  {
   "cell_type": "code",
   "execution_count": 47,
   "id": "2a36a20c",
   "metadata": {},
   "outputs": [
    {
     "data": {
      "text/html": [
       "<div>\n",
       "<style scoped>\n",
       "    .dataframe tbody tr th:only-of-type {\n",
       "        vertical-align: middle;\n",
       "    }\n",
       "\n",
       "    .dataframe tbody tr th {\n",
       "        vertical-align: top;\n",
       "    }\n",
       "\n",
       "    .dataframe thead th {\n",
       "        text-align: right;\n",
       "    }\n",
       "</style>\n",
       "<table border=\"1\" class=\"dataframe\">\n",
       "  <thead>\n",
       "    <tr style=\"text-align: right;\">\n",
       "      <th></th>\n",
       "      <th>Date</th>\n",
       "      <th>title</th>\n",
       "      <th>paper_text_processed</th>\n",
       "    </tr>\n",
       "  </thead>\n",
       "  <tbody>\n",
       "    <tr>\n",
       "      <th>0</th>\n",
       "      <td>2011/1/3</td>\n",
       "      <td>['Punjab(Pakistan) governor Salman Taseer assa...</td>\n",
       "      <td>['punjabpakistan governor salman taseer assass...</td>\n",
       "    </tr>\n",
       "    <tr>\n",
       "      <th>1</th>\n",
       "      <td>2011/1/4</td>\n",
       "      <td>['Cable from the U.S. Embassy in Tel Aviv says...</td>\n",
       "      <td>['cable from the us embassy in tel aviv says i...</td>\n",
       "    </tr>\n",
       "    <tr>\n",
       "      <th>2</th>\n",
       "      <td>2011/1/5</td>\n",
       "      <td>['Italy becomes the first country to ban plast...</td>\n",
       "      <td>['italy becomes the first country to ban plast...</td>\n",
       "    </tr>\n",
       "    <tr>\n",
       "      <th>3</th>\n",
       "      <td>2011/1/6</td>\n",
       "      <td>['Egypt's Muslims attend Coptic Christmas mass...</td>\n",
       "      <td>['egypt's muslims attend coptic christmas mass...</td>\n",
       "    </tr>\n",
       "    <tr>\n",
       "      <th>4</th>\n",
       "      <td>2011/1/7</td>\n",
       "      <td>['Russia's Murrow moment - Leonid Parfyonov's ...</td>\n",
       "      <td>['russia's murrow moment - leonid parfyonov's ...</td>\n",
       "    </tr>\n",
       "  </tbody>\n",
       "</table>\n",
       "</div>"
      ],
      "text/plain": [
       "       Date                                              title  \\\n",
       "0  2011/1/3  ['Punjab(Pakistan) governor Salman Taseer assa...   \n",
       "1  2011/1/4  ['Cable from the U.S. Embassy in Tel Aviv says...   \n",
       "2  2011/1/5  ['Italy becomes the first country to ban plast...   \n",
       "3  2011/1/6  ['Egypt's Muslims attend Coptic Christmas mass...   \n",
       "4  2011/1/7  ['Russia's Murrow moment - Leonid Parfyonov's ...   \n",
       "\n",
       "                                paper_text_processed  \n",
       "0  ['punjabpakistan governor salman taseer assass...  \n",
       "1  ['cable from the us embassy in tel aviv says i...  \n",
       "2  ['italy becomes the first country to ban plast...  \n",
       "3  ['egypt's muslims attend coptic christmas mass...  \n",
       "4  ['russia's murrow moment - leonid parfyonov's ...  "
      ]
     },
     "execution_count": 47,
     "metadata": {},
     "output_type": "execute_result"
    }
   ],
   "source": [
    "# Remove punctuation\n",
    "papers['paper_text_processed'] = papers['title'].map(lambda x: re.sub('[,\\.!?'')(]', '', x))\n",
    "papers_growth['paper_text_processed'] = papers_growth['growth'].map(lambda x: re.sub('[,\\.!?'')(]', '', x))\n",
    "papers_reduction['paper_text_processed'] = papers_reduction['reduction'].map(lambda x: re.sub('[,\\.!?'')(]', '', x))\n",
    "# Convert the titles to lowercase\n",
    "papers['paper_text_processed'] = papers['paper_text_processed'].map(lambda x: x.lower())\n",
    "papers_growth['paper_text_processed'] = papers_growth['paper_text_processed'].map(lambda x: x.lower())\n",
    "papers_reduction['paper_text_processed'] = papers_reduction['reduction'].map(lambda x: re.sub('[,\\.!?'')(]', '', x))\n",
    "# Print out the first rows of papers\n",
    "papers.head()"
   ]
  },
  {
   "cell_type": "code",
   "execution_count": 48,
   "id": "fd35638b",
   "metadata": {},
   "outputs": [
    {
     "data": {
      "text/html": [
       "<div>\n",
       "<style scoped>\n",
       "    .dataframe tbody tr th:only-of-type {\n",
       "        vertical-align: middle;\n",
       "    }\n",
       "\n",
       "    .dataframe tbody tr th {\n",
       "        vertical-align: top;\n",
       "    }\n",
       "\n",
       "    .dataframe thead th {\n",
       "        text-align: right;\n",
       "    }\n",
       "</style>\n",
       "<table border=\"1\" class=\"dataframe\">\n",
       "  <thead>\n",
       "    <tr style=\"text-align: right;\">\n",
       "      <th></th>\n",
       "      <th>reduction</th>\n",
       "      <th>paper_text_processed</th>\n",
       "    </tr>\n",
       "  </thead>\n",
       "  <tbody>\n",
       "    <tr>\n",
       "      <th>0</th>\n",
       "      <td>['Italy becomes the first country to ban plast...</td>\n",
       "      <td>['Italy becomes the first country to ban plast...</td>\n",
       "    </tr>\n",
       "    <tr>\n",
       "      <th>1</th>\n",
       "      <td>['Egypt's Muslims attend Coptic Christmas mass...</td>\n",
       "      <td>['Egypt's Muslims attend Coptic Christmas mass...</td>\n",
       "    </tr>\n",
       "    <tr>\n",
       "      <th>2</th>\n",
       "      <td>['Russia's Murrow moment - Leonid Parfyonov's ...</td>\n",
       "      <td>['Russia's Murrow moment - Leonid Parfyonov's ...</td>\n",
       "    </tr>\n",
       "    <tr>\n",
       "      <th>3</th>\n",
       "      <td>[\"Aussie here: Just want everyone to know that...</td>\n",
       "      <td>[\"Aussie here: Just want everyone to know that...</td>\n",
       "    </tr>\n",
       "    <tr>\n",
       "      <th>4</th>\n",
       "      <td>['Several thousand Israelis protested in Tel A...</td>\n",
       "      <td>['Several thousand Israelis protested in Tel A...</td>\n",
       "    </tr>\n",
       "  </tbody>\n",
       "</table>\n",
       "</div>"
      ],
      "text/plain": [
       "                                           reduction  \\\n",
       "0  ['Italy becomes the first country to ban plast...   \n",
       "1  ['Egypt's Muslims attend Coptic Christmas mass...   \n",
       "2  ['Russia's Murrow moment - Leonid Parfyonov's ...   \n",
       "3  [\"Aussie here: Just want everyone to know that...   \n",
       "4  ['Several thousand Israelis protested in Tel A...   \n",
       "\n",
       "                                paper_text_processed  \n",
       "0  ['Italy becomes the first country to ban plast...  \n",
       "1  ['Egypt's Muslims attend Coptic Christmas mass...  \n",
       "2  ['Russia's Murrow moment - Leonid Parfyonov's ...  \n",
       "3  [\"Aussie here: Just want everyone to know that...  \n",
       "4  ['Several thousand Israelis protested in Tel A...  "
      ]
     },
     "execution_count": 48,
     "metadata": {},
     "output_type": "execute_result"
    }
   ],
   "source": [
    "papers_reduction.head()"
   ]
  },
  {
   "cell_type": "code",
   "execution_count": 49,
   "id": "0f80ab22",
   "metadata": {},
   "outputs": [
    {
     "name": "stdout",
     "output_type": "stream",
     "text": [
      "Requirement already satisfied: wordcloud in d:\\soft\\anaconda\\lib\\site-packages (1.8.1)\n",
      "Requirement already satisfied: pillow in d:\\soft\\anaconda\\lib\\site-packages (from wordcloud) (8.4.0)\n",
      "Requirement already satisfied: numpy>=1.6.1 in d:\\soft\\anaconda\\lib\\site-packages (from wordcloud) (1.20.3)\n",
      "Requirement already satisfied: matplotlib in d:\\soft\\anaconda\\lib\\site-packages (from wordcloud) (3.4.3)\n",
      "Requirement already satisfied: pyparsing>=2.2.1 in c:\\users\\cs321\\appdata\\roaming\\python\\python39\\site-packages (from matplotlib->wordcloud) (2.4.7)\n",
      "Requirement already satisfied: cycler>=0.10 in d:\\soft\\anaconda\\lib\\site-packages (from matplotlib->wordcloud) (0.10.0)\n",
      "Requirement already satisfied: python-dateutil>=2.7 in d:\\soft\\anaconda\\lib\\site-packages (from matplotlib->wordcloud) (2.8.2)\n",
      "Requirement already satisfied: kiwisolver>=1.0.1 in d:\\soft\\anaconda\\lib\\site-packages (from matplotlib->wordcloud) (1.3.1)\n",
      "Requirement already satisfied: six in c:\\users\\cs321\\appdata\\roaming\\python\\python39\\site-packages (from cycler>=0.10->matplotlib->wordcloud) (1.16.0)\n"
     ]
    }
   ],
   "source": [
    "!pip install wordcloud\n",
    "# Import the wordcloud library\n",
    "from wordcloud import WordCloud,STOPWORDS"
   ]
  },
  {
   "cell_type": "code",
   "execution_count": 50,
   "id": "22407011",
   "metadata": {},
   "outputs": [
    {
     "data": {
      "image/png": "[encoded data removed]",
      "text/plain": [
       "<PIL.Image.Image image mode=RGB size=400x200 at 0x1DCEF047E50>"
      ]
     },
     "execution_count": 50,
     "metadata": {},
     "output_type": "execute_result"
    }
   ],
   "source": [
    "# Join the different processed titles together.\n",
    "long_string = ','.join(list(papers['paper_text_processed'].values))\n",
    "long_string_growth = ','.join(list(papers_growth['paper_text_processed'].values))\n",
    "long_string_reduction = ','.join(list(papers_reduction['paper_text_processed'].values))\n",
    "# Create a WordCloud object\n",
    "stopwords = STOPWORDS\n",
    "stopwords.add('say')\n",
    "#stopwords.add('says')\n",
    "stopwords.add('will')\n",
    "#stopwords.add('new')\n",
    "stopwords.add('u')\n",
    "wordcloud = WordCloud(background_color=\"white\", max_words=5000, contour_width=3, contour_color='steelblue',stopwords = stopwords)\n",
    "wordcloud_growth = WordCloud(background_color=\"white\", max_words=5000, contour_width=3, contour_color='steelblue',stopwords = stopwords)\n",
    "wordcloud_reduction = WordCloud(background_color=\"white\", max_words=5000, contour_width=3, contour_color='steelblue',stopwords = stopwords)\n",
    "# Generate a word cloud\n",
    "wordcloud_growth.generate(long_string_growth)\n",
    "wordcloud_reduction.generate(long_string_reduction)\n",
    "wordcloud.generate(long_string)\n",
    "# Visualize the word cloud\n",
    "wordcloud.to_image()\n"
   ]
  },
  {
   "cell_type": "code",
   "execution_count": 51,
   "id": "06843888",
   "metadata": {},
   "outputs": [
    {
     "data": {
      "image/png": "[encoded data removed]",
      "text/plain": [
       "<PIL.Image.Image image mode=RGB size=400x200 at 0x1DCEF08B2E0>"
      ]
     },
     "execution_count": 51,
     "metadata": {},
     "output_type": "execute_result"
    }
   ],
   "source": [
    "wordcloud_growth.to_image()"
   ]
  },
  {
   "cell_type": "code",
   "execution_count": 52,
   "id": "75867244",
   "metadata": {},
   "outputs": [
    {
     "data": {
      "image/png": "[encoded data removed]",
      "text/plain": [
       "<PIL.Image.Image image mode=RGB size=400x200 at 0x1DCEF08A250>"
      ]
     },
     "execution_count": 52,
     "metadata": {},
     "output_type": "execute_result"
    }
   ],
   "source": [
    "wordcloud_reduction.to_image()"
   ]
  },
  {
   "cell_type": "code",
   "execution_count": 53,
   "id": "eb27bf74",
   "metadata": {},
   "outputs": [
    {
     "name": "stderr",
     "output_type": "stream",
     "text": [
      "D:\\Soft\\ANACONDA\\lib\\site-packages\\seaborn\\_decorators.py:36: FutureWarning: Pass the following variables as keyword args: x, y. From version 0.12, the only valid positional argument will be `data`, and passing other arguments without an explicit keyword will result in an error or misinterpretation.\n",
      "  warnings.warn(\n"
     ]
    },
    {
     "data": {
      "image/png": "[encoded data removed]",
      "text/plain": [
       "<Figure size 1080x667.491 with 1 Axes>"
      ]
     },
     "metadata": {
      "needs_background": "light"
     },
     "output_type": "display_data"
    }
   ],
   "source": [
    "# Load the library with the CountVectorizer method\n",
    "import matplotlib.pyplot as plt\n",
    "import seaborn as sns\n",
    "sns.set_style('whitegrid')\n",
    "%matplotlib inline\n",
    "# Helper function\n",
    "def plot_50_most_common_words(count_data, count_vectorizer):\n",
    "    import matplotlib.pyplot as plt\n",
    "    words = count_vectorizer.get_feature_names()\n",
    "    total_counts = np.zeros(len(words))\n",
    "    for t in count_data:\n",
    "        total_counts+=t.toarray()[0]\n",
    "    \n",
    "    count_dict = (zip(words, total_counts))\n",
    "    count_dict = sorted(count_dict, key=lambda x:x[1], reverse=True)[0:50]\n",
    "    words = [w[0] for w in count_dict]\n",
    "    counts = [w[1] for w in count_dict]\n",
    "    x_pos = np.arange(len(words)) \n",
    "    \n",
    "    plt.figure(2, figsize=(15, 15/1.6180))\n",
    "    plt.subplot(title='50 most common words')\n",
    "    sns.set_context(\"notebook\", font_scale=1.25, rc={\"lines.linewidth\": 2.5})\n",
    "    sns.barplot(x_pos, counts, palette='husl')\n",
    "    plt.xticks(x_pos, words, rotation=90) \n",
    "    plt.xlabel('words')\n",
    "    plt.ylabel('counts')\n",
    "    plt.show()\n",
    "# Initialise the count vectorizer with the English stop words\n",
    "count_vectorizer = CountVectorizer(stop_words='english')\n",
    "# Fit and transform the processed titles\n",
    "count_data = count_vectorizer.fit_transform(papers_growth['paper_text_processed'])\n",
    "# Visualise the 50 most common words\n",
    "plot_50_most_common_words(count_data, count_vectorizer)"
   ]
  },
  {
   "cell_type": "code",
   "execution_count": 54,
   "id": "4dfba995",
   "metadata": {},
   "outputs": [
    {
     "name": "stdout",
     "output_type": "stream",
     "text": [
      "Topics found via LDA:\n",
      "\n",
      "Topic #0:\n",
      "says trump new president world people china government police year russia russian years uk korea state war million chinese country\n",
      "\n",
      "Topic #1:\n",
      "says new world trump china government people year president years police country uk said war state russian covid killed korea\n",
      "\n",
      "Topic #2:\n",
      "says new world people police china trump government year years president korea killed russian climate minister said russia north country\n",
      "\n",
      "Topic #3:\n",
      "says new government world people police china president russia year russian uk million said trump years killed military court state\n"
     ]
    }
   ],
   "source": [
    "import warnings\n",
    "warnings.simplefilter(\"ignore\", DeprecationWarning)\n",
    "# Load the LDA model from sk-learn\n",
    "from sklearn.decomposition import LatentDirichletAllocation as LDA\n",
    " \n",
    "# Helper function\n",
    "def print_topics(model, count_vectorizer, n_top_words):\n",
    "    words = count_vectorizer.get_feature_names()\n",
    "    for topic_idx, topic in enumerate(model.components_):\n",
    "        print(\"\\nTopic #%d:\" % topic_idx)\n",
    "        print(\" \".join([words[i]\n",
    "                        for i in topic.argsort()[:-n_top_words - 1:-1]]))\n",
    "        \n",
    "# Tweak the two parameters below\n",
    "number_topics = 4\n",
    "number_words = 30\n",
    "# Create and fit the LDA model\n",
    "lda = LDA(n_components=number_topics, n_jobs=-1)\n",
    "lda.fit(count_data)\n",
    "# Print the topics found by the LDA model\n",
    "print(\"Topics found via LDA:\")\n",
    "print_topics(lda, count_vectorizer, number_words)"
   ]
  },
  {
   "cell_type": "code",
   "execution_count": 55,
   "id": "dc5a478b",
   "metadata": {},
   "outputs": [
    {
     "name": "stderr",
     "output_type": "stream",
     "text": [
      "D:\\Soft\\ANACONDA\\lib\\site-packages\\pyLDAvis\\_prepare.py:246: FutureWarning: In a future version of pandas all arguments of DataFrame.drop except for the argument 'labels' will be keyword-only\n",
      "  default_term_info = default_term_info.sort_values(\n"
     ]
    },
    {
     "name": "stdout",
     "output_type": "stream",
     "text": [
      "Wall time: 3.21 s\n"
     ]
    }
   ],
   "source": [
    "%%time\n",
    "from pyLDAvis import sklearn as sklearn_lda\n",
    "import pickle\n",
    "import pyLDAvis\n",
    "import pyLDAvis.gensim_models\n",
    "import os\n",
    "\n",
    "LDAvis_data_filepath = os.path.join('./ldavis_prepared_' + str(number_topics))\n",
    "# # this is a bit time consuming - make the if statement True\n",
    "# # if you want to execute visualization prep yourself\n",
    "if 1 == 1:\n",
    "    LDAvis_prepared = sklearn_lda.prepare(lda, count_data, count_vectorizer)\n",
    "with open(LDAvis_data_filepath, 'wb') as f:\n",
    "    pickle.dump(LDAvis_prepared, f)\n",
    "\n",
    "# load the pre-prepared pyLDAvis data from disk\n",
    "with open(LDAvis_data_filepath, 'rb') as f:\n",
    "    LDAvis_prepared = pickle.load(f)\n",
    "pyLDAvis.save_html(LDAvis_prepared, './ldavis_prepared_' + str(number_topics) + '.html')"
   ]
  },
  {
   "cell_type": "code",
   "execution_count": null,
   "id": "36432a77",
   "metadata": {},
   "outputs": [],
   "source": []
  }
 ],
 "metadata": {
  "kernelspec": {
   "display_name": "Python 3 (ipykernel)",
   "language": "python",
   "name": "python3"
  },
  "language_info": {
   "codemirror_mode": {
    "name": "ipython",
    "version": 3
   },
   "file_extension": ".py",
   "mimetype": "text/x-python",
   "name": "python",
   "nbconvert_exporter": "python",
   "pygments_lexer": "ipython3",
   "version": "3.9.7"
  }
 },
 "nbformat": 4,
 "nbformat_minor": 5
}
