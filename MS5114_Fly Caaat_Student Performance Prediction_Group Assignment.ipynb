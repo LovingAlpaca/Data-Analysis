{
 "cells": [
  {
   "cell_type": "markdown",
   "metadata": {
    "id": "iVEitrrJq2hR"
   },
   "source": [
    "# Fly Cattt - Student Academic Performance"
   ]
  },
  {
   "cell_type": "markdown",
   "metadata": {
    "id": "uzic-00RqAgw"
   },
   "source": [
    "# Import tool for Machine Learning and Prediction"
   ]
  },
  {
   "cell_type": "code",
   "execution_count": 1,
   "metadata": {
    "id": "LhMdNl6yc_HW"
   },
   "outputs": [],
   "source": [
    "import numpy as np\n",
    "import pandas as pd\n",
    "from sklearn.metrics import mean_squared_error\n",
    "\n",
    "import seaborn as sns\n",
    "from pylab import rcParams\n",
    "import matplotlib.pyplot as plt\n",
    "import matplotlib.animation as animation\n",
    "from matplotlib import rc\n",
    "\n",
    "from sklearn.model_selection import train_test_split\n",
    "from sklearn.preprocessing import StandardScaler\n",
    "# from sklearn.linear_model import LogisticRegression\n",
    "from sklearn.ensemble import RandomForestClassifier\n",
    "from sklearn.neighbors import KNeighborsClassifier\n",
    "from sklearn.linear_model import LogisticRegression\n",
    "from sklearn.tree import DecisionTreeClassifier\n",
    "from sklearn.svm import SVC\n",
    "\n",
    "#Import scikit-learn metrics module for accuracy calculation\n",
    "from sklearn import metrics\n",
    "\n",
    "from sklearn.feature_selection import SelectKBest\n",
    "from sklearn.feature_selection import chi2"
   ]
  },
  {
   "cell_type": "markdown",
   "metadata": {
    "id": "YQnmDVvuDXd_"
   },
   "source": [
    "# Business Understanding\n",
    "### This student's academic performance data is collected using a leaner activity tracker tool. By monitoring learning progress and learner's actions like reading an articles or discussing related subject a lot, we can determine the critical factors that affect the performance of students and build an efficient classification model to predict the students academic performance. Our goal is to help student improve their grade in the middle of studying by changing some actions and by advising."
   ]
  },
  {
   "cell_type": "markdown",
   "metadata": {
    "id": "-f-2ncqIHvQD"
   },
   "source": [
    "# Data Understanding\n",
    "### This data set consists of 480 student records(305 males and 175 females) and 16 features. The possible values used to implement the DM algorithm and building classification model are shown in the table. Our target variable is students' mark level, which is classified into three numerical intervals: Low-Level, Middle-Level, High-Level.![image.png]()"
   ]
  },
  {
   "cell_type": "markdown",
   "metadata": {
    "id": "dDMkw3FjEMpG"
   },
   "source": [
    "# Data Preparation\n",
    "## 1. Data Exploration\n",
    "### 1.1. Descriptive Statistics\n",
    "### 1.2. Missing Value Detecting and Problem Resolving if any\n",
    "### 1.3. Outliers Detection\n",
    "## 2. Data Preprocessing and Data Re-construction\n",
    "### Data cleaning during preprocessing stage\n",
    "### Based on One Hot Encoding, create dummy variables for categorical variables.\n",
    "## 3. Data Visulization\n",
    "### 3.1. Comparision Visulization\n",
    "#### Does a feature have an outlier (using boxplot)?\n",
    "### 3.2. Relationship Visulization\n",
    "#### How the continuous variables changes in response to a change in another? How do two feactures interact with each other (using correlation heatmap)?"
   ]
  },
  {
   "cell_type": "markdown",
   "metadata": {
    "id": "rBpbizQaCbEl"
   },
   "source": [
    "### Load data"
   ]
  },
  {
   "cell_type": "code",
   "execution_count": 2,
   "metadata": {
    "colab": {
     "base_uri": "https://localhost:8080/",
     "height": 270
    },
    "id": "57Fi8wf-q_Rh",
    "outputId": "c8421bf5-3704-40e9-9d26-7c0001375066"
   },
   "outputs": [
    {
     "data": {
      "text/html": [
       "<div>\n",
       "<style scoped>\n",
       "    .dataframe tbody tr th:only-of-type {\n",
       "        vertical-align: middle;\n",
       "    }\n",
       "\n",
       "    .dataframe tbody tr th {\n",
       "        vertical-align: top;\n",
       "    }\n",
       "\n",
       "    .dataframe thead th {\n",
       "        text-align: right;\n",
       "    }\n",
       "</style>\n",
       "<table border=\"1\" class=\"dataframe\">\n",
       "  <thead>\n",
       "    <tr style=\"text-align: right;\">\n",
       "      <th></th>\n",
       "      <th>gender</th>\n",
       "      <th>NationalITy</th>\n",
       "      <th>PlaceofBirth</th>\n",
       "      <th>StageID</th>\n",
       "      <th>GradeID</th>\n",
       "      <th>SectionID</th>\n",
       "      <th>Topic</th>\n",
       "      <th>Semester</th>\n",
       "      <th>Relation</th>\n",
       "      <th>raisedhands</th>\n",
       "      <th>VisITedResources</th>\n",
       "      <th>AnnouncementsView</th>\n",
       "      <th>Discussion</th>\n",
       "      <th>ParentAnsweringSurvey</th>\n",
       "      <th>ParentschoolSatisfaction</th>\n",
       "      <th>StudentAbsenceDays</th>\n",
       "      <th>Class</th>\n",
       "    </tr>\n",
       "  </thead>\n",
       "  <tbody>\n",
       "    <tr>\n",
       "      <th>0</th>\n",
       "      <td>M</td>\n",
       "      <td>KW</td>\n",
       "      <td>KuwaIT</td>\n",
       "      <td>lowerlevel</td>\n",
       "      <td>G-04</td>\n",
       "      <td>A</td>\n",
       "      <td>IT</td>\n",
       "      <td>F</td>\n",
       "      <td>Father</td>\n",
       "      <td>15</td>\n",
       "      <td>16</td>\n",
       "      <td>2</td>\n",
       "      <td>20</td>\n",
       "      <td>Yes</td>\n",
       "      <td>Good</td>\n",
       "      <td>Under-7</td>\n",
       "      <td>M</td>\n",
       "    </tr>\n",
       "    <tr>\n",
       "      <th>1</th>\n",
       "      <td>M</td>\n",
       "      <td>KW</td>\n",
       "      <td>KuwaIT</td>\n",
       "      <td>lowerlevel</td>\n",
       "      <td>G-04</td>\n",
       "      <td>A</td>\n",
       "      <td>IT</td>\n",
       "      <td>F</td>\n",
       "      <td>Father</td>\n",
       "      <td>20</td>\n",
       "      <td>20</td>\n",
       "      <td>3</td>\n",
       "      <td>25</td>\n",
       "      <td>Yes</td>\n",
       "      <td>Good</td>\n",
       "      <td>Under-7</td>\n",
       "      <td>M</td>\n",
       "    </tr>\n",
       "    <tr>\n",
       "      <th>2</th>\n",
       "      <td>M</td>\n",
       "      <td>KW</td>\n",
       "      <td>KuwaIT</td>\n",
       "      <td>lowerlevel</td>\n",
       "      <td>G-04</td>\n",
       "      <td>A</td>\n",
       "      <td>IT</td>\n",
       "      <td>F</td>\n",
       "      <td>Father</td>\n",
       "      <td>10</td>\n",
       "      <td>7</td>\n",
       "      <td>0</td>\n",
       "      <td>30</td>\n",
       "      <td>No</td>\n",
       "      <td>Bad</td>\n",
       "      <td>Above-7</td>\n",
       "      <td>L</td>\n",
       "    </tr>\n",
       "    <tr>\n",
       "      <th>3</th>\n",
       "      <td>M</td>\n",
       "      <td>KW</td>\n",
       "      <td>KuwaIT</td>\n",
       "      <td>lowerlevel</td>\n",
       "      <td>G-04</td>\n",
       "      <td>A</td>\n",
       "      <td>IT</td>\n",
       "      <td>F</td>\n",
       "      <td>Father</td>\n",
       "      <td>30</td>\n",
       "      <td>25</td>\n",
       "      <td>5</td>\n",
       "      <td>35</td>\n",
       "      <td>No</td>\n",
       "      <td>Bad</td>\n",
       "      <td>Above-7</td>\n",
       "      <td>L</td>\n",
       "    </tr>\n",
       "    <tr>\n",
       "      <th>4</th>\n",
       "      <td>M</td>\n",
       "      <td>KW</td>\n",
       "      <td>KuwaIT</td>\n",
       "      <td>lowerlevel</td>\n",
       "      <td>G-04</td>\n",
       "      <td>A</td>\n",
       "      <td>IT</td>\n",
       "      <td>F</td>\n",
       "      <td>Father</td>\n",
       "      <td>40</td>\n",
       "      <td>50</td>\n",
       "      <td>12</td>\n",
       "      <td>50</td>\n",
       "      <td>No</td>\n",
       "      <td>Bad</td>\n",
       "      <td>Above-7</td>\n",
       "      <td>M</td>\n",
       "    </tr>\n",
       "  </tbody>\n",
       "</table>\n",
       "</div>"
      ],
      "text/plain": [
       "  gender NationalITy PlaceofBirth     StageID GradeID SectionID Topic  \\\n",
       "0      M          KW       KuwaIT  lowerlevel    G-04         A    IT   \n",
       "1      M          KW       KuwaIT  lowerlevel    G-04         A    IT   \n",
       "2      M          KW       KuwaIT  lowerlevel    G-04         A    IT   \n",
       "3      M          KW       KuwaIT  lowerlevel    G-04         A    IT   \n",
       "4      M          KW       KuwaIT  lowerlevel    G-04         A    IT   \n",
       "\n",
       "  Semester Relation  raisedhands  VisITedResources  AnnouncementsView  \\\n",
       "0        F   Father           15                16                  2   \n",
       "1        F   Father           20                20                  3   \n",
       "2        F   Father           10                 7                  0   \n",
       "3        F   Father           30                25                  5   \n",
       "4        F   Father           40                50                 12   \n",
       "\n",
       "   Discussion ParentAnsweringSurvey ParentschoolSatisfaction  \\\n",
       "0          20                   Yes                     Good   \n",
       "1          25                   Yes                     Good   \n",
       "2          30                    No                      Bad   \n",
       "3          35                    No                      Bad   \n",
       "4          50                    No                      Bad   \n",
       "\n",
       "  StudentAbsenceDays Class  \n",
       "0            Under-7     M  \n",
       "1            Under-7     M  \n",
       "2            Above-7     L  \n",
       "3            Above-7     L  \n",
       "4            Above-7     M  "
      ]
     },
     "execution_count": 2,
     "metadata": {},
     "output_type": "execute_result"
    }
   ],
   "source": [
    "student_data = pd.read_csv('Students Academic Performance Dataset.csv')\n",
    "\n",
    "student_data.head()"
   ]
  },
  {
   "cell_type": "markdown",
   "metadata": {
    "id": "iAkXkP34Rzss"
   },
   "source": [
    "### Check Missing Data"
   ]
  },
  {
   "cell_type": "code",
   "execution_count": 3,
   "metadata": {
    "colab": {
     "base_uri": "https://localhost:8080/",
     "height": 582
    },
    "id": "DUjoYbwFy0Yo",
    "outputId": "6bfda7b0-3e43-41bd-bd74-afc9bbbbc2c6"
   },
   "outputs": [
    {
     "data": {
      "text/html": [
       "<div>\n",
       "<style scoped>\n",
       "    .dataframe tbody tr th:only-of-type {\n",
       "        vertical-align: middle;\n",
       "    }\n",
       "\n",
       "    .dataframe tbody tr th {\n",
       "        vertical-align: top;\n",
       "    }\n",
       "\n",
       "    .dataframe thead th {\n",
       "        text-align: right;\n",
       "    }\n",
       "</style>\n",
       "<table border=\"1\" class=\"dataframe\">\n",
       "  <thead>\n",
       "    <tr style=\"text-align: right;\">\n",
       "      <th></th>\n",
       "      <th>Total</th>\n",
       "      <th>Percent</th>\n",
       "    </tr>\n",
       "  </thead>\n",
       "  <tbody>\n",
       "    <tr>\n",
       "      <th>gender</th>\n",
       "      <td>0</td>\n",
       "      <td>0.0</td>\n",
       "    </tr>\n",
       "    <tr>\n",
       "      <th>raisedhands</th>\n",
       "      <td>0</td>\n",
       "      <td>0.0</td>\n",
       "    </tr>\n",
       "    <tr>\n",
       "      <th>StudentAbsenceDays</th>\n",
       "      <td>0</td>\n",
       "      <td>0.0</td>\n",
       "    </tr>\n",
       "    <tr>\n",
       "      <th>ParentschoolSatisfaction</th>\n",
       "      <td>0</td>\n",
       "      <td>0.0</td>\n",
       "    </tr>\n",
       "    <tr>\n",
       "      <th>ParentAnsweringSurvey</th>\n",
       "      <td>0</td>\n",
       "      <td>0.0</td>\n",
       "    </tr>\n",
       "    <tr>\n",
       "      <th>Discussion</th>\n",
       "      <td>0</td>\n",
       "      <td>0.0</td>\n",
       "    </tr>\n",
       "    <tr>\n",
       "      <th>AnnouncementsView</th>\n",
       "      <td>0</td>\n",
       "      <td>0.0</td>\n",
       "    </tr>\n",
       "    <tr>\n",
       "      <th>VisITedResources</th>\n",
       "      <td>0</td>\n",
       "      <td>0.0</td>\n",
       "    </tr>\n",
       "    <tr>\n",
       "      <th>Relation</th>\n",
       "      <td>0</td>\n",
       "      <td>0.0</td>\n",
       "    </tr>\n",
       "    <tr>\n",
       "      <th>NationalITy</th>\n",
       "      <td>0</td>\n",
       "      <td>0.0</td>\n",
       "    </tr>\n",
       "    <tr>\n",
       "      <th>Semester</th>\n",
       "      <td>0</td>\n",
       "      <td>0.0</td>\n",
       "    </tr>\n",
       "    <tr>\n",
       "      <th>Topic</th>\n",
       "      <td>0</td>\n",
       "      <td>0.0</td>\n",
       "    </tr>\n",
       "    <tr>\n",
       "      <th>SectionID</th>\n",
       "      <td>0</td>\n",
       "      <td>0.0</td>\n",
       "    </tr>\n",
       "    <tr>\n",
       "      <th>GradeID</th>\n",
       "      <td>0</td>\n",
       "      <td>0.0</td>\n",
       "    </tr>\n",
       "    <tr>\n",
       "      <th>StageID</th>\n",
       "      <td>0</td>\n",
       "      <td>0.0</td>\n",
       "    </tr>\n",
       "    <tr>\n",
       "      <th>PlaceofBirth</th>\n",
       "      <td>0</td>\n",
       "      <td>0.0</td>\n",
       "    </tr>\n",
       "    <tr>\n",
       "      <th>Class</th>\n",
       "      <td>0</td>\n",
       "      <td>0.0</td>\n",
       "    </tr>\n",
       "  </tbody>\n",
       "</table>\n",
       "</div>"
      ],
      "text/plain": [
       "                          Total  Percent\n",
       "gender                        0      0.0\n",
       "raisedhands                   0      0.0\n",
       "StudentAbsenceDays            0      0.0\n",
       "ParentschoolSatisfaction      0      0.0\n",
       "ParentAnsweringSurvey         0      0.0\n",
       "Discussion                    0      0.0\n",
       "AnnouncementsView             0      0.0\n",
       "VisITedResources              0      0.0\n",
       "Relation                      0      0.0\n",
       "NationalITy                   0      0.0\n",
       "Semester                      0      0.0\n",
       "Topic                         0      0.0\n",
       "SectionID                     0      0.0\n",
       "GradeID                       0      0.0\n",
       "StageID                       0      0.0\n",
       "PlaceofBirth                  0      0.0\n",
       "Class                         0      0.0"
      ]
     },
     "execution_count": 3,
     "metadata": {},
     "output_type": "execute_result"
    }
   ],
   "source": [
    "# to see whether we have missing data or not.\n",
    "total = student_data.isnull().sum().sort_values(ascending = False)\n",
    "percent = (student_data.isnull().sum()/ student_data.isnull().count()).sort_values(ascending = False)\n",
    "missing_data = pd.concat([total, percent], axis=1, keys=['Total', 'Percent'])\n",
    "missing_data\n",
    "# there is no missing data in this dataset"
   ]
  },
  {
   "cell_type": "code",
   "execution_count": 4,
   "metadata": {
    "colab": {
     "base_uri": "https://localhost:8080/",
     "height": 424
    },
    "id": "saZWqIFl3S_Z",
    "outputId": "e5467ec2-bf98-4d0d-f5a0-f856098f9d09"
   },
   "outputs": [
    {
     "data": {
      "text/html": [
       "<div>\n",
       "<style scoped>\n",
       "    .dataframe tbody tr th:only-of-type {\n",
       "        vertical-align: middle;\n",
       "    }\n",
       "\n",
       "    .dataframe tbody tr th {\n",
       "        vertical-align: top;\n",
       "    }\n",
       "\n",
       "    .dataframe thead th {\n",
       "        text-align: right;\n",
       "    }\n",
       "</style>\n",
       "<table border=\"1\" class=\"dataframe\">\n",
       "  <thead>\n",
       "    <tr style=\"text-align: right;\">\n",
       "      <th></th>\n",
       "      <th>Class</th>\n",
       "      <th>variable</th>\n",
       "      <th>value</th>\n",
       "    </tr>\n",
       "  </thead>\n",
       "  <tbody>\n",
       "    <tr>\n",
       "      <th>0</th>\n",
       "      <td>M</td>\n",
       "      <td>raisedhands</td>\n",
       "      <td>15</td>\n",
       "    </tr>\n",
       "    <tr>\n",
       "      <th>1</th>\n",
       "      <td>M</td>\n",
       "      <td>raisedhands</td>\n",
       "      <td>20</td>\n",
       "    </tr>\n",
       "    <tr>\n",
       "      <th>2</th>\n",
       "      <td>L</td>\n",
       "      <td>raisedhands</td>\n",
       "      <td>10</td>\n",
       "    </tr>\n",
       "    <tr>\n",
       "      <th>3</th>\n",
       "      <td>L</td>\n",
       "      <td>raisedhands</td>\n",
       "      <td>30</td>\n",
       "    </tr>\n",
       "    <tr>\n",
       "      <th>4</th>\n",
       "      <td>M</td>\n",
       "      <td>raisedhands</td>\n",
       "      <td>40</td>\n",
       "    </tr>\n",
       "    <tr>\n",
       "      <th>...</th>\n",
       "      <td>...</td>\n",
       "      <td>...</td>\n",
       "      <td>...</td>\n",
       "    </tr>\n",
       "    <tr>\n",
       "      <th>1435</th>\n",
       "      <td>L</td>\n",
       "      <td>AnnouncementsView</td>\n",
       "      <td>5</td>\n",
       "    </tr>\n",
       "    <tr>\n",
       "      <th>1436</th>\n",
       "      <td>M</td>\n",
       "      <td>AnnouncementsView</td>\n",
       "      <td>14</td>\n",
       "    </tr>\n",
       "    <tr>\n",
       "      <th>1437</th>\n",
       "      <td>M</td>\n",
       "      <td>AnnouncementsView</td>\n",
       "      <td>25</td>\n",
       "    </tr>\n",
       "    <tr>\n",
       "      <th>1438</th>\n",
       "      <td>L</td>\n",
       "      <td>AnnouncementsView</td>\n",
       "      <td>14</td>\n",
       "    </tr>\n",
       "    <tr>\n",
       "      <th>1439</th>\n",
       "      <td>L</td>\n",
       "      <td>AnnouncementsView</td>\n",
       "      <td>23</td>\n",
       "    </tr>\n",
       "  </tbody>\n",
       "</table>\n",
       "<p>1440 rows × 3 columns</p>\n",
       "</div>"
      ],
      "text/plain": [
       "     Class           variable  value\n",
       "0        M        raisedhands     15\n",
       "1        M        raisedhands     20\n",
       "2        L        raisedhands     10\n",
       "3        L        raisedhands     30\n",
       "4        M        raisedhands     40\n",
       "...    ...                ...    ...\n",
       "1435     L  AnnouncementsView      5\n",
       "1436     M  AnnouncementsView     14\n",
       "1437     M  AnnouncementsView     25\n",
       "1438     L  AnnouncementsView     14\n",
       "1439     L  AnnouncementsView     23\n",
       "\n",
       "[1440 rows x 3 columns]"
      ]
     },
     "execution_count": 4,
     "metadata": {},
     "output_type": "execute_result"
    }
   ],
   "source": [
    "pd.melt(student_data,id_vars='Class',value_vars=['raisedhands','VisITedResources','AnnouncementsView'])"
   ]
  },
  {
   "cell_type": "code",
   "execution_count": 5,
   "metadata": {
    "id": "_UC5QcWaHhH2"
   },
   "outputs": [],
   "source": [
    "## student_data['count'] = 1\n",
    "\n",
    "## pd.melt(student_data,id_vars='Class',value_vars=['gender', 'count'])"
   ]
  },
  {
   "cell_type": "markdown",
   "metadata": {
    "id": "JTwuh8XFTIax"
   },
   "source": [
    "### Data Visulazation - Descriptive Statistics"
   ]
  },
  {
   "cell_type": "code",
   "execution_count": 6,
   "metadata": {
    "colab": {
     "base_uri": "https://localhost:8080/",
     "height": 786
    },
    "id": "gwbfjdW70CDA",
    "outputId": "cd013009-39fc-48e0-c1d0-387eeca2d8f8"
   },
   "outputs": [
    {
     "name": "stderr",
     "output_type": "stream",
     "text": [
      "C:\\Users\\carme\\anaconda3\\lib\\site-packages\\seaborn\\_decorators.py:36: FutureWarning: Pass the following variable as a keyword arg: x. From version 0.12, the only valid positional argument will be `data`, and passing other arguments without an explicit keyword will result in an error or misinterpretation.\n",
      "  warnings.warn(\n"
     ]
    },
    {
     "data": {
      "text/plain": [
       "<AxesSubplot:xlabel='Class', ylabel='count'>"
      ]
     },
     "execution_count": 6,
     "metadata": {},
     "output_type": "execute_result"
    },
    {
     "data": {
      "image/png": "[encoded data removed]",
      "text/plain": [
       "<Figure size 1152x864 with 1 Axes>"
      ]
     },
     "metadata": {
      "needs_background": "light"
     },
     "output_type": "display_data"
    }
   ],
   "source": [
    "from pandas.api.types import CategoricalDtype\n",
    "## explore data\n",
    "plt.figure(figsize=(16,12))\n",
    "ClassLabels = pd.Series(['L','M','H'])\n",
    "student_data['Class'] = pd.Categorical(student_data['Class'], categories = ClassLabels , ordered = True)\n",
    "\n",
    "sns.countplot(student_data['Class'].sort_values(), palette='PuBu')\n"
   ]
  },
  {
   "cell_type": "markdown",
   "metadata": {
    "id": "1AnYes6WbquL"
   },
   "source": [
    "### Detect Outliers"
   ]
  },
  {
   "cell_type": "code",
   "execution_count": 7,
   "metadata": {
    "colab": {
     "base_uri": "https://localhost:8080/",
     "height": 424
    },
    "id": "ABJv-1Ufbxa3",
    "outputId": "32f4bb37-4962-4ea9-e81c-6ada08927135"
   },
   "outputs": [
    {
     "data": {
      "text/html": [
       "<div>\n",
       "<style scoped>\n",
       "    .dataframe tbody tr th:only-of-type {\n",
       "        vertical-align: middle;\n",
       "    }\n",
       "\n",
       "    .dataframe tbody tr th {\n",
       "        vertical-align: top;\n",
       "    }\n",
       "\n",
       "    .dataframe thead th {\n",
       "        text-align: right;\n",
       "    }\n",
       "</style>\n",
       "<table border=\"1\" class=\"dataframe\">\n",
       "  <thead>\n",
       "    <tr style=\"text-align: right;\">\n",
       "      <th></th>\n",
       "      <th>raisedhands</th>\n",
       "      <th>VisITedResources</th>\n",
       "      <th>AnnouncementsView</th>\n",
       "      <th>Discussion</th>\n",
       "    </tr>\n",
       "  </thead>\n",
       "  <tbody>\n",
       "    <tr>\n",
       "      <th>0</th>\n",
       "      <td>NaN</td>\n",
       "      <td>NaN</td>\n",
       "      <td>NaN</td>\n",
       "      <td>NaN</td>\n",
       "    </tr>\n",
       "    <tr>\n",
       "      <th>1</th>\n",
       "      <td>NaN</td>\n",
       "      <td>NaN</td>\n",
       "      <td>NaN</td>\n",
       "      <td>NaN</td>\n",
       "    </tr>\n",
       "    <tr>\n",
       "      <th>2</th>\n",
       "      <td>NaN</td>\n",
       "      <td>NaN</td>\n",
       "      <td>NaN</td>\n",
       "      <td>NaN</td>\n",
       "    </tr>\n",
       "    <tr>\n",
       "      <th>3</th>\n",
       "      <td>NaN</td>\n",
       "      <td>NaN</td>\n",
       "      <td>NaN</td>\n",
       "      <td>NaN</td>\n",
       "    </tr>\n",
       "    <tr>\n",
       "      <th>4</th>\n",
       "      <td>NaN</td>\n",
       "      <td>NaN</td>\n",
       "      <td>NaN</td>\n",
       "      <td>NaN</td>\n",
       "    </tr>\n",
       "    <tr>\n",
       "      <th>...</th>\n",
       "      <td>...</td>\n",
       "      <td>...</td>\n",
       "      <td>...</td>\n",
       "      <td>...</td>\n",
       "    </tr>\n",
       "    <tr>\n",
       "      <th>475</th>\n",
       "      <td>NaN</td>\n",
       "      <td>NaN</td>\n",
       "      <td>NaN</td>\n",
       "      <td>NaN</td>\n",
       "    </tr>\n",
       "    <tr>\n",
       "      <th>476</th>\n",
       "      <td>NaN</td>\n",
       "      <td>NaN</td>\n",
       "      <td>NaN</td>\n",
       "      <td>NaN</td>\n",
       "    </tr>\n",
       "    <tr>\n",
       "      <th>477</th>\n",
       "      <td>NaN</td>\n",
       "      <td>NaN</td>\n",
       "      <td>NaN</td>\n",
       "      <td>NaN</td>\n",
       "    </tr>\n",
       "    <tr>\n",
       "      <th>478</th>\n",
       "      <td>NaN</td>\n",
       "      <td>NaN</td>\n",
       "      <td>NaN</td>\n",
       "      <td>NaN</td>\n",
       "    </tr>\n",
       "    <tr>\n",
       "      <th>479</th>\n",
       "      <td>NaN</td>\n",
       "      <td>NaN</td>\n",
       "      <td>NaN</td>\n",
       "      <td>NaN</td>\n",
       "    </tr>\n",
       "  </tbody>\n",
       "</table>\n",
       "<p>480 rows × 4 columns</p>\n",
       "</div>"
      ],
      "text/plain": [
       "     raisedhands  VisITedResources  AnnouncementsView  Discussion\n",
       "0            NaN               NaN                NaN         NaN\n",
       "1            NaN               NaN                NaN         NaN\n",
       "2            NaN               NaN                NaN         NaN\n",
       "3            NaN               NaN                NaN         NaN\n",
       "4            NaN               NaN                NaN         NaN\n",
       "..           ...               ...                ...         ...\n",
       "475          NaN               NaN                NaN         NaN\n",
       "476          NaN               NaN                NaN         NaN\n",
       "477          NaN               NaN                NaN         NaN\n",
       "478          NaN               NaN                NaN         NaN\n",
       "479          NaN               NaN                NaN         NaN\n",
       "\n",
       "[480 rows x 4 columns]"
      ]
     },
     "execution_count": 7,
     "metadata": {},
     "output_type": "execute_result"
    }
   ],
   "source": [
    "# Box Plot - Continuous Variables\n",
    "## sns.boxplot(student_data['raisedhands'])\n",
    "## sns.boxplot(student_data['VisITedResources'])\n",
    "## sns.boxplot(student_data['AnnouncementsView'])\n",
    "## sns.boxplot(student_data['Discussion'])\n",
    "\n",
    "## create a def find outliers function\n",
    "\n",
    "def find_outliers_IQR(df):\n",
    "  q1=df.quantile(0.25)\n",
    "  q3=df.quantile(0.75)\n",
    "  IQR=q3-q1\n",
    "  outliers = df[((df<(q1-1.5*IQR)) | (df>(q3+1.5*IQR)))]\n",
    "  return outliers\n",
    "\n",
    "outliers = find_outliers_IQR(student_data[['raisedhands','VisITedResources', 'AnnouncementsView','Discussion']])\n",
    "outliers\n",
    "\n"
   ]
  },
  {
   "cell_type": "markdown",
   "metadata": {
    "id": "iCExR5XNSPS_"
   },
   "source": [
    "### Comparision Visulazation for outliers detection"
   ]
  },
  {
   "cell_type": "code",
   "execution_count": 8,
   "metadata": {
    "colab": {
     "base_uri": "https://localhost:8080/",
     "height": 386
    },
    "id": "Re6DPjnD7lD3",
    "outputId": "e0af9edb-f725-456d-ea9a-308ec4079a0c"
   },
   "outputs": [
    {
     "data": {
      "text/plain": [
       "<seaborn.axisgrid.FacetGrid at 0x1f5632ed1c0>"
      ]
     },
     "execution_count": 8,
     "metadata": {},
     "output_type": "execute_result"
    },
    {
     "data": {
      "image/png": "[encoded data removed]",
      "text/plain": [
       "<Figure size 360x360 with 1 Axes>"
      ]
     },
     "metadata": {
      "needs_background": "light"
     },
     "output_type": "display_data"
    }
   ],
   "source": [
    "## plot to check the continuous variables outliers\n",
    "sns.catplot(data=student_data, orient=\"h\", kind=\"box\", palette=\"Set2\")\n"
   ]
  },
  {
   "cell_type": "code",
   "execution_count": 9,
   "metadata": {
    "colab": {
     "base_uri": "https://localhost:8080/",
     "height": 882
    },
    "id": "njrTsqdt8R3g",
    "outputId": "b52a4006-73a5-4c20-c323-740b60aa0565"
   },
   "outputs": [
    {
     "data": {
      "text/plain": [
       "<seaborn.axisgrid.FacetGrid at 0x1f563484dc0>"
      ]
     },
     "execution_count": 9,
     "metadata": {},
     "output_type": "execute_result"
    },
    {
     "data": {
      "image/png": "[encoded data removed]",
      "text/plain": [
       "<Figure size 432x216 with 2 Axes>"
      ]
     },
     "metadata": {
      "needs_background": "light"
     },
     "output_type": "display_data"
    },
    {
     "data": {
      "image/png": "[encoded data removed]",
      "text/plain": [
       "<Figure size 432x216 with 2 Axes>"
      ]
     },
     "metadata": {
      "needs_background": "light"
     },
     "output_type": "display_data"
    },
    {
     "data": {
      "image/png": "[encoded data removed]",
      "text/plain": [
       "<Figure size 432x216 with 2 Axes>"
      ]
     },
     "metadata": {
      "needs_background": "light"
     },
     "output_type": "display_data"
    },
    {
     "data": {
      "image/png": "[encoded data removed]",
      "text/plain": [
       "<Figure size 432x216 with 2 Axes>"
      ]
     },
     "metadata": {
      "needs_background": "light"
     },
     "output_type": "display_data"
    }
   ],
   "source": [
    "## Showing multiple relationships with facets\n",
    "## add faceting variables to visualize higher-dimensional relationships\n",
    "r = sns.catplot(x=\"raisedhands\", y=\"Class\", row=\"gender\",\n",
    "               kind=\"box\", orient=\"h\", height=1.5, aspect=4,\n",
    "               data=student_data)\n",
    "r.set(xscale=\"log\")\n",
    "\n",
    "v = sns.catplot(x=\"VisITedResources\", y=\"Class\", row=\"gender\",\n",
    "               kind=\"box\", orient=\"h\", height=1.5, aspect=4,\n",
    "              data=student_data)\n",
    "v.set(xscale=\"log\")\n",
    "\n",
    "d = sns.catplot(x=\"Discussion\", y=\"Class\", row=\"gender\",\n",
    "               kind=\"box\", orient=\"h\", height=1.5, aspect=4,\n",
    "              data=student_data)\n",
    "d.set(xscale=\"log\")\n",
    "\n",
    "a = sns.catplot(x=\"AnnouncementsView\", y=\"Class\", row=\"gender\",\n",
    "               kind=\"box\", orient=\"h\", height=1.5, aspect=4,\n",
    "              data=student_data)\n",
    "a.set(xscale=\"log\")"
   ]
  },
  {
   "cell_type": "markdown",
   "metadata": {
    "id": "guFnDf6UC_Jt"
   },
   "source": [
    "### Construct Data\n",
    "###### Attributes have to be in numeric form and be normalized to achieve best classification results."
   ]
  },
  {
   "cell_type": "code",
   "execution_count": 10,
   "metadata": {
    "colab": {
     "base_uri": "https://localhost:8080/",
     "height": 270
    },
    "id": "LDNVKr0FPWto",
    "outputId": "af3420bf-7bfb-4c60-d600-5c0965b9dd3f"
   },
   "outputs": [
    {
     "data": {
      "text/html": [
       "<div>\n",
       "<style scoped>\n",
       "    .dataframe tbody tr th:only-of-type {\n",
       "        vertical-align: middle;\n",
       "    }\n",
       "\n",
       "    .dataframe tbody tr th {\n",
       "        vertical-align: top;\n",
       "    }\n",
       "\n",
       "    .dataframe thead th {\n",
       "        text-align: right;\n",
       "    }\n",
       "</style>\n",
       "<table border=\"1\" class=\"dataframe\">\n",
       "  <thead>\n",
       "    <tr style=\"text-align: right;\">\n",
       "      <th></th>\n",
       "      <th>gender</th>\n",
       "      <th>NationalITy</th>\n",
       "      <th>PlaceofBirth</th>\n",
       "      <th>StageID</th>\n",
       "      <th>GradeID</th>\n",
       "      <th>SectionID</th>\n",
       "      <th>Topic</th>\n",
       "      <th>Semester</th>\n",
       "      <th>Relation</th>\n",
       "      <th>raisedhands</th>\n",
       "      <th>VisITedResources</th>\n",
       "      <th>AnnouncementsView</th>\n",
       "      <th>Discussion</th>\n",
       "      <th>ParentAnsweringSurvey</th>\n",
       "      <th>ParentschoolSatisfaction</th>\n",
       "      <th>StudentAbsenceDays</th>\n",
       "      <th>Class</th>\n",
       "      <th>Class_numeric</th>\n",
       "    </tr>\n",
       "  </thead>\n",
       "  <tbody>\n",
       "    <tr>\n",
       "      <th>0</th>\n",
       "      <td>M</td>\n",
       "      <td>KW</td>\n",
       "      <td>KuwaIT</td>\n",
       "      <td>lowerlevel</td>\n",
       "      <td>G-04</td>\n",
       "      <td>A</td>\n",
       "      <td>IT</td>\n",
       "      <td>F</td>\n",
       "      <td>Father</td>\n",
       "      <td>15</td>\n",
       "      <td>16</td>\n",
       "      <td>2</td>\n",
       "      <td>20</td>\n",
       "      <td>Yes</td>\n",
       "      <td>Good</td>\n",
       "      <td>Under-7</td>\n",
       "      <td>M</td>\n",
       "      <td>1</td>\n",
       "    </tr>\n",
       "    <tr>\n",
       "      <th>1</th>\n",
       "      <td>M</td>\n",
       "      <td>KW</td>\n",
       "      <td>KuwaIT</td>\n",
       "      <td>lowerlevel</td>\n",
       "      <td>G-04</td>\n",
       "      <td>A</td>\n",
       "      <td>IT</td>\n",
       "      <td>F</td>\n",
       "      <td>Father</td>\n",
       "      <td>20</td>\n",
       "      <td>20</td>\n",
       "      <td>3</td>\n",
       "      <td>25</td>\n",
       "      <td>Yes</td>\n",
       "      <td>Good</td>\n",
       "      <td>Under-7</td>\n",
       "      <td>M</td>\n",
       "      <td>1</td>\n",
       "    </tr>\n",
       "    <tr>\n",
       "      <th>2</th>\n",
       "      <td>M</td>\n",
       "      <td>KW</td>\n",
       "      <td>KuwaIT</td>\n",
       "      <td>lowerlevel</td>\n",
       "      <td>G-04</td>\n",
       "      <td>A</td>\n",
       "      <td>IT</td>\n",
       "      <td>F</td>\n",
       "      <td>Father</td>\n",
       "      <td>10</td>\n",
       "      <td>7</td>\n",
       "      <td>0</td>\n",
       "      <td>30</td>\n",
       "      <td>No</td>\n",
       "      <td>Bad</td>\n",
       "      <td>Above-7</td>\n",
       "      <td>L</td>\n",
       "      <td>0</td>\n",
       "    </tr>\n",
       "    <tr>\n",
       "      <th>3</th>\n",
       "      <td>M</td>\n",
       "      <td>KW</td>\n",
       "      <td>KuwaIT</td>\n",
       "      <td>lowerlevel</td>\n",
       "      <td>G-04</td>\n",
       "      <td>A</td>\n",
       "      <td>IT</td>\n",
       "      <td>F</td>\n",
       "      <td>Father</td>\n",
       "      <td>30</td>\n",
       "      <td>25</td>\n",
       "      <td>5</td>\n",
       "      <td>35</td>\n",
       "      <td>No</td>\n",
       "      <td>Bad</td>\n",
       "      <td>Above-7</td>\n",
       "      <td>L</td>\n",
       "      <td>0</td>\n",
       "    </tr>\n",
       "    <tr>\n",
       "      <th>4</th>\n",
       "      <td>M</td>\n",
       "      <td>KW</td>\n",
       "      <td>KuwaIT</td>\n",
       "      <td>lowerlevel</td>\n",
       "      <td>G-04</td>\n",
       "      <td>A</td>\n",
       "      <td>IT</td>\n",
       "      <td>F</td>\n",
       "      <td>Father</td>\n",
       "      <td>40</td>\n",
       "      <td>50</td>\n",
       "      <td>12</td>\n",
       "      <td>50</td>\n",
       "      <td>No</td>\n",
       "      <td>Bad</td>\n",
       "      <td>Above-7</td>\n",
       "      <td>M</td>\n",
       "      <td>1</td>\n",
       "    </tr>\n",
       "  </tbody>\n",
       "</table>\n",
       "</div>"
      ],
      "text/plain": [
       "  gender NationalITy PlaceofBirth     StageID GradeID SectionID Topic  \\\n",
       "0      M          KW       KuwaIT  lowerlevel    G-04         A    IT   \n",
       "1      M          KW       KuwaIT  lowerlevel    G-04         A    IT   \n",
       "2      M          KW       KuwaIT  lowerlevel    G-04         A    IT   \n",
       "3      M          KW       KuwaIT  lowerlevel    G-04         A    IT   \n",
       "4      M          KW       KuwaIT  lowerlevel    G-04         A    IT   \n",
       "\n",
       "  Semester Relation  raisedhands  VisITedResources  AnnouncementsView  \\\n",
       "0        F   Father           15                16                  2   \n",
       "1        F   Father           20                20                  3   \n",
       "2        F   Father           10                 7                  0   \n",
       "3        F   Father           30                25                  5   \n",
       "4        F   Father           40                50                 12   \n",
       "\n",
       "   Discussion ParentAnsweringSurvey ParentschoolSatisfaction  \\\n",
       "0          20                   Yes                     Good   \n",
       "1          25                   Yes                     Good   \n",
       "2          30                    No                      Bad   \n",
       "3          35                    No                      Bad   \n",
       "4          50                    No                      Bad   \n",
       "\n",
       "  StudentAbsenceDays Class Class_numeric  \n",
       "0            Under-7     M             1  \n",
       "1            Under-7     M             1  \n",
       "2            Above-7     L             0  \n",
       "3            Above-7     L             0  \n",
       "4            Above-7     M             1  "
      ]
     },
     "execution_count": 10,
     "metadata": {},
     "output_type": "execute_result"
    }
   ],
   "source": [
    "## Convert categical data \"Class\" to numeric data\n",
    "student_data['Class_numeric'] = student_data['Class'].map(dict(L=0,M=1,H=2))\n",
    "\n",
    "student_data.head()"
   ]
  },
  {
   "cell_type": "markdown",
   "metadata": {
    "id": "W1aA836seevF"
   },
   "source": [
    "#### One Hot Encoding"
   ]
  },
  {
   "cell_type": "code",
   "execution_count": 11,
   "metadata": {
    "colab": {
     "base_uri": "https://localhost:8080/"
    },
    "id": "owviuywz3Ai6",
    "outputId": "cc5e1b39-745b-41af-f2c6-d6cb3c5ef917"
   },
   "outputs": [
    {
     "data": {
      "text/plain": [
       "Index(['gender', 'NationalITy', 'PlaceofBirth', 'StageID', 'GradeID',\n",
       "       'SectionID', 'Topic', 'Semester', 'Relation', 'raisedhands',\n",
       "       'VisITedResources', 'AnnouncementsView', 'Discussion',\n",
       "       'ParentAnsweringSurvey', 'ParentschoolSatisfaction',\n",
       "       'StudentAbsenceDays', 'Class', 'Class_numeric'],\n",
       "      dtype='object')"
      ]
     },
     "execution_count": 11,
     "metadata": {},
     "output_type": "execute_result"
    }
   ],
   "source": [
    "student_data.columns"
   ]
  },
  {
   "cell_type": "code",
   "execution_count": 12,
   "metadata": {
    "id": "jIxNz1ZY90hk"
   },
   "outputs": [],
   "source": [
    "## Building a better model, we have to change the categorical variables into dummy variables.\n",
    "## To aviod multicollinearity, drop_first = True.\n",
    "x = pd.get_dummies(student_data.drop(['ParentschoolSatisfaction', 'Class','Class_numeric'],axis=1),\n",
    "                   columns=['gender', 'NationalITy', 'PlaceofBirth','StageID',\n",
    "                            'GradeID','SectionID', 'Topic', 'Semester', 'Relation',\n",
    "                            'ParentAnsweringSurvey','StudentAbsenceDays'],\n",
    "                  drop_first = True)\n",
    "\n",
    "y = student_data['Class_numeric']\n",
    "\n",
    "\n",
    "## dframe = pd.DataFrame(x, y)"
   ]
  },
  {
   "cell_type": "code",
   "execution_count": 13,
   "metadata": {
    "colab": {
     "base_uri": "https://localhost:8080/"
    },
    "id": "JFM0GjvAh3r7",
    "outputId": "c3440c78-1a29-4e6e-f4f1-79c90d08a3d9"
   },
   "outputs": [
    {
     "data": {
      "text/plain": [
       "Index(['raisedhands', 'VisITedResources', 'AnnouncementsView', 'Discussion',\n",
       "       'gender_M', 'NationalITy_Iran', 'NationalITy_Iraq',\n",
       "       'NationalITy_Jordan', 'NationalITy_KW', 'NationalITy_Lybia',\n",
       "       'NationalITy_Morocco', 'NationalITy_Palestine',\n",
       "       'NationalITy_SaudiArabia', 'NationalITy_Syria', 'NationalITy_Tunis',\n",
       "       'NationalITy_USA', 'NationalITy_lebanon', 'NationalITy_venzuela',\n",
       "       'PlaceofBirth_Iran', 'PlaceofBirth_Iraq', 'PlaceofBirth_Jordan',\n",
       "       'PlaceofBirth_KuwaIT', 'PlaceofBirth_Lybia', 'PlaceofBirth_Morocco',\n",
       "       'PlaceofBirth_Palestine', 'PlaceofBirth_SaudiArabia',\n",
       "       'PlaceofBirth_Syria', 'PlaceofBirth_Tunis', 'PlaceofBirth_USA',\n",
       "       'PlaceofBirth_lebanon', 'PlaceofBirth_venzuela', 'StageID_MiddleSchool',\n",
       "       'StageID_lowerlevel', 'GradeID_G-04', 'GradeID_G-05', 'GradeID_G-06',\n",
       "       'GradeID_G-07', 'GradeID_G-08', 'GradeID_G-09', 'GradeID_G-10',\n",
       "       'GradeID_G-11', 'GradeID_G-12', 'SectionID_B', 'SectionID_C',\n",
       "       'Topic_Biology', 'Topic_Chemistry', 'Topic_English', 'Topic_French',\n",
       "       'Topic_Geology', 'Topic_History', 'Topic_IT', 'Topic_Math',\n",
       "       'Topic_Quran', 'Topic_Science', 'Topic_Spanish', 'Semester_S',\n",
       "       'Relation_Mum', 'ParentAnsweringSurvey_Yes',\n",
       "       'StudentAbsenceDays_Under-7'],\n",
       "      dtype='object')"
      ]
     },
     "execution_count": 13,
     "metadata": {},
     "output_type": "execute_result"
    }
   ],
   "source": [
    "## check the feature names in \"x\" dataframe\n",
    "x.columns"
   ]
  },
  {
   "cell_type": "markdown",
   "metadata": {
    "id": "G-DmCBtRCHud"
   },
   "source": [
    "### Relationship Visulization - Continuous Variables Correlation Heatmap"
   ]
  },
  {
   "cell_type": "code",
   "execution_count": 14,
   "metadata": {},
   "outputs": [
    {
     "name": "stdout",
     "output_type": "stream",
     "text": [
      "<class 'pandas.core.frame.DataFrame'>\n",
      "RangeIndex: 480 entries, 0 to 479\n",
      "Data columns (total 18 columns):\n",
      " #   Column                    Non-Null Count  Dtype   \n",
      "---  ------                    --------------  -----   \n",
      " 0   gender                    480 non-null    object  \n",
      " 1   NationalITy               480 non-null    object  \n",
      " 2   PlaceofBirth              480 non-null    object  \n",
      " 3   StageID                   480 non-null    object  \n",
      " 4   GradeID                   480 non-null    object  \n",
      " 5   SectionID                 480 non-null    object  \n",
      " 6   Topic                     480 non-null    object  \n",
      " 7   Semester                  480 non-null    object  \n",
      " 8   Relation                  480 non-null    object  \n",
      " 9   raisedhands               480 non-null    int64   \n",
      " 10  VisITedResources          480 non-null    int64   \n",
      " 11  AnnouncementsView         480 non-null    int64   \n",
      " 12  Discussion                480 non-null    int64   \n",
      " 13  ParentAnsweringSurvey     480 non-null    object  \n",
      " 14  ParentschoolSatisfaction  480 non-null    object  \n",
      " 15  StudentAbsenceDays        480 non-null    object  \n",
      " 16  Class                     480 non-null    category\n",
      " 17  Class_numeric             480 non-null    category\n",
      "dtypes: category(2), int64(4), object(12)\n",
      "memory usage: 61.3+ KB\n"
     ]
    }
   ],
   "source": [
    "student_data.info() ###View the number and type of variable lines"
   ]
  },
  {
   "cell_type": "code",
   "execution_count": 15,
   "metadata": {},
   "outputs": [
    {
     "data": {
      "text/html": [
       "<div>\n",
       "<style scoped>\n",
       "    .dataframe tbody tr th:only-of-type {\n",
       "        vertical-align: middle;\n",
       "    }\n",
       "\n",
       "    .dataframe tbody tr th {\n",
       "        vertical-align: top;\n",
       "    }\n",
       "\n",
       "    .dataframe thead th {\n",
       "        text-align: right;\n",
       "    }\n",
       "</style>\n",
       "<table border=\"1\" class=\"dataframe\">\n",
       "  <thead>\n",
       "    <tr style=\"text-align: right;\">\n",
       "      <th></th>\n",
       "      <th>gender</th>\n",
       "      <th>NationalITy</th>\n",
       "      <th>PlaceofBirth</th>\n",
       "      <th>StageID</th>\n",
       "      <th>GradeID</th>\n",
       "      <th>SectionID</th>\n",
       "      <th>Topic</th>\n",
       "      <th>Semester</th>\n",
       "      <th>Relation</th>\n",
       "      <th>ParentAnsweringSurvey</th>\n",
       "      <th>ParentschoolSatisfaction</th>\n",
       "      <th>StudentAbsenceDays</th>\n",
       "    </tr>\n",
       "  </thead>\n",
       "  <tbody>\n",
       "    <tr>\n",
       "      <th>count</th>\n",
       "      <td>480</td>\n",
       "      <td>480</td>\n",
       "      <td>480</td>\n",
       "      <td>480</td>\n",
       "      <td>480</td>\n",
       "      <td>480</td>\n",
       "      <td>480</td>\n",
       "      <td>480</td>\n",
       "      <td>480</td>\n",
       "      <td>480</td>\n",
       "      <td>480</td>\n",
       "      <td>480</td>\n",
       "    </tr>\n",
       "    <tr>\n",
       "      <th>unique</th>\n",
       "      <td>2</td>\n",
       "      <td>14</td>\n",
       "      <td>14</td>\n",
       "      <td>3</td>\n",
       "      <td>10</td>\n",
       "      <td>3</td>\n",
       "      <td>12</td>\n",
       "      <td>2</td>\n",
       "      <td>2</td>\n",
       "      <td>2</td>\n",
       "      <td>2</td>\n",
       "      <td>2</td>\n",
       "    </tr>\n",
       "    <tr>\n",
       "      <th>top</th>\n",
       "      <td>M</td>\n",
       "      <td>KW</td>\n",
       "      <td>KuwaIT</td>\n",
       "      <td>MiddleSchool</td>\n",
       "      <td>G-02</td>\n",
       "      <td>A</td>\n",
       "      <td>IT</td>\n",
       "      <td>F</td>\n",
       "      <td>Father</td>\n",
       "      <td>Yes</td>\n",
       "      <td>Good</td>\n",
       "      <td>Under-7</td>\n",
       "    </tr>\n",
       "    <tr>\n",
       "      <th>freq</th>\n",
       "      <td>305</td>\n",
       "      <td>179</td>\n",
       "      <td>180</td>\n",
       "      <td>248</td>\n",
       "      <td>147</td>\n",
       "      <td>283</td>\n",
       "      <td>95</td>\n",
       "      <td>245</td>\n",
       "      <td>283</td>\n",
       "      <td>270</td>\n",
       "      <td>292</td>\n",
       "      <td>289</td>\n",
       "    </tr>\n",
       "  </tbody>\n",
       "</table>\n",
       "</div>"
      ],
      "text/plain": [
       "       gender NationalITy PlaceofBirth       StageID GradeID SectionID Topic  \\\n",
       "count     480         480          480           480     480       480   480   \n",
       "unique      2          14           14             3      10         3    12   \n",
       "top         M          KW       KuwaIT  MiddleSchool    G-02         A    IT   \n",
       "freq      305         179          180           248     147       283    95   \n",
       "\n",
       "       Semester Relation ParentAnsweringSurvey ParentschoolSatisfaction  \\\n",
       "count       480      480                   480                      480   \n",
       "unique        2        2                     2                        2   \n",
       "top           F   Father                   Yes                     Good   \n",
       "freq        245      283                   270                      292   \n",
       "\n",
       "       StudentAbsenceDays  \n",
       "count                 480  \n",
       "unique                  2  \n",
       "top               Under-7  \n",
       "freq                  289  "
      ]
     },
     "execution_count": 15,
     "metadata": {},
     "output_type": "execute_result"
    }
   ],
   "source": [
    "student_data.select_dtypes(include=[\"object\"]).describe() ###Description of independent variables categorical variables"
   ]
  },
  {
   "cell_type": "code",
   "execution_count": 16,
   "metadata": {},
   "outputs": [
    {
     "data": {
      "text/html": [
       "<div>\n",
       "<style scoped>\n",
       "    .dataframe tbody tr th:only-of-type {\n",
       "        vertical-align: middle;\n",
       "    }\n",
       "\n",
       "    .dataframe tbody tr th {\n",
       "        vertical-align: top;\n",
       "    }\n",
       "\n",
       "    .dataframe thead th {\n",
       "        text-align: right;\n",
       "    }\n",
       "</style>\n",
       "<table border=\"1\" class=\"dataframe\">\n",
       "  <thead>\n",
       "    <tr style=\"text-align: right;\">\n",
       "      <th></th>\n",
       "      <th>Class</th>\n",
       "      <th>Class_numeric</th>\n",
       "    </tr>\n",
       "  </thead>\n",
       "  <tbody>\n",
       "    <tr>\n",
       "      <th>count</th>\n",
       "      <td>480</td>\n",
       "      <td>480</td>\n",
       "    </tr>\n",
       "    <tr>\n",
       "      <th>unique</th>\n",
       "      <td>3</td>\n",
       "      <td>3</td>\n",
       "    </tr>\n",
       "    <tr>\n",
       "      <th>top</th>\n",
       "      <td>M</td>\n",
       "      <td>1</td>\n",
       "    </tr>\n",
       "    <tr>\n",
       "      <th>freq</th>\n",
       "      <td>211</td>\n",
       "      <td>211</td>\n",
       "    </tr>\n",
       "  </tbody>\n",
       "</table>\n",
       "</div>"
      ],
      "text/plain": [
       "       Class  Class_numeric\n",
       "count    480            480\n",
       "unique     3              3\n",
       "top        M              1\n",
       "freq     211            211"
      ]
     },
     "execution_count": 16,
     "metadata": {},
     "output_type": "execute_result"
    }
   ],
   "source": [
    "student_data.select_dtypes(include=[\"category\"]).describe() ###Describe the dependent variable"
   ]
  },
  {
   "cell_type": "code",
   "execution_count": 17,
   "metadata": {},
   "outputs": [
    {
     "data": {
      "text/html": [
       "<div>\n",
       "<style scoped>\n",
       "    .dataframe tbody tr th:only-of-type {\n",
       "        vertical-align: middle;\n",
       "    }\n",
       "\n",
       "    .dataframe tbody tr th {\n",
       "        vertical-align: top;\n",
       "    }\n",
       "\n",
       "    .dataframe thead th {\n",
       "        text-align: right;\n",
       "    }\n",
       "</style>\n",
       "<table border=\"1\" class=\"dataframe\">\n",
       "  <thead>\n",
       "    <tr style=\"text-align: right;\">\n",
       "      <th></th>\n",
       "      <th>raisedhands</th>\n",
       "      <th>VisITedResources</th>\n",
       "      <th>AnnouncementsView</th>\n",
       "      <th>Discussion</th>\n",
       "    </tr>\n",
       "  </thead>\n",
       "  <tbody>\n",
       "    <tr>\n",
       "      <th>count</th>\n",
       "      <td>480.000000</td>\n",
       "      <td>480.000000</td>\n",
       "      <td>480.000000</td>\n",
       "      <td>480.000000</td>\n",
       "    </tr>\n",
       "    <tr>\n",
       "      <th>mean</th>\n",
       "      <td>46.775000</td>\n",
       "      <td>54.797917</td>\n",
       "      <td>37.918750</td>\n",
       "      <td>43.283333</td>\n",
       "    </tr>\n",
       "    <tr>\n",
       "      <th>std</th>\n",
       "      <td>30.779223</td>\n",
       "      <td>33.080007</td>\n",
       "      <td>26.611244</td>\n",
       "      <td>27.637735</td>\n",
       "    </tr>\n",
       "    <tr>\n",
       "      <th>min</th>\n",
       "      <td>0.000000</td>\n",
       "      <td>0.000000</td>\n",
       "      <td>0.000000</td>\n",
       "      <td>1.000000</td>\n",
       "    </tr>\n",
       "    <tr>\n",
       "      <th>25%</th>\n",
       "      <td>15.750000</td>\n",
       "      <td>20.000000</td>\n",
       "      <td>14.000000</td>\n",
       "      <td>20.000000</td>\n",
       "    </tr>\n",
       "    <tr>\n",
       "      <th>50%</th>\n",
       "      <td>50.000000</td>\n",
       "      <td>65.000000</td>\n",
       "      <td>33.000000</td>\n",
       "      <td>39.000000</td>\n",
       "    </tr>\n",
       "    <tr>\n",
       "      <th>75%</th>\n",
       "      <td>75.000000</td>\n",
       "      <td>84.000000</td>\n",
       "      <td>58.000000</td>\n",
       "      <td>70.000000</td>\n",
       "    </tr>\n",
       "    <tr>\n",
       "      <th>max</th>\n",
       "      <td>100.000000</td>\n",
       "      <td>99.000000</td>\n",
       "      <td>98.000000</td>\n",
       "      <td>99.000000</td>\n",
       "    </tr>\n",
       "  </tbody>\n",
       "</table>\n",
       "</div>"
      ],
      "text/plain": [
       "       raisedhands  VisITedResources  AnnouncementsView  Discussion\n",
       "count   480.000000        480.000000         480.000000  480.000000\n",
       "mean     46.775000         54.797917          37.918750   43.283333\n",
       "std      30.779223         33.080007          26.611244   27.637735\n",
       "min       0.000000          0.000000           0.000000    1.000000\n",
       "25%      15.750000         20.000000          14.000000   20.000000\n",
       "50%      50.000000         65.000000          33.000000   39.000000\n",
       "75%      75.000000         84.000000          58.000000   70.000000\n",
       "max     100.000000         99.000000          98.000000   99.000000"
      ]
     },
     "execution_count": 17,
     "metadata": {},
     "output_type": "execute_result"
    }
   ],
   "source": [
    "student_data.select_dtypes(include=[\"int\"]).describe() ###Description of the independent variable continuous variable"
   ]
  },
  {
   "cell_type": "code",
   "execution_count": 230,
   "metadata": {
    "colab": {
     "base_uri": "https://localhost:8080/",
     "height": 922
    },
    "id": "xrrmmQnyBONi",
    "outputId": "dfe98b98-7f1d-49d7-fead-5976f4633f4f"
   },
   "outputs": [
    {
     "data": {
      "text/plain": [
       "(array([0.5, 1.5, 2.5, 3.5]),\n",
       " [Text(0, 0.5, 'raisedhands'),\n",
       "  Text(0, 1.5, 'VisITedResources'),\n",
       "  Text(0, 2.5, 'AnnouncementsView'),\n",
       "  Text(0, 3.5, 'Discussion')])"
      ]
     },
     "execution_count": 230,
     "metadata": {},
     "output_type": "execute_result"
    },
    {
     "data": {
      "image/png": "[encoded data removed]",
      "text/plain": [
       "<Figure size 1152x1152 with 2 Axes>"
      ]
     },
     "metadata": {
      "needs_background": "light"
     },
     "output_type": "display_data"
    }
   ],
   "source": [
    "corrmat = student_data.corr()\n",
    "plt.subplots(figsize=(16,16))\n",
    "sns.heatmap(corrmat, vmax = .8, \n",
    "            square = True, \n",
    "            linewidths=.1,\n",
    "            cmap=\"YlGnBu\", \n",
    "            annot=True)\n",
    "plt.yticks(rotation = 0)"
   ]
  },
  {
   "cell_type": "markdown",
   "metadata": {
    "id": "8wDpnws3T5li"
   },
   "source": [
    "# Define Machine Learning Classification Algorithms and Train Model\n",
    "\n",
    "### Models(Classifiers) -> Dataset Preprocessing (Feature Selection)\n",
    "### Models(Classifiers) <- Dataset Preprocessing (Feature Selection)\n",
    "\n",
    "##### Classification is one of the most important aspects of supervised learning. There are various classification algorithms like logistic regression, naive bayes, decision trees, random forests and many more.\n",
    "\n",
    "##### Different model with different algorithms has some strengths and limitations, so the ultimate objective of ensemble methods is to complement the models, in order to achieve higher prediction accuracy. "
   ]
  },
  {
   "cell_type": "markdown",
   "metadata": {
    "id": "_IhPqh9o5HTw"
   },
   "source": [
    "## 1. Train Model- Random Forest Classifier"
   ]
  },
  {
   "cell_type": "markdown",
   "metadata": {
    "id": "O6u4pxdC7JGx"
   },
   "source": [
    "##### Random forests is a supervised learning algorithm and an ensemble of decision tree algorithms. It is an extension of bootstrap aggregation (bagging) of decision trees and can be used for classification and regression problems. It is said that the more trees it has, the more robust a forest is. Random forests creates decision trees on randomly selected data samples, gets prediction from each tree and selects the best solution by means of voting. It also provides a pretty good indicator of the feature importance.\n",
    "\n",
    "In bagging, a number of decision trees are created where each tree is created from a different bootstrap sample of the training dataset. A bootstrap sample is referred to as sampling with replacement (small size of data set)."
   ]
  },
  {
   "cell_type": "markdown",
   "metadata": {
    "id": "AAPvoLVvNgax"
   },
   "source": [
    "### Prepare data for training and testing"
   ]
  },
  {
   "cell_type": "code",
   "execution_count": 19,
   "metadata": {
    "id": "XIZlYy0LihyI"
   },
   "outputs": [],
   "source": [
    "#### split data set into training set and test set\n",
    "\n",
    "x_train, x_test, y_train, y_test = train_test_split(x, y, test_size = 0.3)\n"
   ]
  },
  {
   "cell_type": "markdown",
   "metadata": {
    "id": "AMEpvzO9Nkgh"
   },
   "source": [
    "### Rescale Features - Standardization (StandardScaler)\n",
    "##### In this case, we need to ensure that values share a common property to reduce complexity and improve interpretability. Overall, our data doesn't has much outliers. Only if we add one dimension like Gender, which means that if we group the data by gender, there are some outliers. StandardScaler performs the task of Standardization. The idea behind StandardScaler is that it will transform your data such that its distribution will have a mean value 0 and standard deviation of 1. In case of multivariate data, this is done feature-wise (in other words independently for each column of the data)."
   ]
  },
  {
   "cell_type": "code",
   "execution_count": 20,
   "metadata": {
    "id": "x0dgAKbQjYlm"
   },
   "outputs": [],
   "source": [
    "sc = StandardScaler()\n",
    "\n",
    "sc.fit(x_train)\n",
    "\n",
    "x_train_std = sc.transform(x_train)\n",
    "x_test_std = sc.transform(x_test)"
   ]
  },
  {
   "cell_type": "markdown",
   "metadata": {
    "id": "HME-oMDGN6jA"
   },
   "source": [
    "### Train the model and check accuracy"
   ]
  },
  {
   "cell_type": "code",
   "execution_count": 21,
   "metadata": {
    "colab": {
     "base_uri": "https://localhost:8080/"
    },
    "id": "RnkX3S0akfTl",
    "outputId": "e71ffff0-b2fe-4aab-b393-8beec89434eb"
   },
   "outputs": [
    {
     "name": "stdout",
     "output_type": "stream",
     "text": [
      "Accuracy: 0.7777777777777778\n"
     ]
    }
   ],
   "source": [
    "#Create a Gaussian Classifier\n",
    "clf=RandomForestClassifier(n_estimators=110, max_features=8, oob_score=True, random_state=100)\n",
    "\n",
    "#Train the model using the training sets y_pred=clf.predict(X_test)\n",
    "clf.fit(x_train_std,y_train)\n",
    "y_pred=clf.predict(x_test_std)\n",
    "\n",
    "# Model Accuracy, how often is the classifier correct?\n",
    "print(\"Accuracy:\",metrics.accuracy_score(y_test, y_pred))"
   ]
  },
  {
   "cell_type": "markdown",
   "metadata": {
    "id": "XqPfGfXwlPI7"
   },
   "source": [
    "### Features Selection\n",
    "##### a) Descriptive Statistics\n",
    "##### b) Statistics Visualization"
   ]
  },
  {
   "cell_type": "code",
   "execution_count": 22,
   "metadata": {
    "colab": {
     "base_uri": "https://localhost:8080/"
    },
    "id": "zPO7NqW2lSnf",
    "outputId": "53bb36fa-4ea2-4db0-ea95-fb068ee09179"
   },
   "outputs": [
    {
     "data": {
      "text/plain": [
       "VisITedResources              0.177591\n",
       "raisedhands                   0.141303\n",
       "AnnouncementsView             0.112444\n",
       "StudentAbsenceDays_Under-7    0.107817\n",
       "Discussion                    0.087840\n",
       "ParentAnsweringSurvey_Yes     0.039140\n",
       "Relation_Mum                  0.039083\n",
       "gender_M                      0.030704\n",
       "SectionID_B                   0.014271\n",
       "Semester_S                    0.013558\n",
       "PlaceofBirth_Jordan           0.012806\n",
       "PlaceofBirth_KuwaIT           0.011669\n",
       "NationalITy_KW                0.011135\n",
       "Topic_English                 0.010527\n",
       "GradeID_G-04                  0.009880\n",
       "Topic_IT                      0.009801\n",
       "GradeID_G-08                  0.009776\n",
       "Topic_French                  0.009638\n",
       "StageID_lowerlevel            0.009602\n",
       "SectionID_C                   0.009536\n",
       "NationalITy_Jordan            0.009353\n",
       "StageID_MiddleSchool          0.009349\n",
       "Topic_Science                 0.008457\n",
       "Topic_Chemistry               0.008044\n",
       "GradeID_G-07                  0.007879\n",
       "PlaceofBirth_SaudiArabia      0.006396\n",
       "GradeID_G-06                  0.006081\n",
       "PlaceofBirth_lebanon          0.005674\n",
       "Topic_Geology                 0.005542\n",
       "Topic_History                 0.004252\n",
       "NationalITy_Iraq              0.004035\n",
       "NationalITy_Palestine         0.004023\n",
       "PlaceofBirth_Iraq             0.003995\n",
       "Topic_Spanish                 0.003952\n",
       "Topic_Quran                   0.003951\n",
       "NationalITy_lebanon           0.003705\n",
       "NationalITy_SaudiArabia       0.003390\n",
       "Topic_Biology                 0.003233\n",
       "Topic_Math                    0.003185\n",
       "PlaceofBirth_USA              0.003100\n",
       "GradeID_G-11                  0.002688\n",
       "PlaceofBirth_Palestine        0.002233\n",
       "NationalITy_Tunis             0.002147\n",
       "NationalITy_Lybia             0.001819\n",
       "PlaceofBirth_Syria            0.001757\n",
       "GradeID_G-12                  0.001693\n",
       "NationalITy_Syria             0.001610\n",
       "NationalITy_Iran              0.001458\n",
       "PlaceofBirth_Iran             0.001325\n",
       "PlaceofBirth_Lybia            0.001300\n",
       "NationalITy_Morocco           0.001125\n",
       "PlaceofBirth_Tunis            0.001079\n",
       "PlaceofBirth_Morocco          0.001066\n",
       "NationalITy_USA               0.000930\n",
       "GradeID_G-10                  0.000836\n",
       "GradeID_G-09                  0.000643\n",
       "GradeID_G-05                  0.000576\n",
       "NationalITy_venzuela          0.000000\n",
       "PlaceofBirth_venzuela         0.000000\n",
       "dtype: float64"
      ]
     },
     "execution_count": 22,
     "metadata": {},
     "output_type": "execute_result"
    }
   ],
   "source": [
    "##### a) Descriptive Statistics\n",
    "feature_imp = pd.Series(clf.feature_importances_, index=x.columns).sort_values(ascending=False)\n",
    "feature_imp"
   ]
  },
  {
   "cell_type": "code",
   "execution_count": 23,
   "metadata": {
    "colab": {
     "base_uri": "https://localhost:8080/",
     "height": 1000
    },
    "id": "NzAZ6S6Tn7lX",
    "outputId": "496fa1e3-7258-46d6-82b8-c2b04fd88c13"
   },
   "outputs": [
    {
     "name": "stderr",
     "output_type": "stream",
     "text": [
      "No handles with labels found to put in legend.\n"
     ]
    },
    {
     "data": {
      "image/png": "[encoded data removed]",
      "text/plain": [
       "<Figure size 1080x1440 with 1 Axes>"
      ]
     },
     "metadata": {
      "needs_background": "light"
     },
     "output_type": "display_data"
    }
   ],
   "source": [
    "##### b) Statistics Visualization\n",
    "\n",
    "%matplotlib inline\n",
    "# Creating a bar plot\n",
    "plt.figure(figsize=(15,20))\n",
    "sns.barplot(x=feature_imp, y=feature_imp.index)\n",
    "# Add labels to your graph\n",
    "plt.xlabel('Feature Importance Score')\n",
    "plt.ylabel('Features')\n",
    "plt.title(\"Visualizing Important Features\")\n",
    "plt.legend()\n",
    "plt.show()"
   ]
  },
  {
   "cell_type": "markdown",
   "metadata": {
    "id": "QONngKMBCI5U"
   },
   "source": [
    "### Improve the model accuracy by features selection"
   ]
  },
  {
   "cell_type": "code",
   "execution_count": 24,
   "metadata": {
    "id": "DERsM8yypM98"
   },
   "outputs": [],
   "source": [
    "x_new = pd.get_dummies(student_data.drop(['ParentschoolSatisfaction', 'NationalITy',\n",
    "                                          'Semester', 'Class','PlaceofBirth',\n",
    "                                          'Class_numeric'],axis=1),\n",
    "                   columns=['gender', 'StageID','GradeID', 'SectionID',\n",
    "                            'Topic', 'Relation','ParentAnsweringSurvey',\n",
    "                            'StudentAbsenceDays'],\n",
    "                  drop_first = True)\n",
    "\n",
    "y = student_data['Class_numeric']"
   ]
  },
  {
   "cell_type": "code",
   "execution_count": 25,
   "metadata": {},
   "outputs": [
    {
     "data": {
      "text/html": [
       "<div>\n",
       "<style scoped>\n",
       "    .dataframe tbody tr th:only-of-type {\n",
       "        vertical-align: middle;\n",
       "    }\n",
       "\n",
       "    .dataframe tbody tr th {\n",
       "        vertical-align: top;\n",
       "    }\n",
       "\n",
       "    .dataframe thead th {\n",
       "        text-align: right;\n",
       "    }\n",
       "</style>\n",
       "<table border=\"1\" class=\"dataframe\">\n",
       "  <thead>\n",
       "    <tr style=\"text-align: right;\">\n",
       "      <th></th>\n",
       "      <th>gender</th>\n",
       "      <th>NationalITy</th>\n",
       "      <th>PlaceofBirth</th>\n",
       "      <th>StageID</th>\n",
       "      <th>GradeID</th>\n",
       "      <th>SectionID</th>\n",
       "      <th>Topic</th>\n",
       "      <th>Semester</th>\n",
       "      <th>Relation</th>\n",
       "      <th>raisedhands</th>\n",
       "      <th>VisITedResources</th>\n",
       "      <th>AnnouncementsView</th>\n",
       "      <th>Discussion</th>\n",
       "      <th>ParentAnsweringSurvey</th>\n",
       "      <th>ParentschoolSatisfaction</th>\n",
       "      <th>StudentAbsenceDays</th>\n",
       "      <th>Class</th>\n",
       "      <th>Class_numeric</th>\n",
       "    </tr>\n",
       "  </thead>\n",
       "  <tbody>\n",
       "    <tr>\n",
       "      <th>0</th>\n",
       "      <td>M</td>\n",
       "      <td>KW</td>\n",
       "      <td>KuwaIT</td>\n",
       "      <td>lowerlevel</td>\n",
       "      <td>G-04</td>\n",
       "      <td>A</td>\n",
       "      <td>IT</td>\n",
       "      <td>F</td>\n",
       "      <td>Father</td>\n",
       "      <td>15</td>\n",
       "      <td>16</td>\n",
       "      <td>2</td>\n",
       "      <td>20</td>\n",
       "      <td>Yes</td>\n",
       "      <td>Good</td>\n",
       "      <td>Under-7</td>\n",
       "      <td>M</td>\n",
       "      <td>1</td>\n",
       "    </tr>\n",
       "    <tr>\n",
       "      <th>1</th>\n",
       "      <td>M</td>\n",
       "      <td>KW</td>\n",
       "      <td>KuwaIT</td>\n",
       "      <td>lowerlevel</td>\n",
       "      <td>G-04</td>\n",
       "      <td>A</td>\n",
       "      <td>IT</td>\n",
       "      <td>F</td>\n",
       "      <td>Father</td>\n",
       "      <td>20</td>\n",
       "      <td>20</td>\n",
       "      <td>3</td>\n",
       "      <td>25</td>\n",
       "      <td>Yes</td>\n",
       "      <td>Good</td>\n",
       "      <td>Under-7</td>\n",
       "      <td>M</td>\n",
       "      <td>1</td>\n",
       "    </tr>\n",
       "    <tr>\n",
       "      <th>2</th>\n",
       "      <td>M</td>\n",
       "      <td>KW</td>\n",
       "      <td>KuwaIT</td>\n",
       "      <td>lowerlevel</td>\n",
       "      <td>G-04</td>\n",
       "      <td>A</td>\n",
       "      <td>IT</td>\n",
       "      <td>F</td>\n",
       "      <td>Father</td>\n",
       "      <td>10</td>\n",
       "      <td>7</td>\n",
       "      <td>0</td>\n",
       "      <td>30</td>\n",
       "      <td>No</td>\n",
       "      <td>Bad</td>\n",
       "      <td>Above-7</td>\n",
       "      <td>L</td>\n",
       "      <td>0</td>\n",
       "    </tr>\n",
       "    <tr>\n",
       "      <th>3</th>\n",
       "      <td>M</td>\n",
       "      <td>KW</td>\n",
       "      <td>KuwaIT</td>\n",
       "      <td>lowerlevel</td>\n",
       "      <td>G-04</td>\n",
       "      <td>A</td>\n",
       "      <td>IT</td>\n",
       "      <td>F</td>\n",
       "      <td>Father</td>\n",
       "      <td>30</td>\n",
       "      <td>25</td>\n",
       "      <td>5</td>\n",
       "      <td>35</td>\n",
       "      <td>No</td>\n",
       "      <td>Bad</td>\n",
       "      <td>Above-7</td>\n",
       "      <td>L</td>\n",
       "      <td>0</td>\n",
       "    </tr>\n",
       "    <tr>\n",
       "      <th>4</th>\n",
       "      <td>M</td>\n",
       "      <td>KW</td>\n",
       "      <td>KuwaIT</td>\n",
       "      <td>lowerlevel</td>\n",
       "      <td>G-04</td>\n",
       "      <td>A</td>\n",
       "      <td>IT</td>\n",
       "      <td>F</td>\n",
       "      <td>Father</td>\n",
       "      <td>40</td>\n",
       "      <td>50</td>\n",
       "      <td>12</td>\n",
       "      <td>50</td>\n",
       "      <td>No</td>\n",
       "      <td>Bad</td>\n",
       "      <td>Above-7</td>\n",
       "      <td>M</td>\n",
       "      <td>1</td>\n",
       "    </tr>\n",
       "  </tbody>\n",
       "</table>\n",
       "</div>"
      ],
      "text/plain": [
       "  gender NationalITy PlaceofBirth     StageID GradeID SectionID Topic  \\\n",
       "0      M          KW       KuwaIT  lowerlevel    G-04         A    IT   \n",
       "1      M          KW       KuwaIT  lowerlevel    G-04         A    IT   \n",
       "2      M          KW       KuwaIT  lowerlevel    G-04         A    IT   \n",
       "3      M          KW       KuwaIT  lowerlevel    G-04         A    IT   \n",
       "4      M          KW       KuwaIT  lowerlevel    G-04         A    IT   \n",
       "\n",
       "  Semester Relation  raisedhands  VisITedResources  AnnouncementsView  \\\n",
       "0        F   Father           15                16                  2   \n",
       "1        F   Father           20                20                  3   \n",
       "2        F   Father           10                 7                  0   \n",
       "3        F   Father           30                25                  5   \n",
       "4        F   Father           40                50                 12   \n",
       "\n",
       "   Discussion ParentAnsweringSurvey ParentschoolSatisfaction  \\\n",
       "0          20                   Yes                     Good   \n",
       "1          25                   Yes                     Good   \n",
       "2          30                    No                      Bad   \n",
       "3          35                    No                      Bad   \n",
       "4          50                    No                      Bad   \n",
       "\n",
       "  StudentAbsenceDays Class Class_numeric  \n",
       "0            Under-7     M             1  \n",
       "1            Under-7     M             1  \n",
       "2            Above-7     L             0  \n",
       "3            Above-7     L             0  \n",
       "4            Above-7     M             1  "
      ]
     },
     "execution_count": 25,
     "metadata": {},
     "output_type": "execute_result"
    }
   ],
   "source": [
    "student_data.head() ###View current feature values"
   ]
  },
  {
   "cell_type": "code",
   "execution_count": 26,
   "metadata": {
    "colab": {
     "base_uri": "https://localhost:8080/"
    },
    "id": "5qoXwTa7qy_G",
    "outputId": "d5e760f2-4764-4de2-b5e6-8bb38abad663"
   },
   "outputs": [
    {
     "data": {
      "text/plain": [
       "(480, 32)"
      ]
     },
     "execution_count": 26,
     "metadata": {},
     "output_type": "execute_result"
    }
   ],
   "source": [
    "x_new.shape"
   ]
  },
  {
   "cell_type": "code",
   "execution_count": 27,
   "metadata": {
    "colab": {
     "base_uri": "https://localhost:8080/"
    },
    "id": "E4_iUd5WrXyk",
    "outputId": "26b00e32-85cb-4470-99b4-18b0880c2770"
   },
   "outputs": [
    {
     "name": "stdout",
     "output_type": "stream",
     "text": [
      "Accuracy: 0.8611111111111112\n"
     ]
    }
   ],
   "source": [
    "# Random Forest Classifier\n",
    "##a = 0    \n",
    "while (1):\n",
    "    x_new_train, x_new_test, y_train, y_test = train_test_split(x_new, y, test_size = 0.3)\n",
    "    sc = StandardScaler()\n",
    "    sc.fit(x_new_train)\n",
    "    x_new_train_std = sc.transform(x_new_train)\n",
    "    x_test_std = sc.transform(x_new_test)\n",
    "    #a =a + 1\n",
    "    clf=RandomForestClassifier(n_estimators=144, max_features=7, oob_score=True, random_state=100)\n",
    "    #Train the model using the training sets y_pred=clf.predict(X_test)\n",
    "    clf.fit(x_new_train_std,y_train)\n",
    "    y_pred=clf.predict(x_test_std)\n",
    "    output = metrics.accuracy_score(y_test, y_pred)          \n",
    "    if output > 0.86:\n",
    "        ##or a > 200: #80 #144 #76 #85    #195 #100 #196 #152 \n",
    "        ##print(12+a)\n",
    "        print(\"Accuracy:\",output)\n",
    "        break\n"
   ]
  },
  {
   "cell_type": "code",
   "execution_count": 28,
   "metadata": {},
   "outputs": [
    {
     "name": "stdout",
     "output_type": "stream",
     "text": [
      "[ 1.34956621  1.0803391   1.98035936  1.44954743  0.76479125  1.0059702\n",
      " -0.90344685 -0.32444284 -0.0949158  -0.28960485  2.12325145 -0.55901699\n",
      " -0.0949158  -0.05463584 -0.14586499 -0.14586499 -0.75504534 -0.2773501\n",
      "  3.77792632 -0.20851441 -0.3300165  -0.44241331 -0.2236068  -0.20061824\n",
      " -0.48038446 -0.20061824 -0.20851441 -0.31311215 -0.2515773  -0.8712992\n",
      "  0.87659629  0.82462113] 0\n",
      "[ 0.79941476  0.59501254  1.08605578 -0.08530499  0.76479125  1.0059702\n",
      " -0.90344685 -0.32444284 -0.0949158  -0.28960485 -0.47097578  1.78885438\n",
      " -0.0949158  -0.05463584 -0.14586499 -0.14586499 -0.75504534 -0.2773501\n",
      " -0.26469547  4.79583152 -0.3300165  -0.44241331 -0.2236068  -0.20061824\n",
      " -0.48038446 -0.20061824 -0.20851441 -0.31311215 -0.2515773   1.14771137\n",
      "  0.87659629 -1.21267813] 1\n",
      "[-0.78631591  0.77701    -0.70255137 -0.44224741 -1.30754634 -0.99406523\n",
      "  1.10687197 -0.32444284 -0.0949158  -0.28960485 -0.47097578 -0.55901699\n",
      " -0.0949158  -0.05463584 -0.14586499 -0.14586499  1.32442378 -0.2773501\n",
      " -0.26469547 -0.20851441 -0.3300165   2.26032982 -0.2236068  -0.20061824\n",
      " -0.48038446 -0.20061824 -0.20851441 -0.31311215 -0.2515773   1.14771137\n",
      " -1.14077599  0.82462113] 0\n",
      "[ 1.70554657  0.71634418  2.21365594  1.69940712 -1.30754634  1.0059702\n",
      " -0.90344685 -0.32444284 -0.0949158  -0.28960485  2.12325145 -0.55901699\n",
      " -0.0949158  -0.05463584 -0.14586499 -0.14586499 -0.75504534 -0.2773501\n",
      " -0.26469547 -0.20851441 -0.3300165  -0.44241331 -0.2236068  -0.20061824\n",
      " -0.48038446 -0.20061824  4.79583152 -0.31311215 -0.2515773   1.14771137\n",
      " -1.14077599  0.82462113] 2\n",
      "[-1.20701997 -1.46762537 -1.13026178 -1.40599195  0.76479125 -0.99406523\n",
      "  1.10687197 -0.32444284 -0.0949158  -0.28960485 -0.47097578 -0.55901699\n",
      " -0.0949158  -0.05463584 -0.14586499 -0.14586499 -0.75504534 -0.2773501\n",
      " -0.26469547 -0.20851441 -0.3300165   2.26032982 -0.2236068  -0.20061824\n",
      " -0.48038446 -0.20061824 -0.20851441 -0.31311215 -0.2515773   1.14771137\n",
      " -1.14077599 -1.21267813] 2\n",
      "[-0.20380261 -0.52730515 -0.11930991 -0.12099923  0.76479125  1.0059702\n",
      " -0.90344685 -0.32444284 -0.0949158   3.45298087 -0.47097578 -0.55901699\n",
      " -0.0949158  -0.05463584 -0.14586499 -0.14586499 -0.75504534 -0.2773501\n",
      " -0.26469547 -0.20851441  3.03015151 -0.44241331 -0.2236068  -0.20061824\n",
      " -0.48038446 -0.20061824 -0.20851441 -0.31311215 -0.2515773  -0.8712992\n",
      "  0.87659629 -1.21267813] 1\n",
      "[ 1.22011881  1.29266947  0.15286944  1.69940712 -1.30754634  1.0059702\n",
      " -0.90344685 -0.32444284 -0.0949158  -0.28960485 -0.47097578  1.78885438\n",
      " -0.0949158  -0.05463584 -0.14586499 -0.14586499 -0.75504534 -0.2773501\n",
      " -0.26469547  4.79583152 -0.3300165  -0.44241331 -0.2236068  -0.20061824\n",
      " -0.48038446 -0.20061824 -0.20851441 -0.31311215 -0.2515773   1.14771137\n",
      "  0.87659629  0.82462113] 0\n",
      "[-1.14229627 -1.46762537 -0.7803169  -0.58502438  0.76479125  1.0059702\n",
      " -0.90344685 -0.32444284 -0.0949158  -0.28960485  2.12325145 -0.55901699\n",
      " -0.0949158  -0.05463584 -0.14586499 -0.14586499  1.32442378 -0.2773501\n",
      " -0.26469547 -0.20851441 -0.3300165  -0.44241331 -0.2236068  -0.20061824\n",
      " -0.48038446 -0.20061824 -0.20851441  3.19374388 -0.2515773  -0.8712992\n",
      " -1.14077599 -1.21267813] 1\n",
      "[ 0.08745405  0.17035179  1.35823513  0.02177774 -1.30754634 -0.99406523\n",
      "  1.10687197 -0.32444284 -0.0949158  -0.28960485 -0.47097578 -0.55901699\n",
      " -0.0949158  -0.05463584 -0.14586499 -0.14586499  1.32442378 -0.2773501\n",
      " -0.26469547 -0.20851441 -0.3300165   2.26032982 -0.2236068  -0.20061824\n",
      " -0.48038446 -0.20061824 -0.20851441 -0.31311215 -0.2515773  -0.8712992\n",
      "  0.87659629 -1.21267813] 1\n",
      "[ 0.5728818   0.07935306  1.39711789  1.44954743  0.76479125 -0.99406523\n",
      "  1.10687197  3.082207   -0.0949158  -0.28960485 -0.47097578 -0.55901699\n",
      " -0.0949158  -0.05463584 -0.14586499 -0.14586499  1.32442378 -0.2773501\n",
      " -0.26469547 -0.20851441 -0.3300165  -0.44241331 -0.2236068  -0.20061824\n",
      " -0.48038446 -0.20061824 -0.20851441  3.19374388 -0.2515773   1.14771137\n",
      "  0.87659629  0.82462113] 1\n"
     ]
    }
   ],
   "source": [
    "# connect predictions with outputs\n",
    "for i in range(10):\n",
    "\tprint(x_new_train_std[i], y_pred[i])"
   ]
  },
  {
   "cell_type": "markdown",
   "metadata": {},
   "source": [
    "## 2. Train Model - DecisionTreeClassifier"
   ]
  },
  {
   "cell_type": "code",
   "execution_count": 29,
   "metadata": {},
   "outputs": [
    {
     "name": "stdout",
     "output_type": "stream",
     "text": [
      "Accuracy: 0.8055555555555556\n"
     ]
    }
   ],
   "source": [
    "# DecisionTreeClassifier\n",
    "dt = DecisionTreeClassifier(max_depth=7, min_samples_split=4, min_samples_leaf=1, random_state=1)\n",
    "dt.fit(x_new_train_std,y_train)\n",
    "dtpred = dt.predict(x_test_std)\n",
    "print(\"Accuracy:\",metrics.accuracy_score(y_test, dtpred))    "
   ]
  },
  {
   "cell_type": "markdown",
   "metadata": {},
   "source": [
    "## 3. Train Model - KNeighborsClassifier"
   ]
  },
  {
   "cell_type": "code",
   "execution_count": 303,
   "metadata": {},
   "outputs": [
    {
     "name": "stdout",
     "output_type": "stream",
     "text": [
      "Accuracy: 0.6319444444444444\n"
     ]
    }
   ],
   "source": [
    "# KNeighborsClassifier\n",
    "knn = KNeighborsClassifier()\n",
    "knn.fit(x_new_train_std,y_train)\n",
    "knnpred = knn.predict(x_test_std)\n",
    "\n",
    "print(\"Accuracy:\",metrics.accuracy_score(y_test, knnpred))    "
   ]
  },
  {
   "cell_type": "markdown",
   "metadata": {},
   "source": [
    "## 4. Train Model - Logistic Regression"
   ]
  },
  {
   "cell_type": "code",
   "execution_count": 304,
   "metadata": {},
   "outputs": [
    {
     "name": "stdout",
     "output_type": "stream",
     "text": [
      "Accuracy: 0.8333333333333334\n"
     ]
    }
   ],
   "source": [
    "# Logistic Regression\n",
    "Lr = LogisticRegression()\n",
    "Lr.fit(x_new_train_std,y_train)\n",
    "Lrpred = Lr.predict(x_test_std)\n",
    "print(\"Accuracy:\",metrics.accuracy_score(y_test, Lrpred))   "
   ]
  },
  {
   "cell_type": "markdown",
   "metadata": {
    "id": "4YDLCJWHfqIS"
   },
   "source": [
    "## 5. Train Model- XGBoost (eXtreme Gradient Boosting).\n",
    "#### XGBoost is a popular supervised-learning algorithm used for regression and classification on large datasets. It uses sequentially-built shallow decision trees to provide accurate results and a highly-scalable training method that avoids overfitting."
   ]
  },
  {
   "cell_type": "markdown",
   "metadata": {
    "id": "wrBK-KlYgbLJ"
   },
   "source": [
    "### Load requried Libraries"
   ]
  },
  {
   "cell_type": "code",
   "execution_count": 256,
   "metadata": {
    "id": "KmGVLp7CglI0"
   },
   "outputs": [
    {
     "ename": "SyntaxError",
     "evalue": "invalid syntax (Temp/ipykernel_6720/2810821042.py, line 1)",
     "output_type": "error",
     "traceback": [
      "\u001b[1;36m  File \u001b[1;32m\"C:\\Users\\cs321\\AppData\\Local\\Temp/ipykernel_6720/2810821042.py\"\u001b[1;36m, line \u001b[1;32m1\u001b[0m\n\u001b[1;33m    pip xgboost\u001b[0m\n\u001b[1;37m        ^\u001b[0m\n\u001b[1;31mSyntaxError\u001b[0m\u001b[1;31m:\u001b[0m invalid syntax\n"
     ]
    }
   ],
   "source": [
    "from xgboost import XGBClassifier\n",
    "from sklearn.metrics import confusion_matrix\n",
    "from sklearn.model_selection import train_test_split\n",
    "from sklearn.model_selection import cross_val_score, KFold"
   ]
  },
  {
   "cell_type": "markdown",
   "metadata": {
    "id": "GIIn24cn5Tc-"
   },
   "source": [
    "### Train the XGBoost model\n",
    "### and\n",
    "### Check the training accuracy with cross-validation and k-fold methods"
   ]
  },
  {
   "cell_type": "code",
   "execution_count": null,
   "metadata": {
    "id": "0tqz7Bbg0MN5"
   },
   "outputs": [],
   "source": [
    "#### split data set into training set and test set\n",
    "x_train, x_test, y_train, y_test = train_test_split(x, y, test_size = 0.2)\n",
    "\n",
    "#### standardization\n",
    "sc = StandardScaler()\n",
    "sc.fit(x_train)\n",
    "x_train_std = sc.transform(x_train)\n",
    "x_test_std = sc.transform(x_test)"
   ]
  },
  {
   "cell_type": "code",
   "execution_count": null,
   "metadata": {
    "colab": {
     "base_uri": "https://localhost:8080/"
    },
    "id": "r1HcpCmRlmEQ",
    "outputId": "23fac91c-50e0-4573-d251-e4a7906a994d"
   },
   "outputs": [
    {
     "name": "stdout",
     "output_type": "stream",
     "text": [
      "Mean cross-validation score: 0.75\n",
      "K-fold CV average score: 0.73\n",
      "Accuracy: 0.8125\n"
     ]
    }
   ],
   "source": [
    "\n",
    "\n",
    "#### use the XGBoost Classifier\n",
    "xgbc = XGBClassifier(base_score=0.5, booster='gbtree', colsample_bylevel=1,\n",
    "       colsample_bynode=1, colsample_bytree=1, gamma=0, learning_rate=0.06,\n",
    "       max_delta_step=0, max_depth=5, min_child_weight=1, missing=None,\n",
    "       n_estimators=110, n_jobs=1, nthread=None,\n",
    "       objective='multi:softprob', random_state=0, reg_alpha=0,\n",
    "       reg_lambda=1, scale_pos_weight=1, seed=None, silent=None,\n",
    "       subsample=1, verbosity=1)\n",
    "#### train the model\n",
    "xgbc.fit(x_train_std, y_train)\n",
    "y_pred=xgbc.predict(x_test_std)\n",
    "\n",
    "#### check the training accuracy with cross-validation and k-fold methods.\n",
    "\n",
    "scores = cross_val_score(xgbc, x_train_std, y_train, cv=5)\n",
    "print(\"Mean cross-validation score: %.2f\" % scores.mean())\n",
    "\n",
    "kfold = KFold(n_splits=10, shuffle=True)\n",
    "kf_cv_scores = cross_val_score(xgbc, x_train_std, y_train, cv=kfold )\n",
    "print(\"K-fold CV average score: %.2f\" % kf_cv_scores.mean())\n",
    "\n",
    "print(\"Accuracy:\",metrics.accuracy_score(y_test, y_pred))\n",
    "\n"
   ]
  },
  {
   "cell_type": "markdown",
   "metadata": {
    "id": "SBkmzpN24Toy"
   },
   "source": [
    "### XGBoost Model Improvement after Feature Re-selection"
   ]
  },
  {
   "cell_type": "code",
   "execution_count": 210,
   "metadata": {
    "id": "9_AxylS04gY3"
   },
   "outputs": [],
   "source": [
    "x_new = pd.get_dummies(student_data.drop(['ParentschoolSatisfaction', 'NationalITy',\n",
    "                                          'Semester', 'Class','PlaceofBirth',\n",
    "                                          'Class_numeric'],axis=1),\n",
    "                   columns=['gender', 'StageID','GradeID', 'SectionID',\n",
    "                            'Topic', 'Relation','ParentAnsweringSurvey',\n",
    "                            'StudentAbsenceDays'],\n",
    "                  drop_first = True)\n",
    "y = student_data['Class_numeric']\n",
    "\n",
    "x_new_train, x_new_test, y_train, y_test = train_test_split(x_new, y, test_size = 0.3)\n",
    "\n",
    "sc = StandardScaler()\n",
    "sc.fit(x_new_train)\n",
    "x_new_train_std = sc.transform(x_new_train)\n",
    "x_test_std = sc.transform(x_new_test)\n",
    "\n"
   ]
  },
  {
   "cell_type": "code",
   "execution_count": 211,
   "metadata": {
    "colab": {
     "base_uri": "https://localhost:8080/"
    },
    "id": "DLi7gUkM4wqI",
    "outputId": "d4884f39-6e3e-4b06-9710-99d1c5f9aec4"
   },
   "outputs": [
    {
     "ename": "NameError",
     "evalue": "name 'XGBClassifier' is not defined",
     "output_type": "error",
     "traceback": [
      "\u001b[1;31m---------------------------------------------------------------------------\u001b[0m",
      "\u001b[1;31mNameError\u001b[0m                                 Traceback (most recent call last)",
      "\u001b[1;32m~\\AppData\\Local\\Temp/ipykernel_6720/1394075489.py\u001b[0m in \u001b[0;36m<module>\u001b[1;34m\u001b[0m\n\u001b[1;32m----> 1\u001b[1;33m xgbc = XGBClassifier(base_score=0.5, booster='gbtree', colsample_bylevel=1,\n\u001b[0m\u001b[0;32m      2\u001b[0m        \u001b[0mcolsample_bynode\u001b[0m\u001b[1;33m=\u001b[0m\u001b[1;36m1\u001b[0m\u001b[1;33m,\u001b[0m \u001b[0mcolsample_bytree\u001b[0m\u001b[1;33m=\u001b[0m\u001b[1;36m1\u001b[0m\u001b[1;33m,\u001b[0m \u001b[0mgamma\u001b[0m\u001b[1;33m=\u001b[0m\u001b[1;36m0\u001b[0m\u001b[1;33m,\u001b[0m \u001b[0mlearning_rate\u001b[0m\u001b[1;33m=\u001b[0m\u001b[1;36m0.06\u001b[0m\u001b[1;33m,\u001b[0m\u001b[1;33m\u001b[0m\u001b[1;33m\u001b[0m\u001b[0m\n\u001b[0;32m      3\u001b[0m        \u001b[0mmax_delta_step\u001b[0m\u001b[1;33m=\u001b[0m\u001b[1;36m0\u001b[0m\u001b[1;33m,\u001b[0m \u001b[0mmax_depth\u001b[0m\u001b[1;33m=\u001b[0m\u001b[1;36m5\u001b[0m\u001b[1;33m,\u001b[0m \u001b[0mmin_child_weight\u001b[0m\u001b[1;33m=\u001b[0m\u001b[1;36m1\u001b[0m\u001b[1;33m,\u001b[0m \u001b[0mmissing\u001b[0m\u001b[1;33m=\u001b[0m\u001b[1;32mNone\u001b[0m\u001b[1;33m,\u001b[0m\u001b[1;33m\u001b[0m\u001b[1;33m\u001b[0m\u001b[0m\n\u001b[0;32m      4\u001b[0m        \u001b[0mn_estimators\u001b[0m\u001b[1;33m=\u001b[0m\u001b[1;36m110\u001b[0m\u001b[1;33m,\u001b[0m \u001b[0mn_jobs\u001b[0m\u001b[1;33m=\u001b[0m\u001b[1;36m1\u001b[0m\u001b[1;33m,\u001b[0m \u001b[0mnthread\u001b[0m\u001b[1;33m=\u001b[0m\u001b[1;32mNone\u001b[0m\u001b[1;33m,\u001b[0m\u001b[1;33m\u001b[0m\u001b[1;33m\u001b[0m\u001b[0m\n\u001b[0;32m      5\u001b[0m        \u001b[0mobjective\u001b[0m\u001b[1;33m=\u001b[0m\u001b[1;34m'multi:softprob'\u001b[0m\u001b[1;33m,\u001b[0m \u001b[0mrandom_state\u001b[0m\u001b[1;33m=\u001b[0m\u001b[1;36m0\u001b[0m\u001b[1;33m,\u001b[0m \u001b[0mreg_alpha\u001b[0m\u001b[1;33m=\u001b[0m\u001b[1;36m0\u001b[0m\u001b[1;33m,\u001b[0m\u001b[1;33m\u001b[0m\u001b[1;33m\u001b[0m\u001b[0m\n",
      "\u001b[1;31mNameError\u001b[0m: name 'XGBClassifier' is not defined"
     ]
    }
   ],
   "source": [
    "xgbc = XGBClassifier(base_score=0.5, booster='gbtree', colsample_bylevel=1,\n",
    "       colsample_bynode=1, colsample_bytree=1, gamma=0, learning_rate=0.06,\n",
    "       max_delta_step=0, max_depth=5, min_child_weight=1, missing=None,\n",
    "       n_estimators=110, n_jobs=1, nthread=None,\n",
    "       objective='multi:softprob', random_state=0, reg_alpha=0,\n",
    "       reg_lambda=1, scale_pos_weight=1, seed=None, silent=None,\n",
    "       subsample=1, verbosity=1)\n",
    "#### train the model\n",
    "xgbc.fit(x_new_train_std, y_train)\n",
    "y_pred=xgbc.predict(x_test_std)\n",
    "\n",
    "#### check the training accuracy with cross-validation and k-fold methods.\n",
    "\n",
    "scores = cross_val_score(xgbc, x_new_train_std, y_train, cv=5)\n",
    "print(\"Mean cross-validation score: %.2f\" % scores.mean())\n",
    "\n",
    "kfold = KFold(n_splits=10, shuffle=True)\n",
    "kf_cv_scores = cross_val_score(xgbc, x_new_train_std, y_train, cv=kfold )\n",
    "print(\"K-fold CV average score: %.2f\" % kf_cv_scores.mean())\n",
    "\n",
    "print(\"Accuracy:\",metrics.accuracy_score(y_test, y_pred))"
   ]
  }
 ],
 "metadata": {
  "colab": {
   "collapsed_sections": [],
   "name": "Student Performance.ipynb",
   "provenance": []
  },
  "kernelspec": {
   "display_name": "Python 3 (ipykernel)",
   "language": "python",
   "name": "python3"
  },
  "language_info": {
   "codemirror_mode": {
    "name": "ipython",
    "version": 3
   },
   "file_extension": ".py",
   "mimetype": "text/x-python",
   "name": "python",
   "nbconvert_exporter": "python",
   "pygments_lexer": "ipython3",
   "version": "3.9.7"
  }
 },
 "nbformat": 4,
 "nbformat_minor": 1
}
